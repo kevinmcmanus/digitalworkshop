{
 "cells": [
  {
   "cell_type": "markdown",
   "metadata": {
    "colab_type": "text",
    "id": "rtieU673kOiz"
   },
   "source": [
    "# An Introduction to Pandas \n"
   ]
  },
  {
   "cell_type": "markdown",
   "metadata": {
    "colab_type": "text",
    "id": "YzJwx49KE-m3"
   },
   "source": [
    "## Basic Pandas Concepts\n",
    "\n",
    "Some very basic Pandas and python concepts to get started"
   ]
  },
  {
   "cell_type": "markdown",
   "metadata": {
    "colab_type": "text",
    "id": "99XDq7k-kOi0"
   },
   "source": [
    "#### Import the pandas package"
   ]
  },
  {
   "cell_type": "code",
   "execution_count": null,
   "metadata": {
    "colab": {},
    "colab_type": "code",
    "id": "fLkGn4D9kOi1"
   },
   "outputs": [],
   "source": [
    "import pandas as pd"
   ]
  },
  {
   "cell_type": "markdown",
   "metadata": {
    "colab_type": "text",
    "id": "NB9RgekNkOi5"
   },
   "source": [
    "#### Create a simple DataFrame\n",
    "\n",
    "- syntax: pd.DataFrame({column1 : value1, column2 : value2, column3 : value3})\n",
    "\n",
    "You can have anything as column names and anything as values.\n",
    "\n",
    "The only requirement is to have all value lists being of equal length (all are of length 3 in this example)\n",
    "\n",
    "There are many ways to create a data frame and you will see some more during the course. All of them can be seen documented [here](https://pandas.pydata.org/pandas-docs/stable/generated/pandas.DataFrame.html)."
   ]
  },
  {
   "cell_type": "code",
   "execution_count": 17,
   "metadata": {
    "colab": {
     "base_uri": "https://localhost:8080/",
     "height": 142
    },
    "colab_type": "code",
    "executionInfo": {
     "elapsed": 355,
     "status": "ok",
     "timestamp": 1588819281062,
     "user": {
      "displayName": "Scott Stoltzman",
      "photoUrl": "https://lh3.googleusercontent.com/a-/AOh14GhEP-8tL-gD7eW6LZdavKbDp1S67NvrZ7EyTN-PEUxDNOAwXWVPAZGeeFVBd6v7znuab8WuTCaw3ITQFqIJNbDRZ6mCcSbWWnra9XtNOAPaBAr0KtiUZymDrgHrV_u9OIgQs1KF5eHIfBCZx8b0Dioq0VqcVeM5d3LYBkQXhKJ0kj86Pwz0gRVAzjdHFe1nPTnSPXWWUxS6chYEid7FBp1V95qUbLtDVRniK43UnT21HEED-Tgt7BJjVAx8nIS_ngZNSp0xifRkM_6gO-Uw7LrmSvHkiWgNtu1Tso7WO_MMWgK7IHy1IGAkcWetj0QybSfsVJIZKnlyAzuG4e-M4pc4zQ6ubFX5O36u9q57es02FjdEaxAd0pYxhP9R_Po382KrQophK4fLnxolmBv8Xq3XAnNLWAwjnGRXXFisU1kdhJFoJ3GILgsEpIhW2MMOqsMXmSVT4Xn2uqkiLcfceZJ4436PE5-0PQ8N-gODzf4vyLJBSogGx_7CxpGeOO7cdhLQi8Iura-TpK1fgxr3_t1z2UoFgKlDByebf6iLZhavFYEMdVjckKEb1Tyl-bIRAkrZiKPX-gbmEu_hsaPrF2Rx2IACPy82tlNgbboEzv2dgEN_xso3OpEauJlqIQh6LKUuqo4tFAEFNshc9PEPBKhkx2t0B6VcVjaEk-tcwCXQftSNk6CaYTjk3DDQaxu9bb2oWsbnQy-wTDHM1j8HI15hMpmtxX5vJ0_9AS059pBhG9EBJAeI3AuRI3EjDcaDPMjx_g=s64",
      "userId": "18013987934121387883"
     },
     "user_tz": 360
    },
    "id": "BoXrGzUlkOjG",
    "outputId": "55eece64-14b4-4d4d-a353-1b92eb255b04"
   },
   "outputs": [
    {
     "data": {
      "text/html": [
       "<div>\n",
       "<style scoped>\n",
       "    .dataframe tbody tr th:only-of-type {\n",
       "        vertical-align: middle;\n",
       "    }\n",
       "\n",
       "    .dataframe tbody tr th {\n",
       "        vertical-align: top;\n",
       "    }\n",
       "\n",
       "    .dataframe thead th {\n",
       "        text-align: right;\n",
       "    }\n",
       "</style>\n",
       "<table border=\"1\" class=\"dataframe\">\n",
       "  <thead>\n",
       "    <tr style=\"text-align: right;\">\n",
       "      <th></th>\n",
       "      <th>name</th>\n",
       "      <th>age</th>\n",
       "      <th>pet</th>\n",
       "    </tr>\n",
       "  </thead>\n",
       "  <tbody>\n",
       "    <tr>\n",
       "      <th>0</th>\n",
       "      <td>Bob</td>\n",
       "      <td>20</td>\n",
       "      <td>cat</td>\n",
       "    </tr>\n",
       "    <tr>\n",
       "      <th>1</th>\n",
       "      <td>Jen</td>\n",
       "      <td>30</td>\n",
       "      <td>dog</td>\n",
       "    </tr>\n",
       "    <tr>\n",
       "      <th>2</th>\n",
       "      <td>Tim</td>\n",
       "      <td>40</td>\n",
       "      <td>bird</td>\n",
       "    </tr>\n",
       "  </tbody>\n",
       "</table>\n",
       "</div>"
      ],
      "text/plain": [
       "  name  age   pet\n",
       "0  Bob   20   cat\n",
       "1  Jen   30   dog\n",
       "2  Tim   40  bird"
      ]
     },
     "execution_count": 17,
     "metadata": {
      "tags": []
     },
     "output_type": "execute_result"
    }
   ],
   "source": [
    "my_dict = {'name':['Bob','Jen','Tim'],\n",
    "           'age':[20,30,40],\n",
    "           'pet':['cat', 'dog', 'bird']}\n",
    "\n",
    "df = pd.DataFrame(my_dict)\n",
    "\n",
    "df"
   ]
  },
  {
   "cell_type": "markdown",
   "metadata": {
    "colab_type": "text",
    "id": "sIEf3y-zkOjL"
   },
   "source": [
    "#### View the column names and index values\n",
    "\n",
    "The index is one of the most important concepts in pandas. \n",
    "\n",
    "Each dataframe has only a single index which is always available as `df.index` and if you do not supply one (as we did not for this dataframe) a new one is made automatically. \n",
    "\n",
    "Indexes define how to access rows of the dataframe. \n",
    "\n",
    "The simplest index is the range index but there are more complex ones like interval index, datetime index and multi index. \n",
    "\n",
    "We will explore indexes more in depth during the course of this lecture."
   ]
  },
  {
   "cell_type": "code",
   "execution_count": 18,
   "metadata": {
    "colab": {
     "base_uri": "https://localhost:8080/",
     "height": 51
    },
    "colab_type": "code",
    "executionInfo": {
     "elapsed": 402,
     "status": "ok",
     "timestamp": 1588819292267,
     "user": {
      "displayName": "Scott Stoltzman",
      "photoUrl": "https://lh3.googleusercontent.com/a-/AOh14GhEP-8tL-gD7eW6LZdavKbDp1S67NvrZ7EyTN-PEUxDNOAwXWVPAZGeeFVBd6v7znuab8WuTCaw3ITQFqIJNbDRZ6mCcSbWWnra9XtNOAPaBAr0KtiUZymDrgHrV_u9OIgQs1KF5eHIfBCZx8b0Dioq0VqcVeM5d3LYBkQXhKJ0kj86Pwz0gRVAzjdHFe1nPTnSPXWWUxS6chYEid7FBp1V95qUbLtDVRniK43UnT21HEED-Tgt7BJjVAx8nIS_ngZNSp0xifRkM_6gO-Uw7LrmSvHkiWgNtu1Tso7WO_MMWgK7IHy1IGAkcWetj0QybSfsVJIZKnlyAzuG4e-M4pc4zQ6ubFX5O36u9q57es02FjdEaxAd0pYxhP9R_Po382KrQophK4fLnxolmBv8Xq3XAnNLWAwjnGRXXFisU1kdhJFoJ3GILgsEpIhW2MMOqsMXmSVT4Xn2uqkiLcfceZJ4436PE5-0PQ8N-gODzf4vyLJBSogGx_7CxpGeOO7cdhLQi8Iura-TpK1fgxr3_t1z2UoFgKlDByebf6iLZhavFYEMdVjckKEb1Tyl-bIRAkrZiKPX-gbmEu_hsaPrF2Rx2IACPy82tlNgbboEzv2dgEN_xso3OpEauJlqIQh6LKUuqo4tFAEFNshc9PEPBKhkx2t0B6VcVjaEk-tcwCXQftSNk6CaYTjk3DDQaxu9bb2oWsbnQy-wTDHM1j8HI15hMpmtxX5vJ0_9AS059pBhG9EBJAeI3AuRI3EjDcaDPMjx_g=s64",
      "userId": "18013987934121387883"
     },
     "user_tz": 360
    },
    "id": "6_Fzxp3VkOjL",
    "outputId": "15d1a540-f3b4-4781-dda9-951b278e62d5"
   },
   "outputs": [
    {
     "name": "stdout",
     "output_type": "stream",
     "text": [
      "RangeIndex(start=0, stop=3, step=1)\n",
      "Index(['name', 'age', 'pet'], dtype='object')\n"
     ]
    }
   ],
   "source": [
    "# Print the df column names and the df indices\n",
    "print(df.index)\n",
    "print(df.columns)"
   ]
  },
  {
   "cell_type": "markdown",
   "metadata": {
    "colab_type": "text",
    "id": "eufnrS7HkOjQ"
   },
   "source": [
    "#### Select a column by name in 2 different ways\n",
    "\n",
    "These two ways are equivalent and can be used interchangeably almost always.\n",
    "\n",
    "The primary exception is when the name of the column contains spaces. If for example we had a column called \"weekly sales\" we have to use df['weekly sales'] because `df.weekly sales` is a syntactic error."
   ]
  },
  {
   "cell_type": "code",
   "execution_count": 19,
   "metadata": {
    "colab": {
     "base_uri": "https://localhost:8080/",
     "height": 153
    },
    "colab_type": "code",
    "executionInfo": {
     "elapsed": 402,
     "status": "ok",
     "timestamp": 1588819710996,
     "user": {
      "displayName": "Scott Stoltzman",
      "photoUrl": "https://lh3.googleusercontent.com/a-/AOh14GhEP-8tL-gD7eW6LZdavKbDp1S67NvrZ7EyTN-PEUxDNOAwXWVPAZGeeFVBd6v7znuab8WuTCaw3ITQFqIJNbDRZ6mCcSbWWnra9XtNOAPaBAr0KtiUZymDrgHrV_u9OIgQs1KF5eHIfBCZx8b0Dioq0VqcVeM5d3LYBkQXhKJ0kj86Pwz0gRVAzjdHFe1nPTnSPXWWUxS6chYEid7FBp1V95qUbLtDVRniK43UnT21HEED-Tgt7BJjVAx8nIS_ngZNSp0xifRkM_6gO-Uw7LrmSvHkiWgNtu1Tso7WO_MMWgK7IHy1IGAkcWetj0QybSfsVJIZKnlyAzuG4e-M4pc4zQ6ubFX5O36u9q57es02FjdEaxAd0pYxhP9R_Po382KrQophK4fLnxolmBv8Xq3XAnNLWAwjnGRXXFisU1kdhJFoJ3GILgsEpIhW2MMOqsMXmSVT4Xn2uqkiLcfceZJ4436PE5-0PQ8N-gODzf4vyLJBSogGx_7CxpGeOO7cdhLQi8Iura-TpK1fgxr3_t1z2UoFgKlDByebf6iLZhavFYEMdVjckKEb1Tyl-bIRAkrZiKPX-gbmEu_hsaPrF2Rx2IACPy82tlNgbboEzv2dgEN_xso3OpEauJlqIQh6LKUuqo4tFAEFNshc9PEPBKhkx2t0B6VcVjaEk-tcwCXQftSNk6CaYTjk3DDQaxu9bb2oWsbnQy-wTDHM1j8HI15hMpmtxX5vJ0_9AS059pBhG9EBJAeI3AuRI3EjDcaDPMjx_g=s64",
      "userId": "18013987934121387883"
     },
     "user_tz": 360
    },
    "id": "VoZhc6lRkOjR",
    "outputId": "57dda4fb-9218-4b92-9324-474cd2796b9c"
   },
   "outputs": [
    {
     "name": "stdout",
     "output_type": "stream",
     "text": [
      "0    Bob\n",
      "1    Jen\n",
      "2    Tim\n",
      "Name: name, dtype: object\n",
      "0    Bob\n",
      "1    Jen\n",
      "2    Tim\n",
      "Name: name, dtype: object\n"
     ]
    }
   ],
   "source": [
    "# Print the df column of sales with both ways to reference the column by name\n",
    "print(df['name'])\n",
    "print(df.name)"
   ]
  },
  {
   "cell_type": "markdown",
   "metadata": {
    "colab_type": "text",
    "id": "jJZ9IfaskOjX"
   },
   "source": [
    "#### Select multiple columns\n",
    "\n",
    "To select multiple columns we use `df[columns_to_select]` where `columns_to_select` are the columns we are interested in given as a simple python list. As the result we will get another data frame. \n",
    "\n",
    "This is the equivalent of listing columns names in `SELECT` part of a sql query."
   ]
  },
  {
   "cell_type": "code",
   "execution_count": 22,
   "metadata": {
    "colab": {
     "base_uri": "https://localhost:8080/",
     "height": 142
    },
    "colab_type": "code",
    "executionInfo": {
     "elapsed": 348,
     "status": "ok",
     "timestamp": 1588819901506,
     "user": {
      "displayName": "Scott Stoltzman",
      "photoUrl": "https://lh3.googleusercontent.com/a-/AOh14GhEP-8tL-gD7eW6LZdavKbDp1S67NvrZ7EyTN-PEUxDNOAwXWVPAZGeeFVBd6v7znuab8WuTCaw3ITQFqIJNbDRZ6mCcSbWWnra9XtNOAPaBAr0KtiUZymDrgHrV_u9OIgQs1KF5eHIfBCZx8b0Dioq0VqcVeM5d3LYBkQXhKJ0kj86Pwz0gRVAzjdHFe1nPTnSPXWWUxS6chYEid7FBp1V95qUbLtDVRniK43UnT21HEED-Tgt7BJjVAx8nIS_ngZNSp0xifRkM_6gO-Uw7LrmSvHkiWgNtu1Tso7WO_MMWgK7IHy1IGAkcWetj0QybSfsVJIZKnlyAzuG4e-M4pc4zQ6ubFX5O36u9q57es02FjdEaxAd0pYxhP9R_Po382KrQophK4fLnxolmBv8Xq3XAnNLWAwjnGRXXFisU1kdhJFoJ3GILgsEpIhW2MMOqsMXmSVT4Xn2uqkiLcfceZJ4436PE5-0PQ8N-gODzf4vyLJBSogGx_7CxpGeOO7cdhLQi8Iura-TpK1fgxr3_t1z2UoFgKlDByebf6iLZhavFYEMdVjckKEb1Tyl-bIRAkrZiKPX-gbmEu_hsaPrF2Rx2IACPy82tlNgbboEzv2dgEN_xso3OpEauJlqIQh6LKUuqo4tFAEFNshc9PEPBKhkx2t0B6VcVjaEk-tcwCXQftSNk6CaYTjk3DDQaxu9bb2oWsbnQy-wTDHM1j8HI15hMpmtxX5vJ0_9AS059pBhG9EBJAeI3AuRI3EjDcaDPMjx_g=s64",
      "userId": "18013987934121387883"
     },
     "user_tz": 360
    },
    "id": "FkVfaB75kOjY",
    "outputId": "9e5313a7-569b-4954-cd37-06bab86a260a"
   },
   "outputs": [
    {
     "data": {
      "text/html": [
       "<div>\n",
       "<style scoped>\n",
       "    .dataframe tbody tr th:only-of-type {\n",
       "        vertical-align: middle;\n",
       "    }\n",
       "\n",
       "    .dataframe tbody tr th {\n",
       "        vertical-align: top;\n",
       "    }\n",
       "\n",
       "    .dataframe thead th {\n",
       "        text-align: right;\n",
       "    }\n",
       "</style>\n",
       "<table border=\"1\" class=\"dataframe\">\n",
       "  <thead>\n",
       "    <tr style=\"text-align: right;\">\n",
       "      <th></th>\n",
       "      <th>pet</th>\n",
       "      <th>name</th>\n",
       "    </tr>\n",
       "  </thead>\n",
       "  <tbody>\n",
       "    <tr>\n",
       "      <th>0</th>\n",
       "      <td>cat</td>\n",
       "      <td>Bob</td>\n",
       "    </tr>\n",
       "    <tr>\n",
       "      <th>1</th>\n",
       "      <td>dog</td>\n",
       "      <td>Jen</td>\n",
       "    </tr>\n",
       "    <tr>\n",
       "      <th>2</th>\n",
       "      <td>bird</td>\n",
       "      <td>Tim</td>\n",
       "    </tr>\n",
       "  </tbody>\n",
       "</table>\n",
       "</div>"
      ],
      "text/plain": [
       "    pet name\n",
       "0   cat  Bob\n",
       "1   dog  Jen\n",
       "2  bird  Tim"
      ]
     },
     "execution_count": 22,
     "metadata": {
      "tags": []
     },
     "output_type": "execute_result"
    }
   ],
   "source": [
    "# Print the df columns of both name and pet in one dataframe\n",
    "my_list = ['pet', 'name']\n",
    "df[my_list]"
   ]
  },
  {
   "cell_type": "markdown",
   "metadata": {
    "colab_type": "text",
    "id": "OE9TSPbIkOja"
   },
   "source": [
    "#### Select a row by index\n",
    "\n",
    "Regular selection of rows goes via its index. When using range indices we can access rows using integer indices but this will not work when using datetime index for example.\n",
    "\n",
    "We can always access any row in the dataframe using `.iloc[i]` for some integer i. \n",
    "\n",
    "The result is a series object from which we can access values by using column indexing."
   ]
  },
  {
   "cell_type": "code",
   "execution_count": 24,
   "metadata": {
    "colab": {
     "base_uri": "https://localhost:8080/",
     "height": 85
    },
    "colab_type": "code",
    "executionInfo": {
     "elapsed": 318,
     "status": "ok",
     "timestamp": 1588820036115,
     "user": {
      "displayName": "Scott Stoltzman",
      "photoUrl": "https://lh3.googleusercontent.com/a-/AOh14GhEP-8tL-gD7eW6LZdavKbDp1S67NvrZ7EyTN-PEUxDNOAwXWVPAZGeeFVBd6v7znuab8WuTCaw3ITQFqIJNbDRZ6mCcSbWWnra9XtNOAPaBAr0KtiUZymDrgHrV_u9OIgQs1KF5eHIfBCZx8b0Dioq0VqcVeM5d3LYBkQXhKJ0kj86Pwz0gRVAzjdHFe1nPTnSPXWWUxS6chYEid7FBp1V95qUbLtDVRniK43UnT21HEED-Tgt7BJjVAx8nIS_ngZNSp0xifRkM_6gO-Uw7LrmSvHkiWgNtu1Tso7WO_MMWgK7IHy1IGAkcWetj0QybSfsVJIZKnlyAzuG4e-M4pc4zQ6ubFX5O36u9q57es02FjdEaxAd0pYxhP9R_Po382KrQophK4fLnxolmBv8Xq3XAnNLWAwjnGRXXFisU1kdhJFoJ3GILgsEpIhW2MMOqsMXmSVT4Xn2uqkiLcfceZJ4436PE5-0PQ8N-gODzf4vyLJBSogGx_7CxpGeOO7cdhLQi8Iura-TpK1fgxr3_t1z2UoFgKlDByebf6iLZhavFYEMdVjckKEb1Tyl-bIRAkrZiKPX-gbmEu_hsaPrF2Rx2IACPy82tlNgbboEzv2dgEN_xso3OpEauJlqIQh6LKUuqo4tFAEFNshc9PEPBKhkx2t0B6VcVjaEk-tcwCXQftSNk6CaYTjk3DDQaxu9bb2oWsbnQy-wTDHM1j8HI15hMpmtxX5vJ0_9AS059pBhG9EBJAeI3AuRI3EjDcaDPMjx_g=s64",
      "userId": "18013987934121387883"
     },
     "user_tz": 360
    },
    "id": "bcAzbzTqkOjb",
    "outputId": "b3a82899-648e-40ae-c961-27ef12a6e9af"
   },
   "outputs": [
    {
     "data": {
      "text/plain": [
       "name    Jen\n",
       "age      30\n",
       "pet     dog\n",
       "Name: 1, dtype: object"
      ]
     },
     "execution_count": 24,
     "metadata": {
      "tags": []
     },
     "output_type": "execute_result"
    }
   ],
   "source": [
    "# Print the first df column by referencing the column by number\n",
    "df.iloc[0]"
   ]
  },
  {
   "cell_type": "markdown",
   "metadata": {
    "colab_type": "text",
    "id": "i3Te1iN8kOje"
   },
   "source": [
    "### Sort Function\n",
    "\n",
    "- pandas.pydata.org\n",
    "- https://pandas.pydata.org/pandas-docs/stable/generated/pandas.DataFrame.sort_values.html"
   ]
  },
  {
   "cell_type": "markdown",
   "metadata": {
    "colab_type": "text",
    "id": "nuHk1Tv9kOjf"
   },
   "source": [
    "#### Sort the data by pet\n",
    "\n",
    "There are two ways to sort.\n",
    "- By index\n",
    "- By value\n",
    "\n",
    "By value means sorting according to value in a column. \n",
    "\n",
    "In this example we sort the rows of the dataframe based on values in 'pet' column.\n",
    "\n",
    "The parameter `ascending = True` means that we want the rows sorted in ascending order. This is the same as sql 'ASC'. To get descending order use `ascending = False`.\n",
    "\n",
    "`inplace` is very important and you should always remember it. When `inplace=True` the dataframe is modified in place which means that no copies are made and your previous data stored in the dataframe is lost. By default inplace is always False. When it is false a copy is made of your data and that copy is sorted and returned as output. \n",
    "\n",
    "The output of `sort_values` is always a dataframe returned but the behaviour depends strongly on the `inplace` parameter."
   ]
  },
  {
   "cell_type": "code",
   "execution_count": null,
   "metadata": {
    "colab": {},
    "colab_type": "code",
    "id": "ps41Q076kOjj"
   },
   "outputs": [],
   "source": [
    "# Sort the df by pet in ascending order and modify the dataframe in place\n",
    "df"
   ]
  },
  {
   "cell_type": "markdown",
   "metadata": {
    "colab_type": "text",
    "id": "j6l52q0UkOjn"
   },
   "source": [
    "### Indexing with DataFrames\n",
    "\n",
    "Everything we discussed about indexing in numpy arrays applies to dataframes as well.\n",
    "\n",
    "DataFrames are very similar to 2d-arrays with the main exception being that in DataFrames you can index using strings (column names)."
   ]
  },
  {
   "cell_type": "markdown",
   "metadata": {
    "colab_type": "text",
    "id": "_fe-5qLBkOjn"
   },
   "source": [
    "#### View the index after the sort"
   ]
  },
  {
   "cell_type": "code",
   "execution_count": null,
   "metadata": {
    "colab": {
     "base_uri": "https://localhost:8080/",
     "height": 142
    },
    "colab_type": "code",
    "executionInfo": {
     "elapsed": 800,
     "status": "ok",
     "timestamp": 1588088966885,
     "user": {
      "displayName": "Scott Stoltzman",
      "photoUrl": "https://lh3.googleusercontent.com/a-/AOh14Gj3t5JBdPym_v5k5u0DlTHdGzmU0L2LtYl1fqBqj1_QzX048mEZ1vF7jGtsBrifS5omYyzpbTS5JNCd8EomVUnFz5HkNwQtoHIC0ZQBhNUZ5Fry8BP5sMfx1_uMq5id4EX1SiZcyNkGlM7nwUJ-JmhrBk7TuFDUqxPiRlXrksQX3G_ZIBE0flAzB7UZSSY8l88vNRzOC9xK1NwmATXD8UTOJ4nYICXSnGAI9tE-nMKXwCpPdG3rrQ9mtFH3ZUyaWqm2WAe9DhdzTV8rLZJV3FlBD3Hr5Md7mxLyXLnRTIg_VyNlVeH0CeSA8q8FJOLQ2WEaPUyI8-5xnvncA9RdP5L_hGdf2OOuy-mYuvoqZKUrdjtgQFlQvhdRjYbiycyJHyGZW_YpHKcYI_rYW4z5IqM9HR3boLXju39dCB6vlmOlmX6mX4-L4DrAUgMq87tkGc8N5sxEIFmgHxnHJUTxQJzZi89bLbdqKTFFG8DW7u_3FyP7Xl0VbNSdjaqa6CsT09iRUIkRKP_drg2LiCsA3_AIiRGZ4dxoL9R2WUYNaxp2ZkTwwMnsNoszb8TKrFo2a1ijn_FxrxcU8W1LbACqHhqwW2hQPgZXm1s9t4RsOaL8X1XAuHZossZTocwftm-nsf7hqCk8PoQBARmbBxeKaNN2n7381THYz0cpIV88MOnhduaQX92e4j0ijCGrT_l5A3jWbCogv0NR1EkzLX_K3MK8CHOfCMBHM742fTUzo7H1jVYUT2uzfYVIUJEjGx659O9saA=s64",
      "userId": "18013987934121387883"
     },
     "user_tz": 360
    },
    "id": "4gvrRF4skOjp",
    "outputId": "f1a78e3e-733b-4ca4-df50-a4eef7f21f84"
   },
   "outputs": [
    {
     "data": {
      "text/html": [
       "<div>\n",
       "<style scoped>\n",
       "    .dataframe tbody tr th:only-of-type {\n",
       "        vertical-align: middle;\n",
       "    }\n",
       "\n",
       "    .dataframe tbody tr th {\n",
       "        vertical-align: top;\n",
       "    }\n",
       "\n",
       "    .dataframe thead th {\n",
       "        text-align: right;\n",
       "    }\n",
       "</style>\n",
       "<table border=\"1\" class=\"dataframe\">\n",
       "  <thead>\n",
       "    <tr style=\"text-align: right;\">\n",
       "      <th></th>\n",
       "      <th>name</th>\n",
       "      <th>age</th>\n",
       "      <th>pet</th>\n",
       "    </tr>\n",
       "  </thead>\n",
       "  <tbody>\n",
       "    <tr>\n",
       "      <th>2</th>\n",
       "      <td>Tim</td>\n",
       "      <td>40</td>\n",
       "      <td>bird</td>\n",
       "    </tr>\n",
       "    <tr>\n",
       "      <th>0</th>\n",
       "      <td>Bob</td>\n",
       "      <td>20</td>\n",
       "      <td>cat</td>\n",
       "    </tr>\n",
       "    <tr>\n",
       "      <th>1</th>\n",
       "      <td>Jen</td>\n",
       "      <td>30</td>\n",
       "      <td>dog</td>\n",
       "    </tr>\n",
       "  </tbody>\n",
       "</table>\n",
       "</div>"
      ],
      "text/plain": [
       "  name  age   pet\n",
       "2  Tim   40  bird\n",
       "0  Bob   20   cat\n",
       "1  Jen   30   dog"
      ]
     },
     "execution_count": 8,
     "metadata": {
      "tags": []
     },
     "output_type": "execute_result"
    }
   ],
   "source": [
    "df"
   ]
  },
  {
   "cell_type": "markdown",
   "metadata": {
    "colab_type": "text",
    "id": "RVNBwy34kOjv"
   },
   "source": [
    "#### Difference between loc and iloc\n",
    "\n",
    "- `.loc` selection is based on the value of the index. For example if the index was categorical we could index via some category. \n",
    "- `.iloc` selection is **always** based on integer positions. When using iloc we are treating the dataframe as 2d-array with no special structure compared to the case of `.loc`"
   ]
  },
  {
   "cell_type": "code",
   "execution_count": null,
   "metadata": {
    "colab": {
     "base_uri": "https://localhost:8080/",
     "height": 85
    },
    "colab_type": "code",
    "executionInfo": {
     "elapsed": 792,
     "status": "ok",
     "timestamp": 1588088966886,
     "user": {
      "displayName": "Scott Stoltzman",
      "photoUrl": "https://lh3.googleusercontent.com/a-/AOh14Gj3t5JBdPym_v5k5u0DlTHdGzmU0L2LtYl1fqBqj1_QzX048mEZ1vF7jGtsBrifS5omYyzpbTS5JNCd8EomVUnFz5HkNwQtoHIC0ZQBhNUZ5Fry8BP5sMfx1_uMq5id4EX1SiZcyNkGlM7nwUJ-JmhrBk7TuFDUqxPiRlXrksQX3G_ZIBE0flAzB7UZSSY8l88vNRzOC9xK1NwmATXD8UTOJ4nYICXSnGAI9tE-nMKXwCpPdG3rrQ9mtFH3ZUyaWqm2WAe9DhdzTV8rLZJV3FlBD3Hr5Md7mxLyXLnRTIg_VyNlVeH0CeSA8q8FJOLQ2WEaPUyI8-5xnvncA9RdP5L_hGdf2OOuy-mYuvoqZKUrdjtgQFlQvhdRjYbiycyJHyGZW_YpHKcYI_rYW4z5IqM9HR3boLXju39dCB6vlmOlmX6mX4-L4DrAUgMq87tkGc8N5sxEIFmgHxnHJUTxQJzZi89bLbdqKTFFG8DW7u_3FyP7Xl0VbNSdjaqa6CsT09iRUIkRKP_drg2LiCsA3_AIiRGZ4dxoL9R2WUYNaxp2ZkTwwMnsNoszb8TKrFo2a1ijn_FxrxcU8W1LbACqHhqwW2hQPgZXm1s9t4RsOaL8X1XAuHZossZTocwftm-nsf7hqCk8PoQBARmbBxeKaNN2n7381THYz0cpIV88MOnhduaQX92e4j0ijCGrT_l5A3jWbCogv0NR1EkzLX_K3MK8CHOfCMBHM742fTUzo7H1jVYUT2uzfYVIUJEjGx659O9saA=s64",
      "userId": "18013987934121387883"
     },
     "user_tz": 360
    },
    "id": "N5YSm2zskOjw",
    "outputId": "a8a3b563-aa35-4138-f7e0-3b161cfbfeea"
   },
   "outputs": [
    {
     "data": {
      "text/plain": [
       "name    Bob\n",
       "age      20\n",
       "pet     cat\n",
       "Name: 0, dtype: object"
      ]
     },
     "execution_count": 9,
     "metadata": {
      "tags": []
     },
     "output_type": "execute_result"
    }
   ],
   "source": [
    "# Select the row containing \"Bob\" based off of the loc function\n",
    "df\n",
    "\n",
    "\n",
    "# Expected output\n",
    "# name    Bob\n",
    "# age      20\n",
    "# pet     cat\n",
    "# Name: 0, dtype: object"
   ]
  },
  {
   "cell_type": "code",
   "execution_count": null,
   "metadata": {
    "colab": {
     "base_uri": "https://localhost:8080/",
     "height": 85
    },
    "colab_type": "code",
    "executionInfo": {
     "elapsed": 782,
     "status": "ok",
     "timestamp": 1588088966886,
     "user": {
      "displayName": "Scott Stoltzman",
      "photoUrl": "https://lh3.googleusercontent.com/a-/AOh14Gj3t5JBdPym_v5k5u0DlTHdGzmU0L2LtYl1fqBqj1_QzX048mEZ1vF7jGtsBrifS5omYyzpbTS5JNCd8EomVUnFz5HkNwQtoHIC0ZQBhNUZ5Fry8BP5sMfx1_uMq5id4EX1SiZcyNkGlM7nwUJ-JmhrBk7TuFDUqxPiRlXrksQX3G_ZIBE0flAzB7UZSSY8l88vNRzOC9xK1NwmATXD8UTOJ4nYICXSnGAI9tE-nMKXwCpPdG3rrQ9mtFH3ZUyaWqm2WAe9DhdzTV8rLZJV3FlBD3Hr5Md7mxLyXLnRTIg_VyNlVeH0CeSA8q8FJOLQ2WEaPUyI8-5xnvncA9RdP5L_hGdf2OOuy-mYuvoqZKUrdjtgQFlQvhdRjYbiycyJHyGZW_YpHKcYI_rYW4z5IqM9HR3boLXju39dCB6vlmOlmX6mX4-L4DrAUgMq87tkGc8N5sxEIFmgHxnHJUTxQJzZi89bLbdqKTFFG8DW7u_3FyP7Xl0VbNSdjaqa6CsT09iRUIkRKP_drg2LiCsA3_AIiRGZ4dxoL9R2WUYNaxp2ZkTwwMnsNoszb8TKrFo2a1ijn_FxrxcU8W1LbACqHhqwW2hQPgZXm1s9t4RsOaL8X1XAuHZossZTocwftm-nsf7hqCk8PoQBARmbBxeKaNN2n7381THYz0cpIV88MOnhduaQX92e4j0ijCGrT_l5A3jWbCogv0NR1EkzLX_K3MK8CHOfCMBHM742fTUzo7H1jVYUT2uzfYVIUJEjGx659O9saA=s64",
      "userId": "18013987934121387883"
     },
     "user_tz": 360
    },
    "id": "ZHQ5U2QEPziO",
    "outputId": "8fb11d5b-1db5-4123-bccd-3d97fd2a6fa9"
   },
   "outputs": [
    {
     "data": {
      "text/plain": [
       "name     Tim\n",
       "age       40\n",
       "pet     bird\n",
       "Name: 2, dtype: object"
      ]
     },
     "execution_count": 10,
     "metadata": {
      "tags": []
     },
     "output_type": "execute_result"
    }
   ],
   "source": [
    "# Select the row containing \"Tim\" based off of the iloc function\n",
    "df\n",
    "\n",
    "# Expected output\n",
    "# name     Tim\n",
    "# age       40\n",
    "# pet     bird\n",
    "# Name: 2, dtype: object"
   ]
  },
  {
   "cell_type": "markdown",
   "metadata": {
    "colab_type": "text",
    "id": "DKYsBGgVkOjx"
   },
   "source": [
    "#### Use iloc to select all rows of a column\n",
    "\n",
    "This will select all rows of the second column.\n",
    "\n",
    "Remember `:` = `::1`\n",
    "\n",
    "First index is always row and second is always column when dealing with dataframes."
   ]
  },
  {
   "cell_type": "code",
   "execution_count": null,
   "metadata": {
    "colab": {
     "base_uri": "https://localhost:8080/",
     "height": 85
    },
    "colab_type": "code",
    "executionInfo": {
     "elapsed": 772,
     "status": "ok",
     "timestamp": 1588088966887,
     "user": {
      "displayName": "Scott Stoltzman",
      "photoUrl": "https://lh3.googleusercontent.com/a-/AOh14Gj3t5JBdPym_v5k5u0DlTHdGzmU0L2LtYl1fqBqj1_QzX048mEZ1vF7jGtsBrifS5omYyzpbTS5JNCd8EomVUnFz5HkNwQtoHIC0ZQBhNUZ5Fry8BP5sMfx1_uMq5id4EX1SiZcyNkGlM7nwUJ-JmhrBk7TuFDUqxPiRlXrksQX3G_ZIBE0flAzB7UZSSY8l88vNRzOC9xK1NwmATXD8UTOJ4nYICXSnGAI9tE-nMKXwCpPdG3rrQ9mtFH3ZUyaWqm2WAe9DhdzTV8rLZJV3FlBD3Hr5Md7mxLyXLnRTIg_VyNlVeH0CeSA8q8FJOLQ2WEaPUyI8-5xnvncA9RdP5L_hGdf2OOuy-mYuvoqZKUrdjtgQFlQvhdRjYbiycyJHyGZW_YpHKcYI_rYW4z5IqM9HR3boLXju39dCB6vlmOlmX6mX4-L4DrAUgMq87tkGc8N5sxEIFmgHxnHJUTxQJzZi89bLbdqKTFFG8DW7u_3FyP7Xl0VbNSdjaqa6CsT09iRUIkRKP_drg2LiCsA3_AIiRGZ4dxoL9R2WUYNaxp2ZkTwwMnsNoszb8TKrFo2a1ijn_FxrxcU8W1LbACqHhqwW2hQPgZXm1s9t4RsOaL8X1XAuHZossZTocwftm-nsf7hqCk8PoQBARmbBxeKaNN2n7381THYz0cpIV88MOnhduaQX92e4j0ijCGrT_l5A3jWbCogv0NR1EkzLX_K3MK8CHOfCMBHM742fTUzo7H1jVYUT2uzfYVIUJEjGx659O9saA=s64",
      "userId": "18013987934121387883"
     },
     "user_tz": 360
    },
    "id": "8HXvbEcMkOjy",
    "outputId": "80361da7-c8b4-445c-ee50-9fd297182f1a"
   },
   "outputs": [
    {
     "data": {
      "text/plain": [
       "2    bird\n",
       "0     cat\n",
       "1     dog\n",
       "Name: pet, dtype: object"
      ]
     },
     "execution_count": 11,
     "metadata": {
      "tags": []
     },
     "output_type": "execute_result"
    }
   ],
   "source": [
    "# Select all rows of the 3rd column using iloc\n",
    "df\n",
    "\n",
    "# Expected\n",
    "# 2    bird\n",
    "# 0     cat\n",
    "# 1     dog\n",
    "# Name: pet, dtype: object"
   ]
  },
  {
   "cell_type": "markdown",
   "metadata": {
    "colab_type": "text",
    "id": "klUlSe3skOj5"
   },
   "source": [
    "#### Use iloc to select the last row"
   ]
  },
  {
   "cell_type": "code",
   "execution_count": null,
   "metadata": {
    "colab": {
     "base_uri": "https://localhost:8080/",
     "height": 85
    },
    "colab_type": "code",
    "executionInfo": {
     "elapsed": 883,
     "status": "ok",
     "timestamp": 1588088967011,
     "user": {
      "displayName": "Scott Stoltzman",
      "photoUrl": "https://lh3.googleusercontent.com/a-/AOh14Gj3t5JBdPym_v5k5u0DlTHdGzmU0L2LtYl1fqBqj1_QzX048mEZ1vF7jGtsBrifS5omYyzpbTS5JNCd8EomVUnFz5HkNwQtoHIC0ZQBhNUZ5Fry8BP5sMfx1_uMq5id4EX1SiZcyNkGlM7nwUJ-JmhrBk7TuFDUqxPiRlXrksQX3G_ZIBE0flAzB7UZSSY8l88vNRzOC9xK1NwmATXD8UTOJ4nYICXSnGAI9tE-nMKXwCpPdG3rrQ9mtFH3ZUyaWqm2WAe9DhdzTV8rLZJV3FlBD3Hr5Md7mxLyXLnRTIg_VyNlVeH0CeSA8q8FJOLQ2WEaPUyI8-5xnvncA9RdP5L_hGdf2OOuy-mYuvoqZKUrdjtgQFlQvhdRjYbiycyJHyGZW_YpHKcYI_rYW4z5IqM9HR3boLXju39dCB6vlmOlmX6mX4-L4DrAUgMq87tkGc8N5sxEIFmgHxnHJUTxQJzZi89bLbdqKTFFG8DW7u_3FyP7Xl0VbNSdjaqa6CsT09iRUIkRKP_drg2LiCsA3_AIiRGZ4dxoL9R2WUYNaxp2ZkTwwMnsNoszb8TKrFo2a1ijn_FxrxcU8W1LbACqHhqwW2hQPgZXm1s9t4RsOaL8X1XAuHZossZTocwftm-nsf7hqCk8PoQBARmbBxeKaNN2n7381THYz0cpIV88MOnhduaQX92e4j0ijCGrT_l5A3jWbCogv0NR1EkzLX_K3MK8CHOfCMBHM742fTUzo7H1jVYUT2uzfYVIUJEjGx659O9saA=s64",
      "userId": "18013987934121387883"
     },
     "user_tz": 360
    },
    "id": "Dpw15V8lkOj6",
    "outputId": "fe80ac4b-db91-4f0f-a156-979b96225bef"
   },
   "outputs": [
    {
     "data": {
      "text/plain": [
       "name    Jen\n",
       "age      30\n",
       "pet     dog\n",
       "Name: 1, dtype: object"
      ]
     },
     "execution_count": 12,
     "metadata": {
      "tags": []
     },
     "output_type": "execute_result"
    }
   ],
   "source": [
    "# Use iloc to select the last row\n",
    "df\n",
    "\n",
    "# Expected\n",
    "# name    Jen\n",
    "# age      30\n",
    "# pet     dog\n",
    "# Name: 1, dtype: object"
   ]
  },
  {
   "cell_type": "markdown",
   "metadata": {
    "colab_type": "text",
    "id": "9-drG9U3TwNB"
   },
   "source": [
    "## Basic Pandas Concept Exercises"
   ]
  },
  {
   "cell_type": "code",
   "execution_count": null,
   "metadata": {
    "colab": {},
    "colab_type": "code",
    "id": "cHHUFbLFTwM9"
   },
   "outputs": [],
   "source": [
    "sales = [100,130,119,92,35]\n",
    "customer_account = ['B100','J101','X102','P103','R104']\n",
    "city = ['BOS','LA','NYC','SF','CHI']"
   ]
  },
  {
   "cell_type": "markdown",
   "metadata": {
    "colab_type": "text",
    "id": "0VhkInt6TwM8"
   },
   "source": [
    "#### Create a DataFrame with the data above"
   ]
  },
  {
   "cell_type": "code",
   "execution_count": null,
   "metadata": {
    "colab": {
     "base_uri": "https://localhost:8080/",
     "height": 119
    },
    "colab_type": "code",
    "executionInfo": {
     "elapsed": 243,
     "status": "ok",
     "timestamp": 1588348185462,
     "user": {
      "displayName": "Scott Stoltzman",
      "photoUrl": "https://lh3.googleusercontent.com/a-/AOh14GjpP5ebDReu9m42YFCPaUErTzStvpPZ4a-GfX19I3zeNJHLzttCJY2WMgGoIAHMkjLRw_M5QIPslU1JlyBia_62daLHWQEMUtNl_RaPvGLMBVhbJ_Msu2Ff-GlTTot7GxJ4xc_Qfeu3A6xhpdzK7Dkbc8qzZHG6bNR0RTU1PC9fIbpiJaCt93Kqp67u6uc-c0TemVe1VSgmtQUreJu15t0Bd4hyAahyUVlSd0Y1rqimcYtmaPBoHuA2HNL2-8v43XWjb6s0T-b2P-E70Xnff68MwxvKaisI2hgCL4qbosRVXNY6gTPVvqEQPXdfxqoK7oS1-u2WBcGCIamQcnNJnuLp90eHDOa3VdhwnrXieEiD9-Sr2VOqCZAy1ftLl0FQ6-Iz-ianMoCa9Gsd9kqiNMepau5uQsA2-zeYKS4Khz8xKHlnB-nmAKJ9bPKzk8GbtrASLocMh7cS-ZNsqR2tfB1dfIZ6-fpdElqqElj0c-eka-bz6mjOdZKgtFzji7OXpn22k5Ynr3Fvx3CmG6Eq7dwiBvwDfSi-i8Y_8G6yrkp5ajxEaRD4lIhRKc4IzoyyzVvOOwAYSYUE8jg34cWH9lL8LNBjyEInYM5YYVB3I0YDAwIIisrUCvSFewJXpYr8iZnMU4-0LJ4bM_cI4SDmVkzFEnGKlUXEZ88J4EOtU-8MbjhMTH1xuTv0SnpoqdxVdGQg_0Vz_dNQ5G7RridZuJzu0HcNT_CRwawfiFAgrO7IXpD8RNjf-4qMxtRTbsvdv59SgA=s64",
      "userId": "18013987934121387883"
     },
     "user_tz": 360
    },
    "id": "nzUWpWS-TwM6",
    "outputId": "222bcfa0-ec83-48d7-8416-94316148ebb4"
   },
   "outputs": [
    {
     "name": "stdout",
     "output_type": "stream",
     "text": [
      "   sales customer_account city\n",
      "0    100             B100  BOS\n",
      "1    130             J101   LA\n",
      "2    119             X102  NYC\n",
      "3     92             P103   SF\n",
      "4     35             R104  CHI\n"
     ]
    }
   ],
   "source": [
    "# Create a new dataframe with the data above, in that order\n",
    "my_new_df = \n",
    "print(my_new_df)\n",
    "\n",
    "# Expected:\n",
    "#    sales customer_account city\n",
    "# 0    100             B100  BOS\n",
    "# 1    130             J101   LA\n",
    "# 2    119             X102  NYC\n",
    "# 3     92             P103   SF\n",
    "# 4     35             R104  CHI"
   ]
  },
  {
   "cell_type": "markdown",
   "metadata": {
    "colab_type": "text",
    "id": "tmYB4B32TwMy"
   },
   "source": [
    "#### What is the name of the first column?"
   ]
  },
  {
   "cell_type": "code",
   "execution_count": null,
   "metadata": {
    "colab": {
     "base_uri": "https://localhost:8080/",
     "height": 34
    },
    "colab_type": "code",
    "executionInfo": {
     "elapsed": 276,
     "status": "ok",
     "timestamp": 1588089093079,
     "user": {
      "displayName": "Scott Stoltzman",
      "photoUrl": "https://lh3.googleusercontent.com/a-/AOh14Gj3t5JBdPym_v5k5u0DlTHdGzmU0L2LtYl1fqBqj1_QzX048mEZ1vF7jGtsBrifS5omYyzpbTS5JNCd8EomVUnFz5HkNwQtoHIC0ZQBhNUZ5Fry8BP5sMfx1_uMq5id4EX1SiZcyNkGlM7nwUJ-JmhrBk7TuFDUqxPiRlXrksQX3G_ZIBE0flAzB7UZSSY8l88vNRzOC9xK1NwmATXD8UTOJ4nYICXSnGAI9tE-nMKXwCpPdG3rrQ9mtFH3ZUyaWqm2WAe9DhdzTV8rLZJV3FlBD3Hr5Md7mxLyXLnRTIg_VyNlVeH0CeSA8q8FJOLQ2WEaPUyI8-5xnvncA9RdP5L_hGdf2OOuy-mYuvoqZKUrdjtgQFlQvhdRjYbiycyJHyGZW_YpHKcYI_rYW4z5IqM9HR3boLXju39dCB6vlmOlmX6mX4-L4DrAUgMq87tkGc8N5sxEIFmgHxnHJUTxQJzZi89bLbdqKTFFG8DW7u_3FyP7Xl0VbNSdjaqa6CsT09iRUIkRKP_drg2LiCsA3_AIiRGZ4dxoL9R2WUYNaxp2ZkTwwMnsNoszb8TKrFo2a1ijn_FxrxcU8W1LbACqHhqwW2hQPgZXm1s9t4RsOaL8X1XAuHZossZTocwftm-nsf7hqCk8PoQBARmbBxeKaNN2n7381THYz0cpIV88MOnhduaQX92e4j0ijCGrT_l5A3jWbCogv0NR1EkzLX_K3MK8CHOfCMBHM742fTUzo7H1jVYUT2uzfYVIUJEjGx659O9saA=s64",
      "userId": "18013987934121387883"
     },
     "user_tz": 360
    },
    "id": "5Rogy8ehTwMn",
    "outputId": "08873b63-6692-4102-fd21-b0fe51d5921a"
   },
   "outputs": [
    {
     "data": {
      "text/plain": [
       "'sales'"
      ]
     },
     "execution_count": 30,
     "metadata": {
      "tags": []
     },
     "output_type": "execute_result"
    }
   ],
   "source": [
    "# Name the first column\n",
    "df\n",
    "\n",
    "# Expected\n",
    "# 'sales'"
   ]
  },
  {
   "cell_type": "markdown",
   "metadata": {
    "colab_type": "text",
    "id": "_SA2hdsLTwMl"
   },
   "source": [
    "#### Sort the DataFrame by city in descending order (check the documentation for sort)"
   ]
  },
  {
   "cell_type": "code",
   "execution_count": null,
   "metadata": {
    "colab": {
     "base_uri": "https://localhost:8080/",
     "height": 204
    },
    "colab_type": "code",
    "executionInfo": {
     "elapsed": 265,
     "status": "ok",
     "timestamp": 1588089284096,
     "user": {
      "displayName": "Scott Stoltzman",
      "photoUrl": "https://lh3.googleusercontent.com/a-/AOh14Gj3t5JBdPym_v5k5u0DlTHdGzmU0L2LtYl1fqBqj1_QzX048mEZ1vF7jGtsBrifS5omYyzpbTS5JNCd8EomVUnFz5HkNwQtoHIC0ZQBhNUZ5Fry8BP5sMfx1_uMq5id4EX1SiZcyNkGlM7nwUJ-JmhrBk7TuFDUqxPiRlXrksQX3G_ZIBE0flAzB7UZSSY8l88vNRzOC9xK1NwmATXD8UTOJ4nYICXSnGAI9tE-nMKXwCpPdG3rrQ9mtFH3ZUyaWqm2WAe9DhdzTV8rLZJV3FlBD3Hr5Md7mxLyXLnRTIg_VyNlVeH0CeSA8q8FJOLQ2WEaPUyI8-5xnvncA9RdP5L_hGdf2OOuy-mYuvoqZKUrdjtgQFlQvhdRjYbiycyJHyGZW_YpHKcYI_rYW4z5IqM9HR3boLXju39dCB6vlmOlmX6mX4-L4DrAUgMq87tkGc8N5sxEIFmgHxnHJUTxQJzZi89bLbdqKTFFG8DW7u_3FyP7Xl0VbNSdjaqa6CsT09iRUIkRKP_drg2LiCsA3_AIiRGZ4dxoL9R2WUYNaxp2ZkTwwMnsNoszb8TKrFo2a1ijn_FxrxcU8W1LbACqHhqwW2hQPgZXm1s9t4RsOaL8X1XAuHZossZTocwftm-nsf7hqCk8PoQBARmbBxeKaNN2n7381THYz0cpIV88MOnhduaQX92e4j0ijCGrT_l5A3jWbCogv0NR1EkzLX_K3MK8CHOfCMBHM742fTUzo7H1jVYUT2uzfYVIUJEjGx659O9saA=s64",
      "userId": "18013987934121387883"
     },
     "user_tz": 360
    },
    "id": "qpE0t45cTwMY",
    "outputId": "7e6b36c3-6a72-4d0f-90cb-4d22c7d7660e"
   },
   "outputs": [
    {
     "data": {
      "text/html": [
       "<div>\n",
       "<style scoped>\n",
       "    .dataframe tbody tr th:only-of-type {\n",
       "        vertical-align: middle;\n",
       "    }\n",
       "\n",
       "    .dataframe tbody tr th {\n",
       "        vertical-align: top;\n",
       "    }\n",
       "\n",
       "    .dataframe thead th {\n",
       "        text-align: right;\n",
       "    }\n",
       "</style>\n",
       "<table border=\"1\" class=\"dataframe\">\n",
       "  <thead>\n",
       "    <tr style=\"text-align: right;\">\n",
       "      <th></th>\n",
       "      <th>sales</th>\n",
       "      <th>customer_account</th>\n",
       "      <th>city</th>\n",
       "    </tr>\n",
       "  </thead>\n",
       "  <tbody>\n",
       "    <tr>\n",
       "      <th>3</th>\n",
       "      <td>92</td>\n",
       "      <td>P103</td>\n",
       "      <td>SF</td>\n",
       "    </tr>\n",
       "    <tr>\n",
       "      <th>2</th>\n",
       "      <td>119</td>\n",
       "      <td>X102</td>\n",
       "      <td>NYC</td>\n",
       "    </tr>\n",
       "    <tr>\n",
       "      <th>1</th>\n",
       "      <td>130</td>\n",
       "      <td>J101</td>\n",
       "      <td>LA</td>\n",
       "    </tr>\n",
       "    <tr>\n",
       "      <th>4</th>\n",
       "      <td>35</td>\n",
       "      <td>R104</td>\n",
       "      <td>CHI</td>\n",
       "    </tr>\n",
       "    <tr>\n",
       "      <th>0</th>\n",
       "      <td>100</td>\n",
       "      <td>B100</td>\n",
       "      <td>BOS</td>\n",
       "    </tr>\n",
       "  </tbody>\n",
       "</table>\n",
       "</div>"
      ],
      "text/plain": [
       "   sales customer_account city\n",
       "3     92             P103   SF\n",
       "2    119             X102  NYC\n",
       "1    130             J101   LA\n",
       "4     35             R104  CHI\n",
       "0    100             B100  BOS"
      ]
     },
     "execution_count": 33,
     "metadata": {
      "tags": []
     },
     "output_type": "execute_result"
    }
   ],
   "source": [
    "#\n",
    "my_new_df\n",
    "\n",
    "# Expected:\n",
    "# \tsales\tcustomer_account\tcity\n",
    "# 3\t92\tP103\tSF\n",
    "# 2\t119\tX102\tNYC\n",
    "# 1\t130\tJ101\tLA\n",
    "# 4\t35\tR104\tCHI\n",
    "# 0\t100\tB100\tBOS"
   ]
  },
  {
   "cell_type": "markdown",
   "metadata": {
    "colab_type": "text",
    "id": "tY7HNEUDTwMW"
   },
   "source": [
    "#### Which customer is in the last row of the DataFrame?"
   ]
  },
  {
   "cell_type": "code",
   "execution_count": null,
   "metadata": {
    "colab": {
     "base_uri": "https://localhost:8080/",
     "height": 80
    },
    "colab_type": "code",
    "executionInfo": {
     "elapsed": 188,
     "status": "ok",
     "timestamp": 1588089361162,
     "user": {
      "displayName": "Scott Stoltzman",
      "photoUrl": "https://lh3.googleusercontent.com/a-/AOh14Gj3t5JBdPym_v5k5u0DlTHdGzmU0L2LtYl1fqBqj1_QzX048mEZ1vF7jGtsBrifS5omYyzpbTS5JNCd8EomVUnFz5HkNwQtoHIC0ZQBhNUZ5Fry8BP5sMfx1_uMq5id4EX1SiZcyNkGlM7nwUJ-JmhrBk7TuFDUqxPiRlXrksQX3G_ZIBE0flAzB7UZSSY8l88vNRzOC9xK1NwmATXD8UTOJ4nYICXSnGAI9tE-nMKXwCpPdG3rrQ9mtFH3ZUyaWqm2WAe9DhdzTV8rLZJV3FlBD3Hr5Md7mxLyXLnRTIg_VyNlVeH0CeSA8q8FJOLQ2WEaPUyI8-5xnvncA9RdP5L_hGdf2OOuy-mYuvoqZKUrdjtgQFlQvhdRjYbiycyJHyGZW_YpHKcYI_rYW4z5IqM9HR3boLXju39dCB6vlmOlmX6mX4-L4DrAUgMq87tkGc8N5sxEIFmgHxnHJUTxQJzZi89bLbdqKTFFG8DW7u_3FyP7Xl0VbNSdjaqa6CsT09iRUIkRKP_drg2LiCsA3_AIiRGZ4dxoL9R2WUYNaxp2ZkTwwMnsNoszb8TKrFo2a1ijn_FxrxcU8W1LbACqHhqwW2hQPgZXm1s9t4RsOaL8X1XAuHZossZTocwftm-nsf7hqCk8PoQBARmbBxeKaNN2n7381THYz0cpIV88MOnhduaQX92e4j0ijCGrT_l5A3jWbCogv0NR1EkzLX_K3MK8CHOfCMBHM742fTUzo7H1jVYUT2uzfYVIUJEjGx659O9saA=s64",
      "userId": "18013987934121387883"
     },
     "user_tz": 360
    },
    "id": "GWlpTsEYTwL8",
    "outputId": "a0d56301-cb5e-482b-b388-4130898aa6cc"
   },
   "outputs": [
    {
     "data": {
      "text/html": [
       "<div>\n",
       "<style scoped>\n",
       "    .dataframe tbody tr th:only-of-type {\n",
       "        vertical-align: middle;\n",
       "    }\n",
       "\n",
       "    .dataframe tbody tr th {\n",
       "        vertical-align: top;\n",
       "    }\n",
       "\n",
       "    .dataframe thead th {\n",
       "        text-align: right;\n",
       "    }\n",
       "</style>\n",
       "<table border=\"1\" class=\"dataframe\">\n",
       "  <thead>\n",
       "    <tr style=\"text-align: right;\">\n",
       "      <th></th>\n",
       "      <th>sales</th>\n",
       "      <th>customer_account</th>\n",
       "      <th>city</th>\n",
       "    </tr>\n",
       "  </thead>\n",
       "  <tbody>\n",
       "    <tr>\n",
       "      <th>4</th>\n",
       "      <td>35</td>\n",
       "      <td>R104</td>\n",
       "      <td>CHI</td>\n",
       "    </tr>\n",
       "  </tbody>\n",
       "</table>\n",
       "</div>"
      ],
      "text/plain": [
       "   sales customer_account city\n",
       "4     35             R104  CHI"
      ]
     },
     "execution_count": 35,
     "metadata": {
      "tags": []
     },
     "output_type": "execute_result"
    }
   ],
   "source": [
    "# print last row of my_new_df\n",
    "my_new_df"
   ]
  },
  {
   "cell_type": "markdown",
   "metadata": {
    "colab_type": "text",
    "id": "EPMQ69METwLz"
   },
   "source": [
    "#### Reorder the columns with customer in the first column"
   ]
  },
  {
   "cell_type": "code",
   "execution_count": null,
   "metadata": {
    "colab": {
     "base_uri": "https://localhost:8080/",
     "height": 204
    },
    "colab_type": "code",
    "executionInfo": {
     "elapsed": 223,
     "status": "ok",
     "timestamp": 1588089485997,
     "user": {
      "displayName": "Scott Stoltzman",
      "photoUrl": "https://lh3.googleusercontent.com/a-/AOh14Gj3t5JBdPym_v5k5u0DlTHdGzmU0L2LtYl1fqBqj1_QzX048mEZ1vF7jGtsBrifS5omYyzpbTS5JNCd8EomVUnFz5HkNwQtoHIC0ZQBhNUZ5Fry8BP5sMfx1_uMq5id4EX1SiZcyNkGlM7nwUJ-JmhrBk7TuFDUqxPiRlXrksQX3G_ZIBE0flAzB7UZSSY8l88vNRzOC9xK1NwmATXD8UTOJ4nYICXSnGAI9tE-nMKXwCpPdG3rrQ9mtFH3ZUyaWqm2WAe9DhdzTV8rLZJV3FlBD3Hr5Md7mxLyXLnRTIg_VyNlVeH0CeSA8q8FJOLQ2WEaPUyI8-5xnvncA9RdP5L_hGdf2OOuy-mYuvoqZKUrdjtgQFlQvhdRjYbiycyJHyGZW_YpHKcYI_rYW4z5IqM9HR3boLXju39dCB6vlmOlmX6mX4-L4DrAUgMq87tkGc8N5sxEIFmgHxnHJUTxQJzZi89bLbdqKTFFG8DW7u_3FyP7Xl0VbNSdjaqa6CsT09iRUIkRKP_drg2LiCsA3_AIiRGZ4dxoL9R2WUYNaxp2ZkTwwMnsNoszb8TKrFo2a1ijn_FxrxcU8W1LbACqHhqwW2hQPgZXm1s9t4RsOaL8X1XAuHZossZTocwftm-nsf7hqCk8PoQBARmbBxeKaNN2n7381THYz0cpIV88MOnhduaQX92e4j0ijCGrT_l5A3jWbCogv0NR1EkzLX_K3MK8CHOfCMBHM742fTUzo7H1jVYUT2uzfYVIUJEjGx659O9saA=s64",
      "userId": "18013987934121387883"
     },
     "user_tz": 360
    },
    "id": "ElacSbWiTwLk",
    "outputId": "a8df87b7-1288-4745-e37f-26b27725cca3"
   },
   "outputs": [
    {
     "data": {
      "text/html": [
       "<div>\n",
       "<style scoped>\n",
       "    .dataframe tbody tr th:only-of-type {\n",
       "        vertical-align: middle;\n",
       "    }\n",
       "\n",
       "    .dataframe tbody tr th {\n",
       "        vertical-align: top;\n",
       "    }\n",
       "\n",
       "    .dataframe thead th {\n",
       "        text-align: right;\n",
       "    }\n",
       "</style>\n",
       "<table border=\"1\" class=\"dataframe\">\n",
       "  <thead>\n",
       "    <tr style=\"text-align: right;\">\n",
       "      <th></th>\n",
       "      <th>customer_account</th>\n",
       "      <th>sales</th>\n",
       "      <th>city</th>\n",
       "    </tr>\n",
       "  </thead>\n",
       "  <tbody>\n",
       "    <tr>\n",
       "      <th>0</th>\n",
       "      <td>B100</td>\n",
       "      <td>100</td>\n",
       "      <td>BOS</td>\n",
       "    </tr>\n",
       "    <tr>\n",
       "      <th>1</th>\n",
       "      <td>J101</td>\n",
       "      <td>130</td>\n",
       "      <td>LA</td>\n",
       "    </tr>\n",
       "    <tr>\n",
       "      <th>2</th>\n",
       "      <td>X102</td>\n",
       "      <td>119</td>\n",
       "      <td>NYC</td>\n",
       "    </tr>\n",
       "    <tr>\n",
       "      <th>3</th>\n",
       "      <td>P103</td>\n",
       "      <td>92</td>\n",
       "      <td>SF</td>\n",
       "    </tr>\n",
       "    <tr>\n",
       "      <th>4</th>\n",
       "      <td>R104</td>\n",
       "      <td>35</td>\n",
       "      <td>CHI</td>\n",
       "    </tr>\n",
       "  </tbody>\n",
       "</table>\n",
       "</div>"
      ],
      "text/plain": [
       "  customer_account  sales city\n",
       "0             B100    100  BOS\n",
       "1             J101    130   LA\n",
       "2             X102    119  NYC\n",
       "3             P103     92   SF\n",
       "4             R104     35  CHI"
      ]
     },
     "execution_count": 36,
     "metadata": {
      "tags": []
     },
     "output_type": "execute_result"
    }
   ],
   "source": [
    "# Reorder the my_new_df columns with customer in first column\n",
    "my_new_df"
   ]
  },
  {
   "cell_type": "markdown",
   "metadata": {
    "colab_type": "text",
    "id": "vDNrimCdkOmC"
   },
   "source": [
    "# Basic Pandas Functionality \n",
    "\n",
    "Before we learn about what Pandas can do, we need to first import some data\n",
    "\n",
    "## Importing Data\n",
    "\n",
    "Python allows you to pull data from A LOT of different types of data sources. Pandas makes it really easy to utilize CSV, SQL databases, JSON, and a variety of others. We will utilize these others as we move forward, for now, we'll use data sets which are already loaded into these libraries to be used as examples."
   ]
  },
  {
   "cell_type": "code",
   "execution_count": null,
   "metadata": {
    "colab": {},
    "colab_type": "code",
    "id": "Qo9ev0SpFWwV"
   },
   "outputs": [],
   "source": [
    "import seaborn\n",
    "data = seaborn.load_dataset('titanic')"
   ]
  },
  {
   "cell_type": "markdown",
   "metadata": {
    "colab_type": "text",
    "id": "Uf9o8d3hFYVu"
   },
   "source": [
    "## Basic Pandas Functionality\n",
    "\n",
    "Now that we imported some data, let's take a look at what Pandas can do"
   ]
  },
  {
   "cell_type": "markdown",
   "metadata": {
    "colab_type": "text",
    "id": "Wc348x0wkOkj"
   },
   "source": [
    "#### Investigate the first few rows of data\n",
    "\n",
    "The `head` method by default prints the first 5 rows of your dataframe.\n",
    "\n",
    "If you pass it a parameter `n` it will print first `n` rows. \n",
    "\n",
    "The docs are [here](https://pandas.pydata.org/pandas-docs/stable/generated/pandas.DataFrame.head.html)"
   ]
  },
  {
   "cell_type": "code",
   "execution_count": null,
   "metadata": {
    "colab": {
     "base_uri": "https://localhost:8080/",
     "height": 204
    },
    "colab_type": "code",
    "executionInfo": {
     "elapsed": 221,
     "status": "ok",
     "timestamp": 1588089500666,
     "user": {
      "displayName": "Scott Stoltzman",
      "photoUrl": "https://lh3.googleusercontent.com/a-/AOh14Gj3t5JBdPym_v5k5u0DlTHdGzmU0L2LtYl1fqBqj1_QzX048mEZ1vF7jGtsBrifS5omYyzpbTS5JNCd8EomVUnFz5HkNwQtoHIC0ZQBhNUZ5Fry8BP5sMfx1_uMq5id4EX1SiZcyNkGlM7nwUJ-JmhrBk7TuFDUqxPiRlXrksQX3G_ZIBE0flAzB7UZSSY8l88vNRzOC9xK1NwmATXD8UTOJ4nYICXSnGAI9tE-nMKXwCpPdG3rrQ9mtFH3ZUyaWqm2WAe9DhdzTV8rLZJV3FlBD3Hr5Md7mxLyXLnRTIg_VyNlVeH0CeSA8q8FJOLQ2WEaPUyI8-5xnvncA9RdP5L_hGdf2OOuy-mYuvoqZKUrdjtgQFlQvhdRjYbiycyJHyGZW_YpHKcYI_rYW4z5IqM9HR3boLXju39dCB6vlmOlmX6mX4-L4DrAUgMq87tkGc8N5sxEIFmgHxnHJUTxQJzZi89bLbdqKTFFG8DW7u_3FyP7Xl0VbNSdjaqa6CsT09iRUIkRKP_drg2LiCsA3_AIiRGZ4dxoL9R2WUYNaxp2ZkTwwMnsNoszb8TKrFo2a1ijn_FxrxcU8W1LbACqHhqwW2hQPgZXm1s9t4RsOaL8X1XAuHZossZTocwftm-nsf7hqCk8PoQBARmbBxeKaNN2n7381THYz0cpIV88MOnhduaQX92e4j0ijCGrT_l5A3jWbCogv0NR1EkzLX_K3MK8CHOfCMBHM742fTUzo7H1jVYUT2uzfYVIUJEjGx659O9saA=s64",
      "userId": "18013987934121387883"
     },
     "user_tz": 360
    },
    "id": "KX2i7qypkOkk",
    "outputId": "4978a07d-87da-4556-f6b8-f85ec2e7b6b7"
   },
   "outputs": [
    {
     "data": {
      "text/html": [
       "<div>\n",
       "<style scoped>\n",
       "    .dataframe tbody tr th:only-of-type {\n",
       "        vertical-align: middle;\n",
       "    }\n",
       "\n",
       "    .dataframe tbody tr th {\n",
       "        vertical-align: top;\n",
       "    }\n",
       "\n",
       "    .dataframe thead th {\n",
       "        text-align: right;\n",
       "    }\n",
       "</style>\n",
       "<table border=\"1\" class=\"dataframe\">\n",
       "  <thead>\n",
       "    <tr style=\"text-align: right;\">\n",
       "      <th></th>\n",
       "      <th>survived</th>\n",
       "      <th>pclass</th>\n",
       "      <th>sex</th>\n",
       "      <th>age</th>\n",
       "      <th>sibsp</th>\n",
       "      <th>parch</th>\n",
       "      <th>fare</th>\n",
       "      <th>embarked</th>\n",
       "      <th>class</th>\n",
       "      <th>who</th>\n",
       "      <th>adult_male</th>\n",
       "      <th>deck</th>\n",
       "      <th>embark_town</th>\n",
       "      <th>alive</th>\n",
       "      <th>alone</th>\n",
       "    </tr>\n",
       "  </thead>\n",
       "  <tbody>\n",
       "    <tr>\n",
       "      <th>0</th>\n",
       "      <td>0</td>\n",
       "      <td>3</td>\n",
       "      <td>male</td>\n",
       "      <td>22.0</td>\n",
       "      <td>1</td>\n",
       "      <td>0</td>\n",
       "      <td>7.2500</td>\n",
       "      <td>S</td>\n",
       "      <td>Third</td>\n",
       "      <td>man</td>\n",
       "      <td>True</td>\n",
       "      <td>NaN</td>\n",
       "      <td>Southampton</td>\n",
       "      <td>no</td>\n",
       "      <td>False</td>\n",
       "    </tr>\n",
       "    <tr>\n",
       "      <th>1</th>\n",
       "      <td>1</td>\n",
       "      <td>1</td>\n",
       "      <td>female</td>\n",
       "      <td>38.0</td>\n",
       "      <td>1</td>\n",
       "      <td>0</td>\n",
       "      <td>71.2833</td>\n",
       "      <td>C</td>\n",
       "      <td>First</td>\n",
       "      <td>woman</td>\n",
       "      <td>False</td>\n",
       "      <td>C</td>\n",
       "      <td>Cherbourg</td>\n",
       "      <td>yes</td>\n",
       "      <td>False</td>\n",
       "    </tr>\n",
       "    <tr>\n",
       "      <th>2</th>\n",
       "      <td>1</td>\n",
       "      <td>3</td>\n",
       "      <td>female</td>\n",
       "      <td>26.0</td>\n",
       "      <td>0</td>\n",
       "      <td>0</td>\n",
       "      <td>7.9250</td>\n",
       "      <td>S</td>\n",
       "      <td>Third</td>\n",
       "      <td>woman</td>\n",
       "      <td>False</td>\n",
       "      <td>NaN</td>\n",
       "      <td>Southampton</td>\n",
       "      <td>yes</td>\n",
       "      <td>True</td>\n",
       "    </tr>\n",
       "    <tr>\n",
       "      <th>3</th>\n",
       "      <td>1</td>\n",
       "      <td>1</td>\n",
       "      <td>female</td>\n",
       "      <td>35.0</td>\n",
       "      <td>1</td>\n",
       "      <td>0</td>\n",
       "      <td>53.1000</td>\n",
       "      <td>S</td>\n",
       "      <td>First</td>\n",
       "      <td>woman</td>\n",
       "      <td>False</td>\n",
       "      <td>C</td>\n",
       "      <td>Southampton</td>\n",
       "      <td>yes</td>\n",
       "      <td>False</td>\n",
       "    </tr>\n",
       "    <tr>\n",
       "      <th>4</th>\n",
       "      <td>0</td>\n",
       "      <td>3</td>\n",
       "      <td>male</td>\n",
       "      <td>35.0</td>\n",
       "      <td>0</td>\n",
       "      <td>0</td>\n",
       "      <td>8.0500</td>\n",
       "      <td>S</td>\n",
       "      <td>Third</td>\n",
       "      <td>man</td>\n",
       "      <td>True</td>\n",
       "      <td>NaN</td>\n",
       "      <td>Southampton</td>\n",
       "      <td>no</td>\n",
       "      <td>True</td>\n",
       "    </tr>\n",
       "  </tbody>\n",
       "</table>\n",
       "</div>"
      ],
      "text/plain": [
       "   survived  pclass     sex   age  ...  deck  embark_town  alive  alone\n",
       "0         0       3    male  22.0  ...   NaN  Southampton     no  False\n",
       "1         1       1  female  38.0  ...     C    Cherbourg    yes  False\n",
       "2         1       3  female  26.0  ...   NaN  Southampton    yes   True\n",
       "3         1       1  female  35.0  ...     C  Southampton    yes  False\n",
       "4         0       3    male  35.0  ...   NaN  Southampton     no   True\n",
       "\n",
       "[5 rows x 15 columns]"
      ]
     },
     "execution_count": 38,
     "metadata": {
      "tags": []
     },
     "output_type": "execute_result"
    }
   ],
   "source": [
    "data"
   ]
  },
  {
   "cell_type": "markdown",
   "metadata": {
    "colab_type": "text",
    "id": "L3A2aM_OkOkn"
   },
   "source": [
    "#### Investigate the last 10 rows of data\n",
    "\n",
    "tail is similar to head except it prints the last `n` rows."
   ]
  },
  {
   "cell_type": "code",
   "execution_count": null,
   "metadata": {
    "colab": {
     "base_uri": "https://localhost:8080/",
     "height": 359
    },
    "colab_type": "code",
    "executionInfo": {
     "elapsed": 178,
     "status": "ok",
     "timestamp": 1588089502930,
     "user": {
      "displayName": "Scott Stoltzman",
      "photoUrl": "https://lh3.googleusercontent.com/a-/AOh14Gj3t5JBdPym_v5k5u0DlTHdGzmU0L2LtYl1fqBqj1_QzX048mEZ1vF7jGtsBrifS5omYyzpbTS5JNCd8EomVUnFz5HkNwQtoHIC0ZQBhNUZ5Fry8BP5sMfx1_uMq5id4EX1SiZcyNkGlM7nwUJ-JmhrBk7TuFDUqxPiRlXrksQX3G_ZIBE0flAzB7UZSSY8l88vNRzOC9xK1NwmATXD8UTOJ4nYICXSnGAI9tE-nMKXwCpPdG3rrQ9mtFH3ZUyaWqm2WAe9DhdzTV8rLZJV3FlBD3Hr5Md7mxLyXLnRTIg_VyNlVeH0CeSA8q8FJOLQ2WEaPUyI8-5xnvncA9RdP5L_hGdf2OOuy-mYuvoqZKUrdjtgQFlQvhdRjYbiycyJHyGZW_YpHKcYI_rYW4z5IqM9HR3boLXju39dCB6vlmOlmX6mX4-L4DrAUgMq87tkGc8N5sxEIFmgHxnHJUTxQJzZi89bLbdqKTFFG8DW7u_3FyP7Xl0VbNSdjaqa6CsT09iRUIkRKP_drg2LiCsA3_AIiRGZ4dxoL9R2WUYNaxp2ZkTwwMnsNoszb8TKrFo2a1ijn_FxrxcU8W1LbACqHhqwW2hQPgZXm1s9t4RsOaL8X1XAuHZossZTocwftm-nsf7hqCk8PoQBARmbBxeKaNN2n7381THYz0cpIV88MOnhduaQX92e4j0ijCGrT_l5A3jWbCogv0NR1EkzLX_K3MK8CHOfCMBHM742fTUzo7H1jVYUT2uzfYVIUJEjGx659O9saA=s64",
      "userId": "18013987934121387883"
     },
     "user_tz": 360
    },
    "id": "evveblFBkOko",
    "outputId": "b43bd49b-dc1e-4928-97bd-5f3dbfaa2955"
   },
   "outputs": [
    {
     "data": {
      "text/html": [
       "<div>\n",
       "<style scoped>\n",
       "    .dataframe tbody tr th:only-of-type {\n",
       "        vertical-align: middle;\n",
       "    }\n",
       "\n",
       "    .dataframe tbody tr th {\n",
       "        vertical-align: top;\n",
       "    }\n",
       "\n",
       "    .dataframe thead th {\n",
       "        text-align: right;\n",
       "    }\n",
       "</style>\n",
       "<table border=\"1\" class=\"dataframe\">\n",
       "  <thead>\n",
       "    <tr style=\"text-align: right;\">\n",
       "      <th></th>\n",
       "      <th>survived</th>\n",
       "      <th>pclass</th>\n",
       "      <th>sex</th>\n",
       "      <th>age</th>\n",
       "      <th>sibsp</th>\n",
       "      <th>parch</th>\n",
       "      <th>fare</th>\n",
       "      <th>embarked</th>\n",
       "      <th>class</th>\n",
       "      <th>who</th>\n",
       "      <th>adult_male</th>\n",
       "      <th>deck</th>\n",
       "      <th>embark_town</th>\n",
       "      <th>alive</th>\n",
       "      <th>alone</th>\n",
       "    </tr>\n",
       "  </thead>\n",
       "  <tbody>\n",
       "    <tr>\n",
       "      <th>881</th>\n",
       "      <td>0</td>\n",
       "      <td>3</td>\n",
       "      <td>male</td>\n",
       "      <td>33.0</td>\n",
       "      <td>0</td>\n",
       "      <td>0</td>\n",
       "      <td>7.8958</td>\n",
       "      <td>S</td>\n",
       "      <td>Third</td>\n",
       "      <td>man</td>\n",
       "      <td>True</td>\n",
       "      <td>NaN</td>\n",
       "      <td>Southampton</td>\n",
       "      <td>no</td>\n",
       "      <td>True</td>\n",
       "    </tr>\n",
       "    <tr>\n",
       "      <th>882</th>\n",
       "      <td>0</td>\n",
       "      <td>3</td>\n",
       "      <td>female</td>\n",
       "      <td>22.0</td>\n",
       "      <td>0</td>\n",
       "      <td>0</td>\n",
       "      <td>10.5167</td>\n",
       "      <td>S</td>\n",
       "      <td>Third</td>\n",
       "      <td>woman</td>\n",
       "      <td>False</td>\n",
       "      <td>NaN</td>\n",
       "      <td>Southampton</td>\n",
       "      <td>no</td>\n",
       "      <td>True</td>\n",
       "    </tr>\n",
       "    <tr>\n",
       "      <th>883</th>\n",
       "      <td>0</td>\n",
       "      <td>2</td>\n",
       "      <td>male</td>\n",
       "      <td>28.0</td>\n",
       "      <td>0</td>\n",
       "      <td>0</td>\n",
       "      <td>10.5000</td>\n",
       "      <td>S</td>\n",
       "      <td>Second</td>\n",
       "      <td>man</td>\n",
       "      <td>True</td>\n",
       "      <td>NaN</td>\n",
       "      <td>Southampton</td>\n",
       "      <td>no</td>\n",
       "      <td>True</td>\n",
       "    </tr>\n",
       "    <tr>\n",
       "      <th>884</th>\n",
       "      <td>0</td>\n",
       "      <td>3</td>\n",
       "      <td>male</td>\n",
       "      <td>25.0</td>\n",
       "      <td>0</td>\n",
       "      <td>0</td>\n",
       "      <td>7.0500</td>\n",
       "      <td>S</td>\n",
       "      <td>Third</td>\n",
       "      <td>man</td>\n",
       "      <td>True</td>\n",
       "      <td>NaN</td>\n",
       "      <td>Southampton</td>\n",
       "      <td>no</td>\n",
       "      <td>True</td>\n",
       "    </tr>\n",
       "    <tr>\n",
       "      <th>885</th>\n",
       "      <td>0</td>\n",
       "      <td>3</td>\n",
       "      <td>female</td>\n",
       "      <td>39.0</td>\n",
       "      <td>0</td>\n",
       "      <td>5</td>\n",
       "      <td>29.1250</td>\n",
       "      <td>Q</td>\n",
       "      <td>Third</td>\n",
       "      <td>woman</td>\n",
       "      <td>False</td>\n",
       "      <td>NaN</td>\n",
       "      <td>Queenstown</td>\n",
       "      <td>no</td>\n",
       "      <td>False</td>\n",
       "    </tr>\n",
       "    <tr>\n",
       "      <th>886</th>\n",
       "      <td>0</td>\n",
       "      <td>2</td>\n",
       "      <td>male</td>\n",
       "      <td>27.0</td>\n",
       "      <td>0</td>\n",
       "      <td>0</td>\n",
       "      <td>13.0000</td>\n",
       "      <td>S</td>\n",
       "      <td>Second</td>\n",
       "      <td>man</td>\n",
       "      <td>True</td>\n",
       "      <td>NaN</td>\n",
       "      <td>Southampton</td>\n",
       "      <td>no</td>\n",
       "      <td>True</td>\n",
       "    </tr>\n",
       "    <tr>\n",
       "      <th>887</th>\n",
       "      <td>1</td>\n",
       "      <td>1</td>\n",
       "      <td>female</td>\n",
       "      <td>19.0</td>\n",
       "      <td>0</td>\n",
       "      <td>0</td>\n",
       "      <td>30.0000</td>\n",
       "      <td>S</td>\n",
       "      <td>First</td>\n",
       "      <td>woman</td>\n",
       "      <td>False</td>\n",
       "      <td>B</td>\n",
       "      <td>Southampton</td>\n",
       "      <td>yes</td>\n",
       "      <td>True</td>\n",
       "    </tr>\n",
       "    <tr>\n",
       "      <th>888</th>\n",
       "      <td>0</td>\n",
       "      <td>3</td>\n",
       "      <td>female</td>\n",
       "      <td>NaN</td>\n",
       "      <td>1</td>\n",
       "      <td>2</td>\n",
       "      <td>23.4500</td>\n",
       "      <td>S</td>\n",
       "      <td>Third</td>\n",
       "      <td>woman</td>\n",
       "      <td>False</td>\n",
       "      <td>NaN</td>\n",
       "      <td>Southampton</td>\n",
       "      <td>no</td>\n",
       "      <td>False</td>\n",
       "    </tr>\n",
       "    <tr>\n",
       "      <th>889</th>\n",
       "      <td>1</td>\n",
       "      <td>1</td>\n",
       "      <td>male</td>\n",
       "      <td>26.0</td>\n",
       "      <td>0</td>\n",
       "      <td>0</td>\n",
       "      <td>30.0000</td>\n",
       "      <td>C</td>\n",
       "      <td>First</td>\n",
       "      <td>man</td>\n",
       "      <td>True</td>\n",
       "      <td>C</td>\n",
       "      <td>Cherbourg</td>\n",
       "      <td>yes</td>\n",
       "      <td>True</td>\n",
       "    </tr>\n",
       "    <tr>\n",
       "      <th>890</th>\n",
       "      <td>0</td>\n",
       "      <td>3</td>\n",
       "      <td>male</td>\n",
       "      <td>32.0</td>\n",
       "      <td>0</td>\n",
       "      <td>0</td>\n",
       "      <td>7.7500</td>\n",
       "      <td>Q</td>\n",
       "      <td>Third</td>\n",
       "      <td>man</td>\n",
       "      <td>True</td>\n",
       "      <td>NaN</td>\n",
       "      <td>Queenstown</td>\n",
       "      <td>no</td>\n",
       "      <td>True</td>\n",
       "    </tr>\n",
       "  </tbody>\n",
       "</table>\n",
       "</div>"
      ],
      "text/plain": [
       "     survived  pclass     sex   age  ...  deck  embark_town  alive  alone\n",
       "881         0       3    male  33.0  ...   NaN  Southampton     no   True\n",
       "882         0       3  female  22.0  ...   NaN  Southampton     no   True\n",
       "883         0       2    male  28.0  ...   NaN  Southampton     no   True\n",
       "884         0       3    male  25.0  ...   NaN  Southampton     no   True\n",
       "885         0       3  female  39.0  ...   NaN   Queenstown     no  False\n",
       "886         0       2    male  27.0  ...   NaN  Southampton     no   True\n",
       "887         1       1  female  19.0  ...     B  Southampton    yes   True\n",
       "888         0       3  female   NaN  ...   NaN  Southampton     no  False\n",
       "889         1       1    male  26.0  ...     C    Cherbourg    yes   True\n",
       "890         0       3    male  32.0  ...   NaN   Queenstown     no   True\n",
       "\n",
       "[10 rows x 15 columns]"
      ]
     },
     "execution_count": 39,
     "metadata": {
      "tags": []
     },
     "output_type": "execute_result"
    }
   ],
   "source": [
    "data"
   ]
  },
  {
   "cell_type": "markdown",
   "metadata": {
    "colab_type": "text",
    "id": "R1_Rf_HRkOkp"
   },
   "source": [
    "#### Investigate the data types in the DataFrame\n",
    "\n",
    "This method will tell you the types of columns.\n",
    "\n",
    "Types are automatically inferred by pandas and usually you do not have to worry about them.\n",
    "\n",
    "[docs](https://pandas.pydata.org/pandas-docs/stable/generated/pandas.DataFrame.info.html)"
   ]
  },
  {
   "cell_type": "code",
   "execution_count": null,
   "metadata": {
    "colab": {
     "base_uri": "https://localhost:8080/",
     "height": 391
    },
    "colab_type": "code",
    "executionInfo": {
     "elapsed": 182,
     "status": "ok",
     "timestamp": 1588089504855,
     "user": {
      "displayName": "Scott Stoltzman",
      "photoUrl": "https://lh3.googleusercontent.com/a-/AOh14Gj3t5JBdPym_v5k5u0DlTHdGzmU0L2LtYl1fqBqj1_QzX048mEZ1vF7jGtsBrifS5omYyzpbTS5JNCd8EomVUnFz5HkNwQtoHIC0ZQBhNUZ5Fry8BP5sMfx1_uMq5id4EX1SiZcyNkGlM7nwUJ-JmhrBk7TuFDUqxPiRlXrksQX3G_ZIBE0flAzB7UZSSY8l88vNRzOC9xK1NwmATXD8UTOJ4nYICXSnGAI9tE-nMKXwCpPdG3rrQ9mtFH3ZUyaWqm2WAe9DhdzTV8rLZJV3FlBD3Hr5Md7mxLyXLnRTIg_VyNlVeH0CeSA8q8FJOLQ2WEaPUyI8-5xnvncA9RdP5L_hGdf2OOuy-mYuvoqZKUrdjtgQFlQvhdRjYbiycyJHyGZW_YpHKcYI_rYW4z5IqM9HR3boLXju39dCB6vlmOlmX6mX4-L4DrAUgMq87tkGc8N5sxEIFmgHxnHJUTxQJzZi89bLbdqKTFFG8DW7u_3FyP7Xl0VbNSdjaqa6CsT09iRUIkRKP_drg2LiCsA3_AIiRGZ4dxoL9R2WUYNaxp2ZkTwwMnsNoszb8TKrFo2a1ijn_FxrxcU8W1LbACqHhqwW2hQPgZXm1s9t4RsOaL8X1XAuHZossZTocwftm-nsf7hqCk8PoQBARmbBxeKaNN2n7381THYz0cpIV88MOnhduaQX92e4j0ijCGrT_l5A3jWbCogv0NR1EkzLX_K3MK8CHOfCMBHM742fTUzo7H1jVYUT2uzfYVIUJEjGx659O9saA=s64",
      "userId": "18013987934121387883"
     },
     "user_tz": 360
    },
    "id": "AbWxmxxfkOkr",
    "outputId": "a10b143a-1232-4938-9357-79e509804100"
   },
   "outputs": [
    {
     "name": "stdout",
     "output_type": "stream",
     "text": [
      "<class 'pandas.core.frame.DataFrame'>\n",
      "RangeIndex: 891 entries, 0 to 890\n",
      "Data columns (total 15 columns):\n",
      " #   Column       Non-Null Count  Dtype   \n",
      "---  ------       --------------  -----   \n",
      " 0   survived     891 non-null    int64   \n",
      " 1   pclass       891 non-null    int64   \n",
      " 2   sex          891 non-null    object  \n",
      " 3   age          714 non-null    float64 \n",
      " 4   sibsp        891 non-null    int64   \n",
      " 5   parch        891 non-null    int64   \n",
      " 6   fare         891 non-null    float64 \n",
      " 7   embarked     889 non-null    object  \n",
      " 8   class        891 non-null    category\n",
      " 9   who          891 non-null    object  \n",
      " 10  adult_male   891 non-null    bool    \n",
      " 11  deck         203 non-null    category\n",
      " 12  embark_town  889 non-null    object  \n",
      " 13  alive        891 non-null    object  \n",
      " 14  alone        891 non-null    bool    \n",
      "dtypes: bool(2), category(2), float64(2), int64(4), object(5)\n",
      "memory usage: 80.6+ KB\n"
     ]
    }
   ],
   "source": [
    "# Display all of the column data types, hint: use the info method\n",
    "data"
   ]
  },
  {
   "cell_type": "markdown",
   "metadata": {
    "colab_type": "text",
    "id": "Lxk64a-PkOkv"
   },
   "source": [
    "#### Get some summary statistics\n",
    "\n",
    "To learn more about describe visit [this link](https://pandas.pydata.org/pandas-docs/stable/generated/pandas.DataFrame.describe.html)"
   ]
  },
  {
   "cell_type": "code",
   "execution_count": null,
   "metadata": {
    "colab": {
     "base_uri": "https://localhost:8080/",
     "height": 235
    },
    "colab_type": "code",
    "executionInfo": {
     "elapsed": 180,
     "status": "ok",
     "timestamp": 1588089506874,
     "user": {
      "displayName": "Scott Stoltzman",
      "photoUrl": "https://lh3.googleusercontent.com/a-/AOh14Gj3t5JBdPym_v5k5u0DlTHdGzmU0L2LtYl1fqBqj1_QzX048mEZ1vF7jGtsBrifS5omYyzpbTS5JNCd8EomVUnFz5HkNwQtoHIC0ZQBhNUZ5Fry8BP5sMfx1_uMq5id4EX1SiZcyNkGlM7nwUJ-JmhrBk7TuFDUqxPiRlXrksQX3G_ZIBE0flAzB7UZSSY8l88vNRzOC9xK1NwmATXD8UTOJ4nYICXSnGAI9tE-nMKXwCpPdG3rrQ9mtFH3ZUyaWqm2WAe9DhdzTV8rLZJV3FlBD3Hr5Md7mxLyXLnRTIg_VyNlVeH0CeSA8q8FJOLQ2WEaPUyI8-5xnvncA9RdP5L_hGdf2OOuy-mYuvoqZKUrdjtgQFlQvhdRjYbiycyJHyGZW_YpHKcYI_rYW4z5IqM9HR3boLXju39dCB6vlmOlmX6mX4-L4DrAUgMq87tkGc8N5sxEIFmgHxnHJUTxQJzZi89bLbdqKTFFG8DW7u_3FyP7Xl0VbNSdjaqa6CsT09iRUIkRKP_drg2LiCsA3_AIiRGZ4dxoL9R2WUYNaxp2ZkTwwMnsNoszb8TKrFo2a1ijn_FxrxcU8W1LbACqHhqwW2hQPgZXm1s9t4RsOaL8X1XAuHZossZTocwftm-nsf7hqCk8PoQBARmbBxeKaNN2n7381THYz0cpIV88MOnhduaQX92e4j0ijCGrT_l5A3jWbCogv0NR1EkzLX_K3MK8CHOfCMBHM742fTUzo7H1jVYUT2uzfYVIUJEjGx659O9saA=s64",
      "userId": "18013987934121387883"
     },
     "user_tz": 360
    },
    "id": "I6-BVDGfkOkw",
    "outputId": "120d84e3-6754-434e-cd7c-c0fc5183ca3c"
   },
   "outputs": [
    {
     "data": {
      "text/html": [
       "<div>\n",
       "<style scoped>\n",
       "    .dataframe tbody tr th:only-of-type {\n",
       "        vertical-align: middle;\n",
       "    }\n",
       "\n",
       "    .dataframe tbody tr th {\n",
       "        vertical-align: top;\n",
       "    }\n",
       "\n",
       "    .dataframe thead th {\n",
       "        text-align: right;\n",
       "    }\n",
       "</style>\n",
       "<table border=\"1\" class=\"dataframe\">\n",
       "  <thead>\n",
       "    <tr style=\"text-align: right;\">\n",
       "      <th></th>\n",
       "      <th>count</th>\n",
       "      <th>mean</th>\n",
       "      <th>std</th>\n",
       "      <th>min</th>\n",
       "      <th>25%</th>\n",
       "      <th>50%</th>\n",
       "      <th>75%</th>\n",
       "      <th>max</th>\n",
       "    </tr>\n",
       "  </thead>\n",
       "  <tbody>\n",
       "    <tr>\n",
       "      <th>survived</th>\n",
       "      <td>891.0</td>\n",
       "      <td>0.383838</td>\n",
       "      <td>0.486592</td>\n",
       "      <td>0.00</td>\n",
       "      <td>0.0000</td>\n",
       "      <td>0.0000</td>\n",
       "      <td>1.0</td>\n",
       "      <td>1.0000</td>\n",
       "    </tr>\n",
       "    <tr>\n",
       "      <th>pclass</th>\n",
       "      <td>891.0</td>\n",
       "      <td>2.308642</td>\n",
       "      <td>0.836071</td>\n",
       "      <td>1.00</td>\n",
       "      <td>2.0000</td>\n",
       "      <td>3.0000</td>\n",
       "      <td>3.0</td>\n",
       "      <td>3.0000</td>\n",
       "    </tr>\n",
       "    <tr>\n",
       "      <th>age</th>\n",
       "      <td>714.0</td>\n",
       "      <td>29.699118</td>\n",
       "      <td>14.526497</td>\n",
       "      <td>0.42</td>\n",
       "      <td>20.1250</td>\n",
       "      <td>28.0000</td>\n",
       "      <td>38.0</td>\n",
       "      <td>80.0000</td>\n",
       "    </tr>\n",
       "    <tr>\n",
       "      <th>sibsp</th>\n",
       "      <td>891.0</td>\n",
       "      <td>0.523008</td>\n",
       "      <td>1.102743</td>\n",
       "      <td>0.00</td>\n",
       "      <td>0.0000</td>\n",
       "      <td>0.0000</td>\n",
       "      <td>1.0</td>\n",
       "      <td>8.0000</td>\n",
       "    </tr>\n",
       "    <tr>\n",
       "      <th>parch</th>\n",
       "      <td>891.0</td>\n",
       "      <td>0.381594</td>\n",
       "      <td>0.806057</td>\n",
       "      <td>0.00</td>\n",
       "      <td>0.0000</td>\n",
       "      <td>0.0000</td>\n",
       "      <td>0.0</td>\n",
       "      <td>6.0000</td>\n",
       "    </tr>\n",
       "    <tr>\n",
       "      <th>fare</th>\n",
       "      <td>891.0</td>\n",
       "      <td>32.204208</td>\n",
       "      <td>49.693429</td>\n",
       "      <td>0.00</td>\n",
       "      <td>7.9104</td>\n",
       "      <td>14.4542</td>\n",
       "      <td>31.0</td>\n",
       "      <td>512.3292</td>\n",
       "    </tr>\n",
       "  </tbody>\n",
       "</table>\n",
       "</div>"
      ],
      "text/plain": [
       "          count       mean        std   min      25%      50%   75%       max\n",
       "survived  891.0   0.383838   0.486592  0.00   0.0000   0.0000   1.0    1.0000\n",
       "pclass    891.0   2.308642   0.836071  1.00   2.0000   3.0000   3.0    3.0000\n",
       "age       714.0  29.699118  14.526497  0.42  20.1250  28.0000  38.0   80.0000\n",
       "sibsp     891.0   0.523008   1.102743  0.00   0.0000   0.0000   1.0    8.0000\n",
       "parch     891.0   0.381594   0.806057  0.00   0.0000   0.0000   0.0    6.0000\n",
       "fare      891.0  32.204208  49.693429  0.00   7.9104  14.4542  31.0  512.3292"
      ]
     },
     "execution_count": 41,
     "metadata": {
      "tags": []
     },
     "output_type": "execute_result"
    }
   ],
   "source": [
    "# Display the summary statistics of the data (count, mean, std, etc...) using the describe method\n",
    "data"
   ]
  },
  {
   "cell_type": "markdown",
   "metadata": {
    "colab_type": "text",
    "id": "JozHv-DpQpWs"
   },
   "source": [
    "### Filtering Dataframes\n",
    "\n",
    "You can filter data based on the columns and values in the dataframe"
   ]
  },
  {
   "cell_type": "markdown",
   "metadata": {
    "colab_type": "text",
    "id": "tUVmtIaNkOk1"
   },
   "source": [
    "#### Filter the data for men\n",
    "\n",
    "There are two pieces of the puzzle here:\n",
    "- `data.sex=='male'` will give a boolean array where True means that row has a column called sex which has value 'male'. This numpy array is called the predicate.\n",
    "- data[data.sex=='male'] will give back all rows for which the predicate holds true.\n",
    "\n",
    "The result of this filter is a dataframe with same columns as the input dataframe."
   ]
  },
  {
   "cell_type": "code",
   "execution_count": null,
   "metadata": {
    "colab": {
     "base_uri": "https://localhost:8080/",
     "height": 419
    },
    "colab_type": "code",
    "executionInfo": {
     "elapsed": 441,
     "status": "ok",
     "timestamp": 1588089511270,
     "user": {
      "displayName": "Scott Stoltzman",
      "photoUrl": "https://lh3.googleusercontent.com/a-/AOh14Gj3t5JBdPym_v5k5u0DlTHdGzmU0L2LtYl1fqBqj1_QzX048mEZ1vF7jGtsBrifS5omYyzpbTS5JNCd8EomVUnFz5HkNwQtoHIC0ZQBhNUZ5Fry8BP5sMfx1_uMq5id4EX1SiZcyNkGlM7nwUJ-JmhrBk7TuFDUqxPiRlXrksQX3G_ZIBE0flAzB7UZSSY8l88vNRzOC9xK1NwmATXD8UTOJ4nYICXSnGAI9tE-nMKXwCpPdG3rrQ9mtFH3ZUyaWqm2WAe9DhdzTV8rLZJV3FlBD3Hr5Md7mxLyXLnRTIg_VyNlVeH0CeSA8q8FJOLQ2WEaPUyI8-5xnvncA9RdP5L_hGdf2OOuy-mYuvoqZKUrdjtgQFlQvhdRjYbiycyJHyGZW_YpHKcYI_rYW4z5IqM9HR3boLXju39dCB6vlmOlmX6mX4-L4DrAUgMq87tkGc8N5sxEIFmgHxnHJUTxQJzZi89bLbdqKTFFG8DW7u_3FyP7Xl0VbNSdjaqa6CsT09iRUIkRKP_drg2LiCsA3_AIiRGZ4dxoL9R2WUYNaxp2ZkTwwMnsNoszb8TKrFo2a1ijn_FxrxcU8W1LbACqHhqwW2hQPgZXm1s9t4RsOaL8X1XAuHZossZTocwftm-nsf7hqCk8PoQBARmbBxeKaNN2n7381THYz0cpIV88MOnhduaQX92e4j0ijCGrT_l5A3jWbCogv0NR1EkzLX_K3MK8CHOfCMBHM742fTUzo7H1jVYUT2uzfYVIUJEjGx659O9saA=s64",
      "userId": "18013987934121387883"
     },
     "user_tz": 360
    },
    "id": "jO39tJlRkOk1",
    "outputId": "bef07e42-8a7c-4821-92d6-be18177ed524"
   },
   "outputs": [
    {
     "data": {
      "text/html": [
       "<div>\n",
       "<style scoped>\n",
       "    .dataframe tbody tr th:only-of-type {\n",
       "        vertical-align: middle;\n",
       "    }\n",
       "\n",
       "    .dataframe tbody tr th {\n",
       "        vertical-align: top;\n",
       "    }\n",
       "\n",
       "    .dataframe thead th {\n",
       "        text-align: right;\n",
       "    }\n",
       "</style>\n",
       "<table border=\"1\" class=\"dataframe\">\n",
       "  <thead>\n",
       "    <tr style=\"text-align: right;\">\n",
       "      <th></th>\n",
       "      <th>survived</th>\n",
       "      <th>pclass</th>\n",
       "      <th>sex</th>\n",
       "      <th>age</th>\n",
       "      <th>sibsp</th>\n",
       "      <th>parch</th>\n",
       "      <th>fare</th>\n",
       "      <th>embarked</th>\n",
       "      <th>class</th>\n",
       "      <th>who</th>\n",
       "      <th>adult_male</th>\n",
       "      <th>deck</th>\n",
       "      <th>embark_town</th>\n",
       "      <th>alive</th>\n",
       "      <th>alone</th>\n",
       "    </tr>\n",
       "  </thead>\n",
       "  <tbody>\n",
       "    <tr>\n",
       "      <th>0</th>\n",
       "      <td>0</td>\n",
       "      <td>3</td>\n",
       "      <td>male</td>\n",
       "      <td>22.0</td>\n",
       "      <td>1</td>\n",
       "      <td>0</td>\n",
       "      <td>7.2500</td>\n",
       "      <td>S</td>\n",
       "      <td>Third</td>\n",
       "      <td>man</td>\n",
       "      <td>True</td>\n",
       "      <td>NaN</td>\n",
       "      <td>Southampton</td>\n",
       "      <td>no</td>\n",
       "      <td>False</td>\n",
       "    </tr>\n",
       "    <tr>\n",
       "      <th>4</th>\n",
       "      <td>0</td>\n",
       "      <td>3</td>\n",
       "      <td>male</td>\n",
       "      <td>35.0</td>\n",
       "      <td>0</td>\n",
       "      <td>0</td>\n",
       "      <td>8.0500</td>\n",
       "      <td>S</td>\n",
       "      <td>Third</td>\n",
       "      <td>man</td>\n",
       "      <td>True</td>\n",
       "      <td>NaN</td>\n",
       "      <td>Southampton</td>\n",
       "      <td>no</td>\n",
       "      <td>True</td>\n",
       "    </tr>\n",
       "    <tr>\n",
       "      <th>5</th>\n",
       "      <td>0</td>\n",
       "      <td>3</td>\n",
       "      <td>male</td>\n",
       "      <td>NaN</td>\n",
       "      <td>0</td>\n",
       "      <td>0</td>\n",
       "      <td>8.4583</td>\n",
       "      <td>Q</td>\n",
       "      <td>Third</td>\n",
       "      <td>man</td>\n",
       "      <td>True</td>\n",
       "      <td>NaN</td>\n",
       "      <td>Queenstown</td>\n",
       "      <td>no</td>\n",
       "      <td>True</td>\n",
       "    </tr>\n",
       "    <tr>\n",
       "      <th>6</th>\n",
       "      <td>0</td>\n",
       "      <td>1</td>\n",
       "      <td>male</td>\n",
       "      <td>54.0</td>\n",
       "      <td>0</td>\n",
       "      <td>0</td>\n",
       "      <td>51.8625</td>\n",
       "      <td>S</td>\n",
       "      <td>First</td>\n",
       "      <td>man</td>\n",
       "      <td>True</td>\n",
       "      <td>E</td>\n",
       "      <td>Southampton</td>\n",
       "      <td>no</td>\n",
       "      <td>True</td>\n",
       "    </tr>\n",
       "    <tr>\n",
       "      <th>7</th>\n",
       "      <td>0</td>\n",
       "      <td>3</td>\n",
       "      <td>male</td>\n",
       "      <td>2.0</td>\n",
       "      <td>3</td>\n",
       "      <td>1</td>\n",
       "      <td>21.0750</td>\n",
       "      <td>S</td>\n",
       "      <td>Third</td>\n",
       "      <td>child</td>\n",
       "      <td>False</td>\n",
       "      <td>NaN</td>\n",
       "      <td>Southampton</td>\n",
       "      <td>no</td>\n",
       "      <td>False</td>\n",
       "    </tr>\n",
       "    <tr>\n",
       "      <th>...</th>\n",
       "      <td>...</td>\n",
       "      <td>...</td>\n",
       "      <td>...</td>\n",
       "      <td>...</td>\n",
       "      <td>...</td>\n",
       "      <td>...</td>\n",
       "      <td>...</td>\n",
       "      <td>...</td>\n",
       "      <td>...</td>\n",
       "      <td>...</td>\n",
       "      <td>...</td>\n",
       "      <td>...</td>\n",
       "      <td>...</td>\n",
       "      <td>...</td>\n",
       "      <td>...</td>\n",
       "    </tr>\n",
       "    <tr>\n",
       "      <th>883</th>\n",
       "      <td>0</td>\n",
       "      <td>2</td>\n",
       "      <td>male</td>\n",
       "      <td>28.0</td>\n",
       "      <td>0</td>\n",
       "      <td>0</td>\n",
       "      <td>10.5000</td>\n",
       "      <td>S</td>\n",
       "      <td>Second</td>\n",
       "      <td>man</td>\n",
       "      <td>True</td>\n",
       "      <td>NaN</td>\n",
       "      <td>Southampton</td>\n",
       "      <td>no</td>\n",
       "      <td>True</td>\n",
       "    </tr>\n",
       "    <tr>\n",
       "      <th>884</th>\n",
       "      <td>0</td>\n",
       "      <td>3</td>\n",
       "      <td>male</td>\n",
       "      <td>25.0</td>\n",
       "      <td>0</td>\n",
       "      <td>0</td>\n",
       "      <td>7.0500</td>\n",
       "      <td>S</td>\n",
       "      <td>Third</td>\n",
       "      <td>man</td>\n",
       "      <td>True</td>\n",
       "      <td>NaN</td>\n",
       "      <td>Southampton</td>\n",
       "      <td>no</td>\n",
       "      <td>True</td>\n",
       "    </tr>\n",
       "    <tr>\n",
       "      <th>886</th>\n",
       "      <td>0</td>\n",
       "      <td>2</td>\n",
       "      <td>male</td>\n",
       "      <td>27.0</td>\n",
       "      <td>0</td>\n",
       "      <td>0</td>\n",
       "      <td>13.0000</td>\n",
       "      <td>S</td>\n",
       "      <td>Second</td>\n",
       "      <td>man</td>\n",
       "      <td>True</td>\n",
       "      <td>NaN</td>\n",
       "      <td>Southampton</td>\n",
       "      <td>no</td>\n",
       "      <td>True</td>\n",
       "    </tr>\n",
       "    <tr>\n",
       "      <th>889</th>\n",
       "      <td>1</td>\n",
       "      <td>1</td>\n",
       "      <td>male</td>\n",
       "      <td>26.0</td>\n",
       "      <td>0</td>\n",
       "      <td>0</td>\n",
       "      <td>30.0000</td>\n",
       "      <td>C</td>\n",
       "      <td>First</td>\n",
       "      <td>man</td>\n",
       "      <td>True</td>\n",
       "      <td>C</td>\n",
       "      <td>Cherbourg</td>\n",
       "      <td>yes</td>\n",
       "      <td>True</td>\n",
       "    </tr>\n",
       "    <tr>\n",
       "      <th>890</th>\n",
       "      <td>0</td>\n",
       "      <td>3</td>\n",
       "      <td>male</td>\n",
       "      <td>32.0</td>\n",
       "      <td>0</td>\n",
       "      <td>0</td>\n",
       "      <td>7.7500</td>\n",
       "      <td>Q</td>\n",
       "      <td>Third</td>\n",
       "      <td>man</td>\n",
       "      <td>True</td>\n",
       "      <td>NaN</td>\n",
       "      <td>Queenstown</td>\n",
       "      <td>no</td>\n",
       "      <td>True</td>\n",
       "    </tr>\n",
       "  </tbody>\n",
       "</table>\n",
       "<p>577 rows × 15 columns</p>\n",
       "</div>"
      ],
      "text/plain": [
       "     survived  pclass   sex   age  ...  deck  embark_town  alive  alone\n",
       "0           0       3  male  22.0  ...   NaN  Southampton     no  False\n",
       "4           0       3  male  35.0  ...   NaN  Southampton     no   True\n",
       "5           0       3  male   NaN  ...   NaN   Queenstown     no   True\n",
       "6           0       1  male  54.0  ...     E  Southampton     no   True\n",
       "7           0       3  male   2.0  ...   NaN  Southampton     no  False\n",
       "..        ...     ...   ...   ...  ...   ...          ...    ...    ...\n",
       "883         0       2  male  28.0  ...   NaN  Southampton     no   True\n",
       "884         0       3  male  25.0  ...   NaN  Southampton     no   True\n",
       "886         0       2  male  27.0  ...   NaN  Southampton     no   True\n",
       "889         1       1  male  26.0  ...     C    Cherbourg    yes   True\n",
       "890         0       3  male  32.0  ...   NaN   Queenstown     no   True\n",
       "\n",
       "[577 rows x 15 columns]"
      ]
     },
     "execution_count": 42,
     "metadata": {
      "tags": []
     },
     "output_type": "execute_result"
    }
   ],
   "source": [
    "# Filter the data for only male passengers\n",
    "data"
   ]
  },
  {
   "cell_type": "markdown",
   "metadata": {
    "colab_type": "text",
    "id": "V2lw4cU7kOk6"
   },
   "source": [
    "#### Filter the ages for the men\n",
    "\n",
    "Again there are two important parts:\n",
    "- `data.sex=='male'` is the predicate as before\n",
    "- `data.age` means taking the values for the age column, and `data.age[data.sex=='male']` means taking all ages which are related to male rows.\n",
    "\n",
    "The result of this is pandas series **not** a dataframe."
   ]
  },
  {
   "cell_type": "code",
   "execution_count": null,
   "metadata": {
    "colab": {
     "base_uri": "https://localhost:8080/",
     "height": 221
    },
    "colab_type": "code",
    "executionInfo": {
     "elapsed": 167,
     "status": "ok",
     "timestamp": 1588089513324,
     "user": {
      "displayName": "Scott Stoltzman",
      "photoUrl": "https://lh3.googleusercontent.com/a-/AOh14Gj3t5JBdPym_v5k5u0DlTHdGzmU0L2LtYl1fqBqj1_QzX048mEZ1vF7jGtsBrifS5omYyzpbTS5JNCd8EomVUnFz5HkNwQtoHIC0ZQBhNUZ5Fry8BP5sMfx1_uMq5id4EX1SiZcyNkGlM7nwUJ-JmhrBk7TuFDUqxPiRlXrksQX3G_ZIBE0flAzB7UZSSY8l88vNRzOC9xK1NwmATXD8UTOJ4nYICXSnGAI9tE-nMKXwCpPdG3rrQ9mtFH3ZUyaWqm2WAe9DhdzTV8rLZJV3FlBD3Hr5Md7mxLyXLnRTIg_VyNlVeH0CeSA8q8FJOLQ2WEaPUyI8-5xnvncA9RdP5L_hGdf2OOuy-mYuvoqZKUrdjtgQFlQvhdRjYbiycyJHyGZW_YpHKcYI_rYW4z5IqM9HR3boLXju39dCB6vlmOlmX6mX4-L4DrAUgMq87tkGc8N5sxEIFmgHxnHJUTxQJzZi89bLbdqKTFFG8DW7u_3FyP7Xl0VbNSdjaqa6CsT09iRUIkRKP_drg2LiCsA3_AIiRGZ4dxoL9R2WUYNaxp2ZkTwwMnsNoszb8TKrFo2a1ijn_FxrxcU8W1LbACqHhqwW2hQPgZXm1s9t4RsOaL8X1XAuHZossZTocwftm-nsf7hqCk8PoQBARmbBxeKaNN2n7381THYz0cpIV88MOnhduaQX92e4j0ijCGrT_l5A3jWbCogv0NR1EkzLX_K3MK8CHOfCMBHM742fTUzo7H1jVYUT2uzfYVIUJEjGx659O9saA=s64",
      "userId": "18013987934121387883"
     },
     "user_tz": 360
    },
    "id": "VYV0OiujkOk7",
    "outputId": "55f906cd-3586-4bae-a6ac-c60461c4fcd0"
   },
   "outputs": [
    {
     "data": {
      "text/plain": [
       "0      22.0\n",
       "4      35.0\n",
       "5       NaN\n",
       "6      54.0\n",
       "7       2.0\n",
       "       ... \n",
       "883    28.0\n",
       "884    25.0\n",
       "886    27.0\n",
       "889    26.0\n",
       "890    32.0\n",
       "Name: age, Length: 577, dtype: float64"
      ]
     },
     "execution_count": 43,
     "metadata": {
      "tags": []
     },
     "output_type": "execute_result"
    }
   ],
   "source": [
    "# Filter the data for only male passengers, only display the age column\n",
    "data"
   ]
  },
  {
   "cell_type": "markdown",
   "metadata": {
    "colab_type": "text",
    "id": "1_jDkPD5Q3_l"
   },
   "source": [
    "### Adding methods to filters\n",
    "\n",
    "A method is a function and is used frequently when analyzing data in Pandas. There are countless Pandas methods. We'll go over a few of the basic ones to show how you can use methods to quickly analyze your data."
   ]
  },
  {
   "cell_type": "markdown",
   "metadata": {
    "colab_type": "text",
    "id": "aLld3-3okOk9"
   },
   "source": [
    "#### How many men and women were on the Titanic?\n",
    "\n",
    "The pipeline always goes the same way\n",
    "- Predicate is evalatued\n",
    "- Data is filtered according to a predicate\n",
    "- An aggregate value is computed after the filtering.\n",
    "\n",
    "The count method simply counts the number of frames in the dataframe."
   ]
  },
  {
   "cell_type": "code",
   "execution_count": null,
   "metadata": {
    "colab": {
     "base_uri": "https://localhost:8080/",
     "height": 34
    },
    "colab_type": "code",
    "executionInfo": {
     "elapsed": 189,
     "status": "ok",
     "timestamp": 1588089515737,
     "user": {
      "displayName": "Scott Stoltzman",
      "photoUrl": "https://lh3.googleusercontent.com/a-/AOh14Gj3t5JBdPym_v5k5u0DlTHdGzmU0L2LtYl1fqBqj1_QzX048mEZ1vF7jGtsBrifS5omYyzpbTS5JNCd8EomVUnFz5HkNwQtoHIC0ZQBhNUZ5Fry8BP5sMfx1_uMq5id4EX1SiZcyNkGlM7nwUJ-JmhrBk7TuFDUqxPiRlXrksQX3G_ZIBE0flAzB7UZSSY8l88vNRzOC9xK1NwmATXD8UTOJ4nYICXSnGAI9tE-nMKXwCpPdG3rrQ9mtFH3ZUyaWqm2WAe9DhdzTV8rLZJV3FlBD3Hr5Md7mxLyXLnRTIg_VyNlVeH0CeSA8q8FJOLQ2WEaPUyI8-5xnvncA9RdP5L_hGdf2OOuy-mYuvoqZKUrdjtgQFlQvhdRjYbiycyJHyGZW_YpHKcYI_rYW4z5IqM9HR3boLXju39dCB6vlmOlmX6mX4-L4DrAUgMq87tkGc8N5sxEIFmgHxnHJUTxQJzZi89bLbdqKTFFG8DW7u_3FyP7Xl0VbNSdjaqa6CsT09iRUIkRKP_drg2LiCsA3_AIiRGZ4dxoL9R2WUYNaxp2ZkTwwMnsNoszb8TKrFo2a1ijn_FxrxcU8W1LbACqHhqwW2hQPgZXm1s9t4RsOaL8X1XAuHZossZTocwftm-nsf7hqCk8PoQBARmbBxeKaNN2n7381THYz0cpIV88MOnhduaQX92e4j0ijCGrT_l5A3jWbCogv0NR1EkzLX_K3MK8CHOfCMBHM742fTUzo7H1jVYUT2uzfYVIUJEjGx659O9saA=s64",
      "userId": "18013987934121387883"
     },
     "user_tz": 360
    },
    "id": "gEibC0_-kOk-",
    "outputId": "53e09b84-b4fb-418f-a090-d31ab5258f0b"
   },
   "outputs": [
    {
     "data": {
      "text/plain": [
       "577"
      ]
     },
     "execution_count": 44,
     "metadata": {
      "tags": []
     },
     "output_type": "execute_result"
    }
   ],
   "source": [
    "# Display the number of male passengers\n",
    "data"
   ]
  },
  {
   "cell_type": "code",
   "execution_count": null,
   "metadata": {
    "colab": {
     "base_uri": "https://localhost:8080/",
     "height": 34
    },
    "colab_type": "code",
    "executionInfo": {
     "elapsed": 150,
     "status": "ok",
     "timestamp": 1588089516509,
     "user": {
      "displayName": "Scott Stoltzman",
      "photoUrl": "https://lh3.googleusercontent.com/a-/AOh14Gj3t5JBdPym_v5k5u0DlTHdGzmU0L2LtYl1fqBqj1_QzX048mEZ1vF7jGtsBrifS5omYyzpbTS5JNCd8EomVUnFz5HkNwQtoHIC0ZQBhNUZ5Fry8BP5sMfx1_uMq5id4EX1SiZcyNkGlM7nwUJ-JmhrBk7TuFDUqxPiRlXrksQX3G_ZIBE0flAzB7UZSSY8l88vNRzOC9xK1NwmATXD8UTOJ4nYICXSnGAI9tE-nMKXwCpPdG3rrQ9mtFH3ZUyaWqm2WAe9DhdzTV8rLZJV3FlBD3Hr5Md7mxLyXLnRTIg_VyNlVeH0CeSA8q8FJOLQ2WEaPUyI8-5xnvncA9RdP5L_hGdf2OOuy-mYuvoqZKUrdjtgQFlQvhdRjYbiycyJHyGZW_YpHKcYI_rYW4z5IqM9HR3boLXju39dCB6vlmOlmX6mX4-L4DrAUgMq87tkGc8N5sxEIFmgHxnHJUTxQJzZi89bLbdqKTFFG8DW7u_3FyP7Xl0VbNSdjaqa6CsT09iRUIkRKP_drg2LiCsA3_AIiRGZ4dxoL9R2WUYNaxp2ZkTwwMnsNoszb8TKrFo2a1ijn_FxrxcU8W1LbACqHhqwW2hQPgZXm1s9t4RsOaL8X1XAuHZossZTocwftm-nsf7hqCk8PoQBARmbBxeKaNN2n7381THYz0cpIV88MOnhduaQX92e4j0ijCGrT_l5A3jWbCogv0NR1EkzLX_K3MK8CHOfCMBHM742fTUzo7H1jVYUT2uzfYVIUJEjGx659O9saA=s64",
      "userId": "18013987934121387883"
     },
     "user_tz": 360
    },
    "id": "-XUzMAjlQzze",
    "outputId": "1b4ee641-4fc3-4bc7-8d0c-e378bed89e2c"
   },
   "outputs": [
    {
     "data": {
      "text/plain": [
       "314"
      ]
     },
     "execution_count": 45,
     "metadata": {
      "tags": []
     },
     "output_type": "execute_result"
    }
   ],
   "source": [
    "# Display the number of female passengers"
   ]
  },
  {
   "cell_type": "markdown",
   "metadata": {
    "colab_type": "text",
    "id": "H5WWIEcBkOlA"
   },
   "source": [
    "#### What was the survival rate for adult men (age>=18)\n",
    "\n",
    "Here we combine predicates using the and operator (&).\n",
    "\n",
    "This operator applies the logical and operation between elements at matching positions.\n",
    "\n",
    "For example: \n",
    "- x = np.array([True, False, True, True]) \n",
    "- y = np.array([False, True, False, True])\n",
    "- will give x & y = np.array([True & False, False & True, True & False, True & True]).\n",
    "\n",
    "In the following example we use the or combiner (|).\n",
    "\n",
    "You can combine any two boolean numpy arrays as long as they have the same shape using the & and | operators.\n",
    "\n",
    "Combining regular python lists this way does not work."
   ]
  },
  {
   "cell_type": "code",
   "execution_count": null,
   "metadata": {
    "colab": {
     "base_uri": "https://localhost:8080/",
     "height": 34
    },
    "colab_type": "code",
    "executionInfo": {
     "elapsed": 206,
     "status": "ok",
     "timestamp": 1588089519772,
     "user": {
      "displayName": "Scott Stoltzman",
      "photoUrl": "https://lh3.googleusercontent.com/a-/AOh14Gj3t5JBdPym_v5k5u0DlTHdGzmU0L2LtYl1fqBqj1_QzX048mEZ1vF7jGtsBrifS5omYyzpbTS5JNCd8EomVUnFz5HkNwQtoHIC0ZQBhNUZ5Fry8BP5sMfx1_uMq5id4EX1SiZcyNkGlM7nwUJ-JmhrBk7TuFDUqxPiRlXrksQX3G_ZIBE0flAzB7UZSSY8l88vNRzOC9xK1NwmATXD8UTOJ4nYICXSnGAI9tE-nMKXwCpPdG3rrQ9mtFH3ZUyaWqm2WAe9DhdzTV8rLZJV3FlBD3Hr5Md7mxLyXLnRTIg_VyNlVeH0CeSA8q8FJOLQ2WEaPUyI8-5xnvncA9RdP5L_hGdf2OOuy-mYuvoqZKUrdjtgQFlQvhdRjYbiycyJHyGZW_YpHKcYI_rYW4z5IqM9HR3boLXju39dCB6vlmOlmX6mX4-L4DrAUgMq87tkGc8N5sxEIFmgHxnHJUTxQJzZi89bLbdqKTFFG8DW7u_3FyP7Xl0VbNSdjaqa6CsT09iRUIkRKP_drg2LiCsA3_AIiRGZ4dxoL9R2WUYNaxp2ZkTwwMnsNoszb8TKrFo2a1ijn_FxrxcU8W1LbACqHhqwW2hQPgZXm1s9t4RsOaL8X1XAuHZossZTocwftm-nsf7hqCk8PoQBARmbBxeKaNN2n7381THYz0cpIV88MOnhduaQX92e4j0ijCGrT_l5A3jWbCogv0NR1EkzLX_K3MK8CHOfCMBHM742fTUzo7H1jVYUT2uzfYVIUJEjGx659O9saA=s64",
      "userId": "18013987934121387883"
     },
     "user_tz": 360
    },
    "id": "r36YOTFakOlB",
    "outputId": "9c44f6e1-1b8e-4563-f6bc-f3117a477d5b"
   },
   "outputs": [
    {
     "data": {
      "text/plain": [
       "0.17721518987341772"
      ]
     },
     "execution_count": 46,
     "metadata": {
      "tags": []
     },
     "output_type": "execute_result"
    }
   ],
   "source": [
    "# Dispay the average survival rate for men ages 18 and over\n",
    "data"
   ]
  },
  {
   "cell_type": "markdown",
   "metadata": {
    "colab_type": "text",
    "id": "L_OdPd-TkOlL"
   },
   "source": [
    "#### What was the survival rate for women and children?\n",
    "\n",
    "The mean method is the same as AVERAGE in SQL."
   ]
  },
  {
   "cell_type": "code",
   "execution_count": null,
   "metadata": {
    "colab": {
     "base_uri": "https://localhost:8080/",
     "height": 34
    },
    "colab_type": "code",
    "executionInfo": {
     "elapsed": 197,
     "status": "ok",
     "timestamp": 1588089520849,
     "user": {
      "displayName": "Scott Stoltzman",
      "photoUrl": "https://lh3.googleusercontent.com/a-/AOh14Gj3t5JBdPym_v5k5u0DlTHdGzmU0L2LtYl1fqBqj1_QzX048mEZ1vF7jGtsBrifS5omYyzpbTS5JNCd8EomVUnFz5HkNwQtoHIC0ZQBhNUZ5Fry8BP5sMfx1_uMq5id4EX1SiZcyNkGlM7nwUJ-JmhrBk7TuFDUqxPiRlXrksQX3G_ZIBE0flAzB7UZSSY8l88vNRzOC9xK1NwmATXD8UTOJ4nYICXSnGAI9tE-nMKXwCpPdG3rrQ9mtFH3ZUyaWqm2WAe9DhdzTV8rLZJV3FlBD3Hr5Md7mxLyXLnRTIg_VyNlVeH0CeSA8q8FJOLQ2WEaPUyI8-5xnvncA9RdP5L_hGdf2OOuy-mYuvoqZKUrdjtgQFlQvhdRjYbiycyJHyGZW_YpHKcYI_rYW4z5IqM9HR3boLXju39dCB6vlmOlmX6mX4-L4DrAUgMq87tkGc8N5sxEIFmgHxnHJUTxQJzZi89bLbdqKTFFG8DW7u_3FyP7Xl0VbNSdjaqa6CsT09iRUIkRKP_drg2LiCsA3_AIiRGZ4dxoL9R2WUYNaxp2ZkTwwMnsNoszb8TKrFo2a1ijn_FxrxcU8W1LbACqHhqwW2hQPgZXm1s9t4RsOaL8X1XAuHZossZTocwftm-nsf7hqCk8PoQBARmbBxeKaNN2n7381THYz0cpIV88MOnhduaQX92e4j0ijCGrT_l5A3jWbCogv0NR1EkzLX_K3MK8CHOfCMBHM742fTUzo7H1jVYUT2uzfYVIUJEjGx659O9saA=s64",
      "userId": "18013987934121387883"
     },
     "user_tz": 360
    },
    "id": "3-VzXk3rkOlL",
    "outputId": "b0fb1abd-8d2d-48b9-8f4d-9406cbc318f2"
   },
   "outputs": [
    {
     "data": {
      "text/plain": [
       "0.6881720430107527"
      ]
     },
     "execution_count": 47,
     "metadata": {
      "tags": []
     },
     "output_type": "execute_result"
    }
   ],
   "source": [
    "# Dispay the average survival rate for passengers under 18 or are female (women and children)\n",
    "data.survived"
   ]
  },
  {
   "cell_type": "markdown",
   "metadata": {
    "colab_type": "text",
    "id": "Qr5kDLXikOlN"
   },
   "source": [
    "#### Use groupby to compare the survival rates of men and women\n",
    "\n",
    "The `groupby` method is one of the most important tools you will use in your day to day work.\n",
    "\n",
    "It's main input parameter is either a string denoting a column name or a list of strings denoting a list of column names.\n",
    "\n",
    "It's output is a GroupBy object which is very similar to a dataframe.\n",
    "\n",
    "The operation of groupby is the same as SQL GROUPBY.\n",
    "\n",
    "For more info see the [docs](https://pandas.pydata.org/pandas-docs/stable/generated/pandas.DataFrame.groupby.html)."
   ]
  },
  {
   "cell_type": "code",
   "execution_count": null,
   "metadata": {
    "colab": {
     "base_uri": "https://localhost:8080/",
     "height": 85
    },
    "colab_type": "code",
    "executionInfo": {
     "elapsed": 211,
     "status": "ok",
     "timestamp": 1588089522933,
     "user": {
      "displayName": "Scott Stoltzman",
      "photoUrl": "https://lh3.googleusercontent.com/a-/AOh14Gj3t5JBdPym_v5k5u0DlTHdGzmU0L2LtYl1fqBqj1_QzX048mEZ1vF7jGtsBrifS5omYyzpbTS5JNCd8EomVUnFz5HkNwQtoHIC0ZQBhNUZ5Fry8BP5sMfx1_uMq5id4EX1SiZcyNkGlM7nwUJ-JmhrBk7TuFDUqxPiRlXrksQX3G_ZIBE0flAzB7UZSSY8l88vNRzOC9xK1NwmATXD8UTOJ4nYICXSnGAI9tE-nMKXwCpPdG3rrQ9mtFH3ZUyaWqm2WAe9DhdzTV8rLZJV3FlBD3Hr5Md7mxLyXLnRTIg_VyNlVeH0CeSA8q8FJOLQ2WEaPUyI8-5xnvncA9RdP5L_hGdf2OOuy-mYuvoqZKUrdjtgQFlQvhdRjYbiycyJHyGZW_YpHKcYI_rYW4z5IqM9HR3boLXju39dCB6vlmOlmX6mX4-L4DrAUgMq87tkGc8N5sxEIFmgHxnHJUTxQJzZi89bLbdqKTFFG8DW7u_3FyP7Xl0VbNSdjaqa6CsT09iRUIkRKP_drg2LiCsA3_AIiRGZ4dxoL9R2WUYNaxp2ZkTwwMnsNoszb8TKrFo2a1ijn_FxrxcU8W1LbACqHhqwW2hQPgZXm1s9t4RsOaL8X1XAuHZossZTocwftm-nsf7hqCk8PoQBARmbBxeKaNN2n7381THYz0cpIV88MOnhduaQX92e4j0ijCGrT_l5A3jWbCogv0NR1EkzLX_K3MK8CHOfCMBHM742fTUzo7H1jVYUT2uzfYVIUJEjGx659O9saA=s64",
      "userId": "18013987934121387883"
     },
     "user_tz": 360
    },
    "id": "6HUfJ-WgkOlO",
    "outputId": "c00fed94-9271-4e3d-fd9a-4a2d4478a3f4"
   },
   "outputs": [
    {
     "data": {
      "text/plain": [
       "sex\n",
       "female    0.742038\n",
       "male      0.188908\n",
       "Name: survived, dtype: float64"
      ]
     },
     "execution_count": 48,
     "metadata": {
      "tags": []
     },
     "output_type": "execute_result"
    }
   ],
   "source": [
    "# In one line, show the average survival rate of both men and women (separately)\n",
    "data"
   ]
  },
  {
   "cell_type": "markdown",
   "metadata": {
    "colab_type": "text",
    "id": "Ffecx8ydkOlT"
   },
   "source": [
    "#### Create a DataFrame with groupby "
   ]
  },
  {
   "cell_type": "code",
   "execution_count": null,
   "metadata": {
    "colab": {
     "base_uri": "https://localhost:8080/",
     "height": 320
    },
    "colab_type": "code",
    "executionInfo": {
     "elapsed": 210,
     "status": "ok",
     "timestamp": 1588089526320,
     "user": {
      "displayName": "Scott Stoltzman",
      "photoUrl": "https://lh3.googleusercontent.com/a-/AOh14Gj3t5JBdPym_v5k5u0DlTHdGzmU0L2LtYl1fqBqj1_QzX048mEZ1vF7jGtsBrifS5omYyzpbTS5JNCd8EomVUnFz5HkNwQtoHIC0ZQBhNUZ5Fry8BP5sMfx1_uMq5id4EX1SiZcyNkGlM7nwUJ-JmhrBk7TuFDUqxPiRlXrksQX3G_ZIBE0flAzB7UZSSY8l88vNRzOC9xK1NwmATXD8UTOJ4nYICXSnGAI9tE-nMKXwCpPdG3rrQ9mtFH3ZUyaWqm2WAe9DhdzTV8rLZJV3FlBD3Hr5Md7mxLyXLnRTIg_VyNlVeH0CeSA8q8FJOLQ2WEaPUyI8-5xnvncA9RdP5L_hGdf2OOuy-mYuvoqZKUrdjtgQFlQvhdRjYbiycyJHyGZW_YpHKcYI_rYW4z5IqM9HR3boLXju39dCB6vlmOlmX6mX4-L4DrAUgMq87tkGc8N5sxEIFmgHxnHJUTxQJzZi89bLbdqKTFFG8DW7u_3FyP7Xl0VbNSdjaqa6CsT09iRUIkRKP_drg2LiCsA3_AIiRGZ4dxoL9R2WUYNaxp2ZkTwwMnsNoszb8TKrFo2a1ijn_FxrxcU8W1LbACqHhqwW2hQPgZXm1s9t4RsOaL8X1XAuHZossZTocwftm-nsf7hqCk8PoQBARmbBxeKaNN2n7381THYz0cpIV88MOnhduaQX92e4j0ijCGrT_l5A3jWbCogv0NR1EkzLX_K3MK8CHOfCMBHM742fTUzo7H1jVYUT2uzfYVIUJEjGx659O9saA=s64",
      "userId": "18013987934121387883"
     },
     "user_tz": 360
    },
    "id": "EvCErNp7kOlZ",
    "outputId": "c5fb189f-8194-40a6-fcaa-b73221f30a6c"
   },
   "outputs": [
    {
     "name": "stderr",
     "output_type": "stream",
     "text": [
      "/usr/local/lib/python3.6/dist-packages/ipykernel_launcher.py:1: FutureWarning: Indexing with multiple keys (implicitly converted to a tuple of keys) will be deprecated, use a list instead.\n",
      "  \"\"\"Entry point for launching an IPython kernel.\n"
     ]
    },
    {
     "data": {
      "text/html": [
       "<div>\n",
       "<style scoped>\n",
       "    .dataframe tbody tr th:only-of-type {\n",
       "        vertical-align: middle;\n",
       "    }\n",
       "\n",
       "    .dataframe tbody tr th {\n",
       "        vertical-align: top;\n",
       "    }\n",
       "\n",
       "    .dataframe thead th {\n",
       "        text-align: right;\n",
       "    }\n",
       "</style>\n",
       "<table border=\"1\" class=\"dataframe\">\n",
       "  <thead>\n",
       "    <tr style=\"text-align: right;\">\n",
       "      <th></th>\n",
       "      <th></th>\n",
       "      <th>survived</th>\n",
       "      <th>age</th>\n",
       "    </tr>\n",
       "    <tr>\n",
       "      <th>sex</th>\n",
       "      <th>pclass</th>\n",
       "      <th></th>\n",
       "      <th></th>\n",
       "    </tr>\n",
       "  </thead>\n",
       "  <tbody>\n",
       "    <tr>\n",
       "      <th rowspan=\"3\" valign=\"top\">female</th>\n",
       "      <th>1</th>\n",
       "      <td>0.968085</td>\n",
       "      <td>34.611765</td>\n",
       "    </tr>\n",
       "    <tr>\n",
       "      <th>2</th>\n",
       "      <td>0.921053</td>\n",
       "      <td>28.722973</td>\n",
       "    </tr>\n",
       "    <tr>\n",
       "      <th>3</th>\n",
       "      <td>0.500000</td>\n",
       "      <td>21.750000</td>\n",
       "    </tr>\n",
       "    <tr>\n",
       "      <th rowspan=\"3\" valign=\"top\">male</th>\n",
       "      <th>1</th>\n",
       "      <td>0.368852</td>\n",
       "      <td>41.281386</td>\n",
       "    </tr>\n",
       "    <tr>\n",
       "      <th>2</th>\n",
       "      <td>0.157407</td>\n",
       "      <td>30.740707</td>\n",
       "    </tr>\n",
       "    <tr>\n",
       "      <th>3</th>\n",
       "      <td>0.135447</td>\n",
       "      <td>26.507589</td>\n",
       "    </tr>\n",
       "  </tbody>\n",
       "</table>\n",
       "</div>"
      ],
      "text/plain": [
       "               survived        age\n",
       "sex    pclass                     \n",
       "female 1       0.968085  34.611765\n",
       "       2       0.921053  28.722973\n",
       "       3       0.500000  21.750000\n",
       "male   1       0.368852  41.281386\n",
       "       2       0.157407  30.740707\n",
       "       3       0.135447  26.507589"
      ]
     },
     "execution_count": 49,
     "metadata": {
      "tags": []
     },
     "output_type": "execute_result"
    }
   ],
   "source": [
    "# Show average survival rate and average age broken down by sex and pclass\n",
    "data.groupby(['sex','pclass'])['survived','age'].mean()"
   ]
  },
  {
   "cell_type": "markdown",
   "metadata": {
    "colab_type": "text",
    "id": "vT92jcRDkOkV"
   },
   "source": [
    "## Importing and Exporting Data with Pandas\n",
    "\n",
    "#### Pandas has easy to use functions for importing and exporting different data types: \n",
    "- CSV Files \n",
    "- Excel Worksheets\n",
    "- Queries from Databases\n",
    "\n",
    "Strata Scratch notebooks will exclusively be import data from our platform so we will not be covering other import techniques."
   ]
  },
  {
   "cell_type": "markdown",
   "metadata": {
    "colab_type": "text",
    "id": "le2scA1okOlj"
   },
   "source": [
    "## More Basic Pandas Exercises"
   ]
  },
  {
   "cell_type": "markdown",
   "metadata": {
    "colab_type": "text",
    "id": "721I5B1lkOlj"
   },
   "source": [
    "#### What was the average age of the survivors?"
   ]
  },
  {
   "cell_type": "code",
   "execution_count": null,
   "metadata": {
    "colab": {
     "base_uri": "https://localhost:8080/",
     "height": 85
    },
    "colab_type": "code",
    "executionInfo": {
     "elapsed": 239,
     "status": "ok",
     "timestamp": 1588089666485,
     "user": {
      "displayName": "Scott Stoltzman",
      "photoUrl": "https://lh3.googleusercontent.com/a-/AOh14Gj3t5JBdPym_v5k5u0DlTHdGzmU0L2LtYl1fqBqj1_QzX048mEZ1vF7jGtsBrifS5omYyzpbTS5JNCd8EomVUnFz5HkNwQtoHIC0ZQBhNUZ5Fry8BP5sMfx1_uMq5id4EX1SiZcyNkGlM7nwUJ-JmhrBk7TuFDUqxPiRlXrksQX3G_ZIBE0flAzB7UZSSY8l88vNRzOC9xK1NwmATXD8UTOJ4nYICXSnGAI9tE-nMKXwCpPdG3rrQ9mtFH3ZUyaWqm2WAe9DhdzTV8rLZJV3FlBD3Hr5Md7mxLyXLnRTIg_VyNlVeH0CeSA8q8FJOLQ2WEaPUyI8-5xnvncA9RdP5L_hGdf2OOuy-mYuvoqZKUrdjtgQFlQvhdRjYbiycyJHyGZW_YpHKcYI_rYW4z5IqM9HR3boLXju39dCB6vlmOlmX6mX4-L4DrAUgMq87tkGc8N5sxEIFmgHxnHJUTxQJzZi89bLbdqKTFFG8DW7u_3FyP7Xl0VbNSdjaqa6CsT09iRUIkRKP_drg2LiCsA3_AIiRGZ4dxoL9R2WUYNaxp2ZkTwwMnsNoszb8TKrFo2a1ijn_FxrxcU8W1LbACqHhqwW2hQPgZXm1s9t4RsOaL8X1XAuHZossZTocwftm-nsf7hqCk8PoQBARmbBxeKaNN2n7381THYz0cpIV88MOnhduaQX92e4j0ijCGrT_l5A3jWbCogv0NR1EkzLX_K3MK8CHOfCMBHM742fTUzo7H1jVYUT2uzfYVIUJEjGx659O9saA=s64",
      "userId": "18013987934121387883"
     },
     "user_tz": 360
    },
    "id": "Z9xvt457kOlk",
    "outputId": "01c612bc-f534-469c-cda0-957980707b12"
   },
   "outputs": [
    {
     "data": {
      "text/plain": [
       "survived\n",
       "0    30.626179\n",
       "1    28.343690\n",
       "Name: age, dtype: float64"
      ]
     },
     "execution_count": 54,
     "metadata": {
      "tags": []
     },
     "output_type": "execute_result"
    }
   ],
   "source": [
    "# Show the average age of survivors\n",
    "data"
   ]
  },
  {
   "cell_type": "markdown",
   "metadata": {
    "colab_type": "text",
    "id": "-x5IgI-fkOl2"
   },
   "source": [
    "#### What was the combined survival rate of both children (age less than 18) and seniors (age greater than 60)?"
   ]
  },
  {
   "cell_type": "code",
   "execution_count": null,
   "metadata": {
    "colab": {
     "base_uri": "https://localhost:8080/",
     "height": 34
    },
    "colab_type": "code",
    "executionInfo": {
     "elapsed": 186,
     "status": "ok",
     "timestamp": 1588090111837,
     "user": {
      "displayName": "Scott Stoltzman",
      "photoUrl": "https://lh3.googleusercontent.com/a-/AOh14Gj3t5JBdPym_v5k5u0DlTHdGzmU0L2LtYl1fqBqj1_QzX048mEZ1vF7jGtsBrifS5omYyzpbTS5JNCd8EomVUnFz5HkNwQtoHIC0ZQBhNUZ5Fry8BP5sMfx1_uMq5id4EX1SiZcyNkGlM7nwUJ-JmhrBk7TuFDUqxPiRlXrksQX3G_ZIBE0flAzB7UZSSY8l88vNRzOC9xK1NwmATXD8UTOJ4nYICXSnGAI9tE-nMKXwCpPdG3rrQ9mtFH3ZUyaWqm2WAe9DhdzTV8rLZJV3FlBD3Hr5Md7mxLyXLnRTIg_VyNlVeH0CeSA8q8FJOLQ2WEaPUyI8-5xnvncA9RdP5L_hGdf2OOuy-mYuvoqZKUrdjtgQFlQvhdRjYbiycyJHyGZW_YpHKcYI_rYW4z5IqM9HR3boLXju39dCB6vlmOlmX6mX4-L4DrAUgMq87tkGc8N5sxEIFmgHxnHJUTxQJzZi89bLbdqKTFFG8DW7u_3FyP7Xl0VbNSdjaqa6CsT09iRUIkRKP_drg2LiCsA3_AIiRGZ4dxoL9R2WUYNaxp2ZkTwwMnsNoszb8TKrFo2a1ijn_FxrxcU8W1LbACqHhqwW2hQPgZXm1s9t4RsOaL8X1XAuHZossZTocwftm-nsf7hqCk8PoQBARmbBxeKaNN2n7381THYz0cpIV88MOnhduaQX92e4j0ijCGrT_l5A3jWbCogv0NR1EkzLX_K3MK8CHOfCMBHM742fTUzo7H1jVYUT2uzfYVIUJEjGx659O9saA=s64",
      "userId": "18013987934121387883"
     },
     "user_tz": 360
    },
    "id": "pgNLpPTskOl2",
    "outputId": "4130fc91-8dc5-445e-b988-4a89ca1b9be2"
   },
   "outputs": [
    {
     "data": {
      "text/plain": [
       "0.4888888888888889"
      ]
     },
     "execution_count": 62,
     "metadata": {
      "tags": []
     },
     "output_type": "execute_result"
    }
   ],
   "source": [
    "# Answer the question above\n",
    "data"
   ]
  },
  {
   "cell_type": "markdown",
   "metadata": {
    "colab_type": "text",
    "id": "_TSm_oFMkOl4"
   },
   "source": [
    "#### Group by pClass and investigate average survival rate, age and fare"
   ]
  },
  {
   "cell_type": "code",
   "execution_count": null,
   "metadata": {
    "colab": {
     "base_uri": "https://localhost:8080/",
     "height": 227
    },
    "colab_type": "code",
    "executionInfo": {
     "elapsed": 187,
     "status": "ok",
     "timestamp": 1588090189276,
     "user": {
      "displayName": "Scott Stoltzman",
      "photoUrl": "https://lh3.googleusercontent.com/a-/AOh14Gj3t5JBdPym_v5k5u0DlTHdGzmU0L2LtYl1fqBqj1_QzX048mEZ1vF7jGtsBrifS5omYyzpbTS5JNCd8EomVUnFz5HkNwQtoHIC0ZQBhNUZ5Fry8BP5sMfx1_uMq5id4EX1SiZcyNkGlM7nwUJ-JmhrBk7TuFDUqxPiRlXrksQX3G_ZIBE0flAzB7UZSSY8l88vNRzOC9xK1NwmATXD8UTOJ4nYICXSnGAI9tE-nMKXwCpPdG3rrQ9mtFH3ZUyaWqm2WAe9DhdzTV8rLZJV3FlBD3Hr5Md7mxLyXLnRTIg_VyNlVeH0CeSA8q8FJOLQ2WEaPUyI8-5xnvncA9RdP5L_hGdf2OOuy-mYuvoqZKUrdjtgQFlQvhdRjYbiycyJHyGZW_YpHKcYI_rYW4z5IqM9HR3boLXju39dCB6vlmOlmX6mX4-L4DrAUgMq87tkGc8N5sxEIFmgHxnHJUTxQJzZi89bLbdqKTFFG8DW7u_3FyP7Xl0VbNSdjaqa6CsT09iRUIkRKP_drg2LiCsA3_AIiRGZ4dxoL9R2WUYNaxp2ZkTwwMnsNoszb8TKrFo2a1ijn_FxrxcU8W1LbACqHhqwW2hQPgZXm1s9t4RsOaL8X1XAuHZossZTocwftm-nsf7hqCk8PoQBARmbBxeKaNN2n7381THYz0cpIV88MOnhduaQX92e4j0ijCGrT_l5A3jWbCogv0NR1EkzLX_K3MK8CHOfCMBHM742fTUzo7H1jVYUT2uzfYVIUJEjGx659O9saA=s64",
      "userId": "18013987934121387883"
     },
     "user_tz": 360
    },
    "id": "nS4ek1rjkOl5",
    "outputId": "1b9c8364-e6e0-4429-c5c8-25db23643fdc"
   },
   "outputs": [
    {
     "name": "stderr",
     "output_type": "stream",
     "text": [
      "/usr/local/lib/python3.6/dist-packages/ipykernel_launcher.py:1: FutureWarning: Indexing with multiple keys (implicitly converted to a tuple of keys) will be deprecated, use a list instead.\n",
      "  \"\"\"Entry point for launching an IPython kernel.\n"
     ]
    },
    {
     "data": {
      "text/html": [
       "<div>\n",
       "<style scoped>\n",
       "    .dataframe tbody tr th:only-of-type {\n",
       "        vertical-align: middle;\n",
       "    }\n",
       "\n",
       "    .dataframe tbody tr th {\n",
       "        vertical-align: top;\n",
       "    }\n",
       "\n",
       "    .dataframe thead th {\n",
       "        text-align: right;\n",
       "    }\n",
       "</style>\n",
       "<table border=\"1\" class=\"dataframe\">\n",
       "  <thead>\n",
       "    <tr style=\"text-align: right;\">\n",
       "      <th></th>\n",
       "      <th>survived</th>\n",
       "      <th>age</th>\n",
       "      <th>fare</th>\n",
       "    </tr>\n",
       "    <tr>\n",
       "      <th>pclass</th>\n",
       "      <th></th>\n",
       "      <th></th>\n",
       "      <th></th>\n",
       "    </tr>\n",
       "  </thead>\n",
       "  <tbody>\n",
       "    <tr>\n",
       "      <th>1</th>\n",
       "      <td>0.629630</td>\n",
       "      <td>38.233441</td>\n",
       "      <td>84.154687</td>\n",
       "    </tr>\n",
       "    <tr>\n",
       "      <th>2</th>\n",
       "      <td>0.472826</td>\n",
       "      <td>29.877630</td>\n",
       "      <td>20.662183</td>\n",
       "    </tr>\n",
       "    <tr>\n",
       "      <th>3</th>\n",
       "      <td>0.242363</td>\n",
       "      <td>25.140620</td>\n",
       "      <td>13.675550</td>\n",
       "    </tr>\n",
       "  </tbody>\n",
       "</table>\n",
       "</div>"
      ],
      "text/plain": [
       "        survived        age       fare\n",
       "pclass                                \n",
       "1       0.629630  38.233441  84.154687\n",
       "2       0.472826  29.877630  20.662183\n",
       "3       0.242363  25.140620  13.675550"
      ]
     },
     "execution_count": 64,
     "metadata": {
      "tags": []
     },
     "output_type": "execute_result"
    }
   ],
   "source": [
    "# Deliver the results of the statement above\n",
    "data"
   ]
  },
  {
   "cell_type": "markdown",
   "metadata": {
    "colab_type": "text",
    "id": "VAOb2EXAkOl-"
   },
   "source": [
    "#### Create a CSV with the who and ages of the surivors and another CSV file with the who and ages of the deceased. Please refer to documention (to_csv method) to complete the exercise.\n",
    "\n",
    "[Documentation for the method](https://pandas.pydata.org/pandas-docs/stable/generated/pandas.DataFrame.to_csv.html)"
   ]
  },
  {
   "cell_type": "code",
   "execution_count": null,
   "metadata": {
    "colab": {},
    "colab_type": "code",
    "id": "EL9Px-o8kOl_"
   },
   "outputs": [],
   "source": [
    "# Complete the task above, check out the documentation to understand the new method `to_csv`\n"
   ]
  },
  {
   "cell_type": "code",
   "execution_count": null,
   "metadata": {
    "colab": {},
    "colab_type": "code",
    "id": "ok6TjPmqjj7o"
   },
   "outputs": [],
   "source": []
  }
 ],
 "metadata": {
  "colab": {
   "collapsed_sections": [
    "99XDq7k-kOi0",
    "9-drG9U3TwNB",
    "vDNrimCdkOmC"
   ],
   "name": "Copy of 02 - Homework - Pandas Basics.ipynb",
   "provenance": [
    {
     "file_id": "1a4sbKG7jOJGn4oeonQPA8XjJm7OYgcdX",
     "timestamp": 1587936515299
    }
   ]
  },
  "kernelspec": {
   "display_name": "Python 3",
   "language": "python",
   "name": "python3"
  },
  "language_info": {
   "codemirror_mode": {
    "name": "ipython",
    "version": 3
   },
   "file_extension": ".py",
   "mimetype": "text/x-python",
   "name": "python",
   "nbconvert_exporter": "python",
   "pygments_lexer": "ipython3",
   "version": "3.7.4"
  }
 },
 "nbformat": 4,
 "nbformat_minor": 4
}
