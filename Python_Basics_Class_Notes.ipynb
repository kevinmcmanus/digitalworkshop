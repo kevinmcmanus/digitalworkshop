{
  "nbformat": 4,
  "nbformat_minor": 0,
  "metadata": {
    "colab": {
      "name": "Python Basics Class Notes.ipynb",
      "provenance": [],
      "authorship_tag": "ABX9TyOqzJuoU1rmCaNbSNK4Jm5T",
      "include_colab_link": true
    },
    "kernelspec": {
      "name": "python3",
      "display_name": "Python 3"
    }
  },
  "cells": [
    {
      "cell_type": "markdown",
      "metadata": {
        "id": "view-in-github",
        "colab_type": "text"
      },
      "source": [
        "<a href=\"https://colab.research.google.com/github/kevinmcmanus/digitalworkshop/blob/main/Python_Basics_Class_Notes.ipynb\" target=\"_parent\"><img src=\"https://colab.research.google.com/assets/colab-badge.svg\" alt=\"Open In Colab\"/></a>"
      ]
    },
    {
      "cell_type": "markdown",
      "metadata": {
        "id": "vNHEd8evgrxJ"
      },
      "source": [
        "# Python Basics -- Class Notes"
      ]
    },
    {
      "cell_type": "markdown",
      "metadata": {
        "id": "Xb1lqiODhLMu"
      },
      "source": [
        "## Quick Intro to Notebooks"
      ]
    },
    {
      "cell_type": "markdown",
      "metadata": {
        "id": "zgkcP8dBhQBq"
      },
      "source": [
        "Notebooks combine text, code and output - greatly facititating research,experimentation, collaboration and communication.  Data Scientists use notebooks **a lot**.\r\n",
        "\r\n",
        "Notebooks consist of sequence of text and cell blocks, which can be executed by, in this case, a Python interpreter.  Text blocks are written in a language called Markdown - a very simple text formatting langage. When the cell is executed, the interpreter renders the cell according to your formatting instructions.\r\n",
        "\r\n",
        "A code cell includes Python code and comments. The interpreter executes (or tries to execute) your code when you ask it to.\r\n",
        "\r\n",
        "You execute text and code cells by placing your cursor in the cell, then hit shift+enter. For a code cell, the output from the last line of code is displayed."
      ]
    },
    {
      "cell_type": "code",
      "metadata": {
        "colab": {
          "base_uri": "https://localhost:8080/",
          "height": 35
        },
        "id": "um3b9Pkrjv11",
        "outputId": "78611c1e-e6e5-4e1a-8313-9a8b5e3b4d13"
      },
      "source": [
        "#python comment starts with '#'\r\n",
        "\r\n",
        "'hello'"
      ],
      "execution_count": 7,
      "outputs": [
        {
          "output_type": "execute_result",
          "data": {
            "application/vnd.google.colaboratory.intrinsic+json": {
              "type": "string"
            },
            "text/plain": [
              "'hello'"
            ]
          },
          "metadata": {
            "tags": []
          },
          "execution_count": 7
        }
      ]
    },
    {
      "cell_type": "code",
      "metadata": {
        "colab": {
          "base_uri": "https://localhost:8080/",
          "height": 35
        },
        "id": "CKCbIbMpjy6O",
        "outputId": "77f5c88b-6a95-4b3a-921e-bfe0461f1946"
      },
      "source": [
        "'hello'\r\n",
        "'goodbye'"
      ],
      "execution_count": 4,
      "outputs": [
        {
          "output_type": "execute_result",
          "data": {
            "application/vnd.google.colaboratory.intrinsic+json": {
              "type": "string"
            },
            "text/plain": [
              "'goodbye'"
            ]
          },
          "metadata": {
            "tags": []
          },
          "execution_count": 4
        }
      ]
    },
    {
      "cell_type": "code",
      "metadata": {
        "colab": {
          "base_uri": "https://localhost:8080/"
        },
        "id": "HHNDE_0dkC3w",
        "outputId": "a7950ab9-fe83-4780-ef43-f05c2094450e"
      },
      "source": [
        "print('hello')\r\n",
        "print('goodbye')"
      ],
      "execution_count": 5,
      "outputs": [
        {
          "output_type": "stream",
          "text": [
            "hello\n",
            "goodbye\n"
          ],
          "name": "stdout"
        }
      ]
    },
    {
      "cell_type": "markdown",
      "metadata": {
        "id": "IMWZg74Pg7EI"
      },
      "source": [
        "## Basic Data Types"
      ]
    },
    {
      "cell_type": "markdown",
      "metadata": {
        "id": "bi7SVAlOkPSK"
      },
      "source": [
        "### Scalar Data Types\r\n",
        "\r\n",
        "Capture a **single value** of something, e.g., temperature, weight, name, bank balance, etc.  Scalars have a data-type, which determines what operations you can perform on it."
      ]
    },
    {
      "cell_type": "code",
      "metadata": {
        "colab": {
          "base_uri": "https://localhost:8080/"
        },
        "id": "TPgxTY6alGgV",
        "outputId": "11d20be7-51ea-45df-cec6-d69970856876"
      },
      "source": [
        "weight = 30.0 #grams maybe\r\n",
        "print('weight = ', weight, 'grams')"
      ],
      "execution_count": 6,
      "outputs": [
        {
          "output_type": "stream",
          "text": [
            "weight =  30.0 grams\n"
          ],
          "name": "stdout"
        }
      ]
    },
    {
      "cell_type": "code",
      "metadata": {
        "colab": {
          "base_uri": "https://localhost:8080/"
        },
        "id": "E7stniSZljYG",
        "outputId": "6bbf5ea2-8172-41c6-e26a-54f741966047"
      },
      "source": [
        "#some other scalars:\r\n",
        "name = 'Kevin McManus'\r\n",
        "is_a_good_student = True\r\n",
        "index_value = 11\r\n",
        "\r\n",
        "\r\n",
        "#print these variables out along with their types\r\n",
        "print('Variable: weight: value:',weight,',variable type:', type(weight))\r\n",
        "print('Variable: name: value:',name,',variable type:', type(name))\r\n",
        "print('Variable: is_a_good_student: value:',is_a_good_student,',variable type:', type(is_a_good_student))\r\n",
        "print('Variable: index_value: value:',index_value,',variable type:', type(index_value))"
      ],
      "execution_count": 9,
      "outputs": [
        {
          "output_type": "stream",
          "text": [
            "Variable: weight: value: 30.0 ,variable type: <class 'float'>\n",
            "Variable: name: value: Kevin McManus ,variable type: <class 'str'>\n",
            "Variable: is_a_good_student: value: True ,variable type: <class 'bool'>\n",
            "Variable: index_value: value: 11 ,variable type: <class 'int'>\n"
          ],
          "name": "stdout"
        }
      ]
    },
    {
      "cell_type": "markdown",
      "metadata": {
        "id": "UMU--Wq7hAnH"
      },
      "source": [
        "### List\r\n",
        "\r\n",
        "A collection of n items, numbered 0..n-1. Items can be just about anything."
      ]
    },
    {
      "cell_type": "code",
      "metadata": {
        "colab": {
          "base_uri": "https://localhost:8080/"
        },
        "id": "B8RKJ0eHg0iO",
        "outputId": "f912f72d-ef26-4b35-ef52-bdee142818cd"
      },
      "source": [
        "l = [1, 'kevin', True, None, ['a', 'b', 'c'] ]\r\n",
        "l"
      ],
      "execution_count": 10,
      "outputs": [
        {
          "output_type": "execute_result",
          "data": {
            "text/plain": [
              "[1, 'kevin', True, None, ['a', 'b', 'c']]"
            ]
          },
          "metadata": {
            "tags": []
          },
          "execution_count": 10
        }
      ]
    },
    {
      "cell_type": "code",
      "metadata": {
        "colab": {
          "base_uri": "https://localhost:8080/"
        },
        "id": "h1Zid0aTjYIW",
        "outputId": "1d6a62d4-f535-4a98-94ee-1f348ce7a4e7"
      },
      "source": [
        "#loop thru list, print each item and its type\r\n",
        "for li in l:\r\n",
        "  print('list item:', li, ', list item type:', type(li))"
      ],
      "execution_count": 13,
      "outputs": [
        {
          "output_type": "stream",
          "text": [
            "list item: 1 , list item type: <class 'int'>\n",
            "list item: kevin , list item type: <class 'str'>\n",
            "list item: True , list item type: <class 'bool'>\n",
            "list item: None , list item type: <class 'NoneType'>\n",
            "list item: ['a', 'b', 'c'] , list item type: <class 'list'>\n"
          ],
          "name": "stdout"
        }
      ]
    },
    {
      "cell_type": "code",
      "metadata": {
        "colab": {
          "base_uri": "https://localhost:8080/"
        },
        "id": "13mi3CILoV8i",
        "outputId": "fc164880-fcc4-452a-f810-d6437259b28f"
      },
      "source": [
        "#access individual list elements by subscripting:\r\n",
        "l[2]"
      ],
      "execution_count": 14,
      "outputs": [
        {
          "output_type": "execute_result",
          "data": {
            "text/plain": [
              "True"
            ]
          },
          "metadata": {
            "tags": []
          },
          "execution_count": 14
        }
      ]
    },
    {
      "cell_type": "code",
      "metadata": {
        "colab": {
          "base_uri": "https://localhost:8080/",
          "height": 35
        },
        "id": "0LCtwjMko7Yz",
        "outputId": "0cbc2308-123c-4fe0-d3e3-47be5518ef2a"
      },
      "source": [
        "l[4][2]"
      ],
      "execution_count": 15,
      "outputs": [
        {
          "output_type": "execute_result",
          "data": {
            "application/vnd.google.colaboratory.intrinsic+json": {
              "type": "string"
            },
            "text/plain": [
              "'c'"
            ]
          },
          "metadata": {
            "tags": []
          },
          "execution_count": 15
        }
      ]
    },
    {
      "cell_type": "markdown",
      "metadata": {
        "id": "SLBy2GvTpynt"
      },
      "source": [
        "### Dictionary\r\n",
        "Collection of key:value pairs. **Very, very, very useful!**"
      ]
    },
    {
      "cell_type": "code",
      "metadata": {
        "colab": {
          "base_uri": "https://localhost:8080/"
        },
        "id": "7Qb_kPIepB0b",
        "outputId": "5d28f77f-4244-4e36-e169-19823c94555c"
      },
      "source": [
        "#create an object that captures info about a particular person:\r\n",
        "person = {'name': 'kevin',\r\n",
        "          'weight': 170,\r\n",
        "          'height': 70,\r\n",
        "          'isMarried': True,\r\n",
        "          }\r\n",
        "person"
      ],
      "execution_count": 22,
      "outputs": [
        {
          "output_type": "execute_result",
          "data": {
            "text/plain": [
              "{'height': 70, 'isMarried': True, 'name': 'kevin', 'weight': 170}"
            ]
          },
          "metadata": {
            "tags": []
          },
          "execution_count": 22
        }
      ]
    },
    {
      "cell_type": "code",
      "metadata": {
        "colab": {
          "base_uri": "https://localhost:8080/",
          "height": 35
        },
        "id": "Frk-kmfmrL-Y",
        "outputId": "6bf73d9f-d00a-463c-af0d-272e71930889"
      },
      "source": [
        "#who is that guy?\r\n",
        "person['name']"
      ],
      "execution_count": 23,
      "outputs": [
        {
          "output_type": "execute_result",
          "data": {
            "application/vnd.google.colaboratory.intrinsic+json": {
              "type": "string"
            },
            "text/plain": [
              "'kevin'"
            ]
          },
          "metadata": {
            "tags": []
          },
          "execution_count": 23
        }
      ]
    },
    {
      "cell_type": "code",
      "metadata": {
        "colab": {
          "base_uri": "https://localhost:8080/"
        },
        "id": "OAbJz-c_rhAa",
        "outputId": "2d70b045-5181-4a5f-fca7-755587351a46"
      },
      "source": [
        "#what information do we capture about a person?\r\n",
        "person.keys()"
      ],
      "execution_count": 24,
      "outputs": [
        {
          "output_type": "execute_result",
          "data": {
            "text/plain": [
              "dict_keys(['name', 'weight', 'height', 'isMarried'])"
            ]
          },
          "metadata": {
            "tags": []
          },
          "execution_count": 24
        }
      ]
    },
    {
      "cell_type": "code",
      "metadata": {
        "colab": {
          "base_uri": "https://localhost:8080/"
        },
        "id": "A-s0gDAHr4iG",
        "outputId": "5bad6777-ff6f-43f7-a937-954f5df3ca5a"
      },
      "source": [
        "person.values()"
      ],
      "execution_count": 25,
      "outputs": [
        {
          "output_type": "execute_result",
          "data": {
            "text/plain": [
              "dict_values(['kevin', 170, 70, True])"
            ]
          },
          "metadata": {
            "tags": []
          },
          "execution_count": 25
        }
      ]
    },
    {
      "cell_type": "code",
      "metadata": {
        "colab": {
          "base_uri": "https://localhost:8080/"
        },
        "id": "XJZbkNTlsEnf",
        "outputId": "141712eb-16e4-4676-a54d-2144b4e5e46c"
      },
      "source": [
        "# later we find out how he did:\r\n",
        "person['test_scores'] = [88.7, 95.3, 92.1]\r\n",
        "person"
      ],
      "execution_count": 26,
      "outputs": [
        {
          "output_type": "execute_result",
          "data": {
            "text/plain": [
              "{'height': 70,\n",
              " 'isMarried': True,\n",
              " 'name': 'kevin',\n",
              " 'test_scores': [88.7, 95.3, 92.1],\n",
              " 'weight': 170}"
            ]
          },
          "metadata": {
            "tags": []
          },
          "execution_count": 26
        }
      ]
    },
    {
      "cell_type": "code",
      "metadata": {
        "colab": {
          "base_uri": "https://localhost:8080/"
        },
        "id": "dAE8gql5sqUx",
        "outputId": "6d300d25-1ee1-4543-9551-b15c36bfb275"
      },
      "source": [
        "#how'd he do on the second test?\r\n",
        "person['test_scores'][1]"
      ],
      "execution_count": 27,
      "outputs": [
        {
          "output_type": "execute_result",
          "data": {
            "text/plain": [
              "95.3"
            ]
          },
          "metadata": {
            "tags": []
          },
          "execution_count": 27
        }
      ]
    },
    {
      "cell_type": "code",
      "metadata": {
        "id": "7PrvaSvLsv8Q"
      },
      "source": [
        ""
      ],
      "execution_count": null,
      "outputs": []
    }
  ]
}