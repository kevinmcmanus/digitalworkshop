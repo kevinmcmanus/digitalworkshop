{
  "nbformat": 4,
  "nbformat_minor": 0,
  "metadata": {
    "colab": {
      "name": "Python Basics Class Notes.ipynb",
      "provenance": [],
      "authorship_tag": "ABX9TyNyzxX7tPcNd4sUHlc/DEEN",
      "include_colab_link": true
    },
    "kernelspec": {
      "name": "python3",
      "display_name": "Python 3"
    }
  },
  "cells": [
    {
      "cell_type": "markdown",
      "metadata": {
        "id": "view-in-github",
        "colab_type": "text"
      },
      "source": [
        "<a href=\"https://colab.research.google.com/github/kevinmcmanus/digitalworkshop/blob/main/Python_Basics_Class_Notes.ipynb\" target=\"_parent\"><img src=\"https://colab.research.google.com/assets/colab-badge.svg\" alt=\"Open In Colab\"/></a>"
      ]
    },
    {
      "cell_type": "markdown",
      "metadata": {
        "id": "vNHEd8evgrxJ"
      },
      "source": [
        "# Python Basics -- Class Notes"
      ]
    },
    {
      "cell_type": "markdown",
      "metadata": {
        "id": "Xb1lqiODhLMu"
      },
      "source": [
        "## Quick Intro to Notebooks"
      ]
    },
    {
      "cell_type": "markdown",
      "metadata": {
        "id": "zgkcP8dBhQBq"
      },
      "source": [
        "Notebooks combine text, code and output - greatly facititating research,experimentation, collaboration and communication.  Data Scientists use notebooks **a lot**.\r\n",
        "\r\n",
        "Notebooks consist of sequence of text and cell blocks, which can be executed by, in this case, a Python interpreter.  Text blocks are written in a language called Markdown - a very simple text formatting langage. When the cell is executed, the interpreter renders the cell according to your formatting instructions.\r\n",
        "\r\n",
        "A code cell includes Python code and comments. The interpreter executes (or tries to execute) your code when you ask it to.\r\n",
        "\r\n",
        "You execute text and code cells by placing your cursor in the cell, then hit shift+enter. For a code cell, the output from the last line of code is displayed."
      ]
    },
    {
      "cell_type": "code",
      "metadata": {
        "colab": {
          "base_uri": "https://localhost:8080/",
          "height": 35
        },
        "id": "um3b9Pkrjv11",
        "outputId": "7dba7978-183d-480b-9ff6-be740eb3d574"
      },
      "source": [
        "#python comment starts with '#', Python ignores everything to the right\r\n",
        "\r\n",
        "'hello'"
      ],
      "execution_count": 1,
      "outputs": [
        {
          "output_type": "execute_result",
          "data": {
            "application/vnd.google.colaboratory.intrinsic+json": {
              "type": "string"
            },
            "text/plain": [
              "'hello'"
            ]
          },
          "metadata": {
            "tags": []
          },
          "execution_count": 1
        }
      ]
    },
    {
      "cell_type": "code",
      "metadata": {
        "colab": {
          "base_uri": "https://localhost:8080/",
          "height": 35
        },
        "id": "CKCbIbMpjy6O",
        "outputId": "77f5c88b-6a95-4b3a-921e-bfe0461f1946"
      },
      "source": [
        "#only last statement with implicit output gets displayed\r\n",
        "'hello'\r\n",
        "'goodbye'"
      ],
      "execution_count": null,
      "outputs": [
        {
          "output_type": "execute_result",
          "data": {
            "application/vnd.google.colaboratory.intrinsic+json": {
              "type": "string"
            },
            "text/plain": [
              "'goodbye'"
            ]
          },
          "metadata": {
            "tags": []
          },
          "execution_count": 4
        }
      ]
    },
    {
      "cell_type": "code",
      "metadata": {
        "colab": {
          "base_uri": "https://localhost:8080/"
        },
        "id": "HHNDE_0dkC3w",
        "outputId": "79f8da4e-c4ab-4321-d275-0c2f6763d211"
      },
      "source": [
        "#use print function to get multiple lines of output\r\n",
        "print('hello')\r\n",
        "print('goodbye')"
      ],
      "execution_count": 2,
      "outputs": [
        {
          "output_type": "stream",
          "text": [
            "hello\n",
            "goodbye\n"
          ],
          "name": "stdout"
        }
      ]
    },
    {
      "cell_type": "code",
      "metadata": {
        "id": "clEuG7wb5r0H"
      },
      "source": [
        "#this won't do what you think it should\r\n",
        "for s in ['hello', 'goodbye', 'so long']:\r\n",
        "  s"
      ],
      "execution_count": 5,
      "outputs": []
    },
    {
      "cell_type": "code",
      "metadata": {
        "id": "kdcwC2vO59tb",
        "outputId": "4dbded36-007c-4bcd-ad61-b04ea6202ca4",
        "colab": {
          "base_uri": "https://localhost:8080/"
        }
      },
      "source": [
        "#but this is probably what you want\r\n",
        "for s in ['hello', 'goodbye', 'so long']:\r\n",
        "  print(s)"
      ],
      "execution_count": 6,
      "outputs": [
        {
          "output_type": "stream",
          "text": [
            "hello\n",
            "goodbye\n",
            "so long\n"
          ],
          "name": "stdout"
        }
      ]
    },
    {
      "cell_type": "markdown",
      "metadata": {
        "id": "IMWZg74Pg7EI"
      },
      "source": [
        "## Basic Data Types"
      ]
    },
    {
      "cell_type": "markdown",
      "metadata": {
        "id": "bi7SVAlOkPSK"
      },
      "source": [
        "### Scalar Data Types\r\n",
        "\r\n",
        "Capture a **single value** of something, e.g., temperature, weight, name, bank balance, etc.  Scalars have a data-type, which determines what operations you can perform on it."
      ]
    },
    {
      "cell_type": "code",
      "metadata": {
        "colab": {
          "base_uri": "https://localhost:8080/"
        },
        "id": "TPgxTY6alGgV",
        "outputId": "45db0181-cb93-442f-b384-2b96c2dcad73"
      },
      "source": [
        "weight = 30.0 #grams maybe\r\n",
        "print('weight = ', weight, 'grams')"
      ],
      "execution_count": 7,
      "outputs": [
        {
          "output_type": "stream",
          "text": [
            "weight =  30.0 grams\n"
          ],
          "name": "stdout"
        }
      ]
    },
    {
      "cell_type": "code",
      "metadata": {
        "colab": {
          "base_uri": "https://localhost:8080/"
        },
        "id": "E7stniSZljYG",
        "outputId": "948724eb-9ab7-4a56-997d-340725ec0e50"
      },
      "source": [
        "#some other scalars:\r\n",
        "name = 'Kevin McManus'\r\n",
        "is_a_good_student = True\r\n",
        "index_value = 11\r\n",
        "\r\n",
        "\r\n",
        "#print these variables out along with their types\r\n",
        "print('Variable: weight: value:',weight,',variable type:', type(weight))\r\n",
        "print('Variable: name: value:',name,',variable type:', type(name))\r\n",
        "print('Variable: is_a_good_student: value:',is_a_good_student,',variable type:', type(is_a_good_student))\r\n",
        "print('Variable: index_value: value:',index_value,',variable type:', type(index_value))"
      ],
      "execution_count": 8,
      "outputs": [
        {
          "output_type": "stream",
          "text": [
            "Variable: weight: value: 30.0 ,variable type: <class 'float'>\n",
            "Variable: name: value: Kevin McManus ,variable type: <class 'str'>\n",
            "Variable: is_a_good_student: value: True ,variable type: <class 'bool'>\n",
            "Variable: index_value: value: 11 ,variable type: <class 'int'>\n"
          ],
          "name": "stdout"
        }
      ]
    },
    {
      "cell_type": "markdown",
      "metadata": {
        "id": "UMU--Wq7hAnH"
      },
      "source": [
        "### List\r\n",
        "\r\n",
        "A collection of n items, numbered 0..n-1. Items can be just about anything and they don't have to be the same kind of item."
      ]
    },
    {
      "cell_type": "code",
      "metadata": {
        "colab": {
          "base_uri": "https://localhost:8080/"
        },
        "id": "B8RKJ0eHg0iO",
        "outputId": "a44dc4bf-5b4a-48b1-ee26-c43086e761d6"
      },
      "source": [
        "my_list = [1, 'kevin', True, None, ['a', 'b', 'c'] ]\r\n",
        "my_list"
      ],
      "execution_count": 9,
      "outputs": [
        {
          "output_type": "execute_result",
          "data": {
            "text/plain": [
              "[1, 'kevin', True, None, ['a', 'b', 'c']]"
            ]
          },
          "metadata": {
            "tags": []
          },
          "execution_count": 9
        }
      ]
    },
    {
      "cell_type": "code",
      "metadata": {
        "colab": {
          "base_uri": "https://localhost:8080/"
        },
        "id": "h1Zid0aTjYIW",
        "outputId": "33cc6c1e-eac6-4d2f-ba4d-5bbcbc8e692d"
      },
      "source": [
        "#loop thru list, print each item and its type\r\n",
        "for li in my_list:\r\n",
        "  print('list item:', li, ', list item type:', type(li))"
      ],
      "execution_count": 10,
      "outputs": [
        {
          "output_type": "stream",
          "text": [
            "list item: 1 , list item type: <class 'int'>\n",
            "list item: kevin , list item type: <class 'str'>\n",
            "list item: True , list item type: <class 'bool'>\n",
            "list item: None , list item type: <class 'NoneType'>\n",
            "list item: ['a', 'b', 'c'] , list item type: <class 'list'>\n"
          ],
          "name": "stdout"
        }
      ]
    },
    {
      "cell_type": "code",
      "metadata": {
        "colab": {
          "base_uri": "https://localhost:8080/"
        },
        "id": "13mi3CILoV8i",
        "outputId": "46f2cc04-c437-496b-f0c3-0a1fea28d370"
      },
      "source": [
        "#access individual list elements by subscripting:\r\n",
        "my_list[2]"
      ],
      "execution_count": 11,
      "outputs": [
        {
          "output_type": "execute_result",
          "data": {
            "text/plain": [
              "True"
            ]
          },
          "metadata": {
            "tags": []
          },
          "execution_count": 11
        }
      ]
    },
    {
      "cell_type": "code",
      "metadata": {
        "colab": {
          "base_uri": "https://localhost:8080/",
          "height": 35
        },
        "id": "0LCtwjMko7Yz",
        "outputId": "99824443-22e9-46d1-92ba-a2e09f7bc785"
      },
      "source": [
        "my_list[4][2]"
      ],
      "execution_count": 13,
      "outputs": [
        {
          "output_type": "execute_result",
          "data": {
            "application/vnd.google.colaboratory.intrinsic+json": {
              "type": "string"
            },
            "text/plain": [
              "'c'"
            ]
          },
          "metadata": {
            "tags": []
          },
          "execution_count": 13
        }
      ]
    },
    {
      "cell_type": "markdown",
      "metadata": {
        "id": "SLBy2GvTpynt"
      },
      "source": [
        "### Dictionary\r\n",
        "Collection of key:value pairs. **Very, very, very useful!**"
      ]
    },
    {
      "cell_type": "code",
      "metadata": {
        "colab": {
          "base_uri": "https://localhost:8080/"
        },
        "id": "7Qb_kPIepB0b",
        "outputId": "0b55ee30-267f-4291-88cc-6613f1daf413"
      },
      "source": [
        "#create an object that captures info about a particular person:\r\n",
        "person = {'personID':1234,\r\n",
        "          'name': 'kevin',\r\n",
        "          'weight': 170,\r\n",
        "          'height': 70,\r\n",
        "          'isMarried': True,\r\n",
        "          }\r\n",
        "person"
      ],
      "execution_count": 14,
      "outputs": [
        {
          "output_type": "execute_result",
          "data": {
            "text/plain": [
              "{'height': 70,\n",
              " 'isMarried': True,\n",
              " 'name': 'kevin',\n",
              " 'personID': 1234,\n",
              " 'weight': 170}"
            ]
          },
          "metadata": {
            "tags": []
          },
          "execution_count": 14
        }
      ]
    },
    {
      "cell_type": "code",
      "metadata": {
        "colab": {
          "base_uri": "https://localhost:8080/",
          "height": 35
        },
        "id": "Frk-kmfmrL-Y",
        "outputId": "cefc1636-a52d-41b1-93de-1490b82bb7f7"
      },
      "source": [
        "#who is that guy?\r\n",
        "person['name']"
      ],
      "execution_count": 15,
      "outputs": [
        {
          "output_type": "execute_result",
          "data": {
            "application/vnd.google.colaboratory.intrinsic+json": {
              "type": "string"
            },
            "text/plain": [
              "'kevin'"
            ]
          },
          "metadata": {
            "tags": []
          },
          "execution_count": 15
        }
      ]
    },
    {
      "cell_type": "code",
      "metadata": {
        "colab": {
          "base_uri": "https://localhost:8080/"
        },
        "id": "OAbJz-c_rhAa",
        "outputId": "5ac46c3a-9972-40f7-b2cd-d9a25842be38"
      },
      "source": [
        "#what information do we capture about a person?\r\n",
        "person.keys()"
      ],
      "execution_count": 16,
      "outputs": [
        {
          "output_type": "execute_result",
          "data": {
            "text/plain": [
              "dict_keys(['personID', 'name', 'weight', 'height', 'isMarried'])"
            ]
          },
          "metadata": {
            "tags": []
          },
          "execution_count": 16
        }
      ]
    },
    {
      "cell_type": "code",
      "metadata": {
        "colab": {
          "base_uri": "https://localhost:8080/"
        },
        "id": "A-s0gDAHr4iG",
        "outputId": "d07f9569-869f-4250-e9ad-ca3128b8674e"
      },
      "source": [
        "person.values()"
      ],
      "execution_count": 17,
      "outputs": [
        {
          "output_type": "execute_result",
          "data": {
            "text/plain": [
              "dict_values([1234, 'kevin', 170, 70, True])"
            ]
          },
          "metadata": {
            "tags": []
          },
          "execution_count": 17
        }
      ]
    },
    {
      "cell_type": "code",
      "metadata": {
        "colab": {
          "base_uri": "https://localhost:8080/"
        },
        "id": "XJZbkNTlsEnf",
        "outputId": "14617f4a-a94a-4f12-926c-364a3d816f44"
      },
      "source": [
        "# suppose later we find out how this person did on his tests:\r\n",
        "\r\n",
        "person['test_scores'] = [88.7, 95.3, 92.1] #adds new (non-scalar) attribute\r\n",
        "person"
      ],
      "execution_count": 18,
      "outputs": [
        {
          "output_type": "execute_result",
          "data": {
            "text/plain": [
              "{'height': 70,\n",
              " 'isMarried': True,\n",
              " 'name': 'kevin',\n",
              " 'personID': 1234,\n",
              " 'test_scores': [88.7, 95.3, 92.1],\n",
              " 'weight': 170}"
            ]
          },
          "metadata": {
            "tags": []
          },
          "execution_count": 18
        }
      ]
    },
    {
      "cell_type": "code",
      "metadata": {
        "colab": {
          "base_uri": "https://localhost:8080/"
        },
        "id": "dAE8gql5sqUx",
        "outputId": "bdded4f6-3f9a-45b8-ae37-09474f9f18b2"
      },
      "source": [
        "#how'd he do on the second test?\r\n",
        "person['test_scores'][1] #note zero-relative index: 0=first, 1=second, 2=third..."
      ],
      "execution_count": 19,
      "outputs": [
        {
          "output_type": "execute_result",
          "data": {
            "text/plain": [
              "95.3"
            ]
          },
          "metadata": {
            "tags": []
          },
          "execution_count": 19
        }
      ]
    },
    {
      "cell_type": "markdown",
      "metadata": {
        "id": "UI5ixKN78wJ9"
      },
      "source": [
        "### Sets\r\n",
        "\r\n",
        "Some good examples [here](https://www.programiz.com/python-programming/set)"
      ]
    },
    {
      "cell_type": "code",
      "metadata": {
        "id": "7PrvaSvLsv8Q",
        "outputId": "8d1c1ef3-a6eb-4b8c-dc4f-8ea1902369ab",
        "colab": {
          "base_uri": "https://localhost:8080/"
        }
      },
      "source": [
        "# syntax looks kinda like a dictionary\r\n",
        "xx = {'a', 'b', 'c'}\r\n",
        "xx"
      ],
      "execution_count": 22,
      "outputs": [
        {
          "output_type": "execute_result",
          "data": {
            "text/plain": [
              "{'a', 'b', 'c'}"
            ]
          },
          "metadata": {
            "tags": []
          },
          "execution_count": 22
        }
      ]
    },
    {
      "cell_type": "code",
      "metadata": {
        "id": "ZIZhpUTY89Dy"
      },
      "source": [
        "yy = {'a', 'c', 'x', 'y', 'z'}"
      ],
      "execution_count": 23,
      "outputs": []
    },
    {
      "cell_type": "code",
      "metadata": {
        "id": "5xGXZicr-Mes",
        "outputId": "90d92f8d-f06d-4d63-f3b7-f6c82c880c18",
        "colab": {
          "base_uri": "https://localhost:8080/"
        }
      },
      "source": [
        "#elements in either set\r\n",
        "xx.union(yy)"
      ],
      "execution_count": 25,
      "outputs": [
        {
          "output_type": "execute_result",
          "data": {
            "text/plain": [
              "{'a', 'b', 'c', 'x', 'y', 'z'}"
            ]
          },
          "metadata": {
            "tags": []
          },
          "execution_count": 25
        }
      ]
    },
    {
      "cell_type": "code",
      "metadata": {
        "id": "-J-s0NLM-PV3",
        "outputId": "4e8a25fe-d149-4eb2-f1b2-ce1be214255b",
        "colab": {
          "base_uri": "https://localhost:8080/"
        }
      },
      "source": [
        "#elements the two sets have in common\r\n",
        "xx.intersection(yy)"
      ],
      "execution_count": 26,
      "outputs": [
        {
          "output_type": "execute_result",
          "data": {
            "text/plain": [
              "{'a', 'c'}"
            ]
          },
          "metadata": {
            "tags": []
          },
          "execution_count": 26
        }
      ]
    },
    {
      "cell_type": "code",
      "metadata": {
        "id": "aXHnWeM6-d5k",
        "outputId": "bda0ad43-6530-4a2b-d3b6-07e1cc3f5cc8",
        "colab": {
          "base_uri": "https://localhost:8080/"
        }
      },
      "source": [
        "#what's in xx but not in yy\r\n",
        "xx.difference(yy)"
      ],
      "execution_count": 28,
      "outputs": [
        {
          "output_type": "execute_result",
          "data": {
            "text/plain": [
              "{'b'}"
            ]
          },
          "metadata": {
            "tags": []
          },
          "execution_count": 28
        }
      ]
    },
    {
      "cell_type": "code",
      "metadata": {
        "id": "Xj0dLIpUAyDX",
        "outputId": "8549b0ee-0cbb-497a-df47-e792c61c6e89",
        "colab": {
          "base_uri": "https://localhost:8080/"
        }
      },
      "source": [
        "#which is  not the same as:\r\n",
        "yy.difference(xx)"
      ],
      "execution_count": 31,
      "outputs": [
        {
          "output_type": "execute_result",
          "data": {
            "text/plain": [
              "{'x', 'y', 'z'}"
            ]
          },
          "metadata": {
            "tags": []
          },
          "execution_count": 31
        }
      ]
    },
    {
      "cell_type": "code",
      "metadata": {
        "id": "sb8pAdUG-mEV",
        "outputId": "6d678b12-e4ba-4445-f072-1f80aee8f0bd",
        "colab": {
          "base_uri": "https://localhost:8080/"
        }
      },
      "source": [
        "# are the sets the same?\r\n",
        "xx == yy"
      ],
      "execution_count": 29,
      "outputs": [
        {
          "output_type": "execute_result",
          "data": {
            "text/plain": [
              "False"
            ]
          },
          "metadata": {
            "tags": []
          },
          "execution_count": 29
        }
      ]
    },
    {
      "cell_type": "code",
      "metadata": {
        "id": "5A-aFCx_-2KU",
        "outputId": "0b2b35fc-31f4-4e88-e19a-1ef197aaa24a",
        "colab": {
          "base_uri": "https://localhost:8080/"
        }
      },
      "source": [
        "empty = {}\r\n",
        "type(empty)"
      ],
      "execution_count": 32,
      "outputs": [
        {
          "output_type": "execute_result",
          "data": {
            "text/plain": [
              "dict"
            ]
          },
          "metadata": {
            "tags": []
          },
          "execution_count": 32
        }
      ]
    },
    {
      "cell_type": "code",
      "metadata": {
        "id": "z74xMQfPBX3y",
        "outputId": "13a09ce1-99f3-4496-b80c-a9ea2a5bb9c8",
        "colab": {
          "base_uri": "https://localhost:8080/"
        }
      },
      "source": [
        "empty = set()\r\n",
        "type(empty)"
      ],
      "execution_count": 34,
      "outputs": [
        {
          "output_type": "execute_result",
          "data": {
            "text/plain": [
              "set"
            ]
          },
          "metadata": {
            "tags": []
          },
          "execution_count": 34
        }
      ]
    },
    {
      "cell_type": "code",
      "metadata": {
        "id": "5kkKu2IGBbfH",
        "outputId": "c3f9fe6e-61fc-4a68-ae13-a14b8b287ba8",
        "colab": {
          "base_uri": "https://localhost:8080/"
        }
      },
      "source": [
        "empty.update(xx)\r\n",
        "empty"
      ],
      "execution_count": 36,
      "outputs": [
        {
          "output_type": "execute_result",
          "data": {
            "text/plain": [
              "{'a', 'b', 'c'}"
            ]
          },
          "metadata": {
            "tags": []
          },
          "execution_count": 36
        }
      ]
    },
    {
      "cell_type": "code",
      "metadata": {
        "id": "GNAHcUYwBtZ5",
        "outputId": "03e3ecb8-2459-42d4-d378-8548c03c65b1",
        "colab": {
          "base_uri": "https://localhost:8080/"
        }
      },
      "source": [
        "#update does a union of itself with the argurment\r\n",
        "empty.update(yy)\r\n",
        "empty"
      ],
      "execution_count": 38,
      "outputs": [
        {
          "output_type": "execute_result",
          "data": {
            "text/plain": [
              "{'a', 'b', 'c', 'x', 'y', 'z'}"
            ]
          },
          "metadata": {
            "tags": []
          },
          "execution_count": 38
        }
      ]
    },
    {
      "cell_type": "markdown",
      "metadata": {
        "id": "axTmFmiOCOJ-"
      },
      "source": [
        "## Tuples\r\n",
        "\r\n",
        "Thiink ordered pairs but generalized to n"
      ]
    },
    {
      "cell_type": "code",
      "metadata": {
        "id": "Tvn8Ji7CB2av",
        "outputId": "3811996a-fc5b-46cd-d05f-fe9ffe6d661b",
        "colab": {
          "base_uri": "https://localhost:8080/"
        }
      },
      "source": [
        "tup = ('a', 33, False, 98.6)\r\n",
        "tup"
      ],
      "execution_count": 41,
      "outputs": [
        {
          "output_type": "execute_result",
          "data": {
            "text/plain": [
              "('a', 33, False, 98.6)"
            ]
          },
          "metadata": {
            "tags": []
          },
          "execution_count": 41
        }
      ]
    },
    {
      "cell_type": "code",
      "metadata": {
        "id": "ZN8P_ykeCqRV",
        "outputId": "9fdb75a6-17c1-482e-baa8-422ef3982929",
        "colab": {
          "base_uri": "https://localhost:8080/"
        }
      },
      "source": [
        "#how many 'things' in the tuple?\r\n",
        "len(tup)"
      ],
      "execution_count": 42,
      "outputs": [
        {
          "output_type": "execute_result",
          "data": {
            "text/plain": [
              "4"
            ]
          },
          "metadata": {
            "tags": []
          },
          "execution_count": 42
        }
      ]
    },
    {
      "cell_type": "code",
      "metadata": {
        "id": "FxesjhgYDUDx",
        "outputId": "255b722a-5b5d-4643-f405-25aad516d2fb",
        "colab": {
          "base_uri": "https://localhost:8080/"
        }
      },
      "source": [
        "for i in range(len(tup)):\r\n",
        "  print('element:',i, ', value: ', tup[i])"
      ],
      "execution_count": 43,
      "outputs": [
        {
          "output_type": "stream",
          "text": [
            "element: 0 , value:  a\n",
            "element: 1 , value:  33\n",
            "element: 2 , value:  False\n",
            "element: 3 , value:  98.6\n"
          ],
          "name": "stdout"
        }
      ]
    },
    {
      "cell_type": "markdown",
      "metadata": {
        "id": "DnCB8VsCD-ag"
      },
      "source": [
        "## Data Frames\r\n",
        "\r\n",
        "**Very Important** data structure - Roughly equivalent to database table or spreadsheet page.\r\n",
        "\r\n",
        "Use dataframes to keep your data organaized and consistent from one observation to the next.  Typically one row per observation (or sample or case or instance) and columns for information about each sample."
      ]
    },
    {
      "cell_type": "code",
      "metadata": {
        "id": "KGK4vmdjFUQB"
      },
      "source": [
        "#need to bring in a library for this\r\n",
        "import pandas as pd\r\n",
        "\r\n",
        "#fake up  some data\r\n",
        "person1 = {'personID':1234, 'name': 'kevin', 'weight': 170,'height': 70}\r\n",
        "person2 = {'personID':4321, 'name': 'larry', 'weight': 180,'height': 73}\r\n",
        "person3 = {'personID':6789, 'name': 'mary', 'weight': 135,'height': 64}\r\n",
        "\r\n",
        "#many ways to create a data frame, this is just one:\r\n",
        "#create data frame from list of dicts\r\n",
        "people = pd.DataFrame([person1, person2, person3])"
      ],
      "execution_count": 44,
      "outputs": []
    },
    {
      "cell_type": "code",
      "metadata": {
        "id": "Hs6qohi_Gz24",
        "outputId": "cbb9715a-b820-453f-8938-d17eeba9e5d4",
        "colab": {
          "base_uri": "https://localhost:8080/",
          "height": 142
        }
      },
      "source": [
        "people"
      ],
      "execution_count": 45,
      "outputs": [
        {
          "output_type": "execute_result",
          "data": {
            "text/html": [
              "<div>\n",
              "<style scoped>\n",
              "    .dataframe tbody tr th:only-of-type {\n",
              "        vertical-align: middle;\n",
              "    }\n",
              "\n",
              "    .dataframe tbody tr th {\n",
              "        vertical-align: top;\n",
              "    }\n",
              "\n",
              "    .dataframe thead th {\n",
              "        text-align: right;\n",
              "    }\n",
              "</style>\n",
              "<table border=\"1\" class=\"dataframe\">\n",
              "  <thead>\n",
              "    <tr style=\"text-align: right;\">\n",
              "      <th></th>\n",
              "      <th>personID</th>\n",
              "      <th>name</th>\n",
              "      <th>weight</th>\n",
              "      <th>height</th>\n",
              "    </tr>\n",
              "  </thead>\n",
              "  <tbody>\n",
              "    <tr>\n",
              "      <th>0</th>\n",
              "      <td>1234</td>\n",
              "      <td>kevin</td>\n",
              "      <td>170</td>\n",
              "      <td>70</td>\n",
              "    </tr>\n",
              "    <tr>\n",
              "      <th>1</th>\n",
              "      <td>4321</td>\n",
              "      <td>larry</td>\n",
              "      <td>180</td>\n",
              "      <td>73</td>\n",
              "    </tr>\n",
              "    <tr>\n",
              "      <th>2</th>\n",
              "      <td>6789</td>\n",
              "      <td>mary</td>\n",
              "      <td>135</td>\n",
              "      <td>64</td>\n",
              "    </tr>\n",
              "  </tbody>\n",
              "</table>\n",
              "</div>"
            ],
            "text/plain": [
              "   personID   name  weight  height\n",
              "0      1234  kevin     170      70\n",
              "1      4321  larry     180      73\n",
              "2      6789   mary     135      64"
            ]
          },
          "metadata": {
            "tags": []
          },
          "execution_count": 45
        }
      ]
    },
    {
      "cell_type": "code",
      "metadata": {
        "id": "0zdwqVcOG3EY",
        "outputId": "8974bc6b-8c85-4dd8-9bed-72906141fba5",
        "colab": {
          "base_uri": "https://localhost:8080/",
          "height": 313
        }
      },
      "source": [
        "people.plot.bar(x='name',y='weight')"
      ],
      "execution_count": 48,
      "outputs": [
        {
          "output_type": "execute_result",
          "data": {
            "text/plain": [
              "<matplotlib.axes._subplots.AxesSubplot at 0x7f43b4872588>"
            ]
          },
          "metadata": {
            "tags": []
          },
          "execution_count": 48
        },
        {
          "output_type": "display_data",
          "data": {
            "image/png": "[encoded data removed]",
            "text/plain": [
              "<Figure size 432x288 with 1 Axes>"
            ]
          },
          "metadata": {
            "tags": [],
            "needs_background": "light"
          }
        }
      ]
    },
    {
      "cell_type": "code",
      "metadata": {
        "id": "PhxJRfcVHGp8"
      },
      "source": [
        "#more complicated data sete\r\n",
        "iris = pd.read_csv('https://raw.githubusercontent.com/mwaskom/seaborn-data/master/iris.csv')"
      ],
      "execution_count": 53,
      "outputs": []
    },
    {
      "cell_type": "code",
      "metadata": {
        "id": "F48wyk-NIOuK",
        "outputId": "3e2be82f-5455-4d80-e87c-9e98c7d4298d",
        "colab": {
          "base_uri": "https://localhost:8080/",
          "height": 419
        }
      },
      "source": [
        "iris"
      ],
      "execution_count": 52,
      "outputs": [
        {
          "output_type": "execute_result",
          "data": {
            "text/html": [
              "<div>\n",
              "<style scoped>\n",
              "    .dataframe tbody tr th:only-of-type {\n",
              "        vertical-align: middle;\n",
              "    }\n",
              "\n",
              "    .dataframe tbody tr th {\n",
              "        vertical-align: top;\n",
              "    }\n",
              "\n",
              "    .dataframe thead th {\n",
              "        text-align: right;\n",
              "    }\n",
              "</style>\n",
              "<table border=\"1\" class=\"dataframe\">\n",
              "  <thead>\n",
              "    <tr style=\"text-align: right;\">\n",
              "      <th></th>\n",
              "      <th>sepal_length</th>\n",
              "      <th>sepal_width</th>\n",
              "      <th>petal_length</th>\n",
              "      <th>petal_width</th>\n",
              "      <th>species</th>\n",
              "    </tr>\n",
              "  </thead>\n",
              "  <tbody>\n",
              "    <tr>\n",
              "      <th>0</th>\n",
              "      <td>5.1</td>\n",
              "      <td>3.5</td>\n",
              "      <td>1.4</td>\n",
              "      <td>0.2</td>\n",
              "      <td>setosa</td>\n",
              "    </tr>\n",
              "    <tr>\n",
              "      <th>1</th>\n",
              "      <td>4.9</td>\n",
              "      <td>3.0</td>\n",
              "      <td>1.4</td>\n",
              "      <td>0.2</td>\n",
              "      <td>setosa</td>\n",
              "    </tr>\n",
              "    <tr>\n",
              "      <th>2</th>\n",
              "      <td>4.7</td>\n",
              "      <td>3.2</td>\n",
              "      <td>1.3</td>\n",
              "      <td>0.2</td>\n",
              "      <td>setosa</td>\n",
              "    </tr>\n",
              "    <tr>\n",
              "      <th>3</th>\n",
              "      <td>4.6</td>\n",
              "      <td>3.1</td>\n",
              "      <td>1.5</td>\n",
              "      <td>0.2</td>\n",
              "      <td>setosa</td>\n",
              "    </tr>\n",
              "    <tr>\n",
              "      <th>4</th>\n",
              "      <td>5.0</td>\n",
              "      <td>3.6</td>\n",
              "      <td>1.4</td>\n",
              "      <td>0.2</td>\n",
              "      <td>setosa</td>\n",
              "    </tr>\n",
              "    <tr>\n",
              "      <th>...</th>\n",
              "      <td>...</td>\n",
              "      <td>...</td>\n",
              "      <td>...</td>\n",
              "      <td>...</td>\n",
              "      <td>...</td>\n",
              "    </tr>\n",
              "    <tr>\n",
              "      <th>145</th>\n",
              "      <td>6.7</td>\n",
              "      <td>3.0</td>\n",
              "      <td>5.2</td>\n",
              "      <td>2.3</td>\n",
              "      <td>virginica</td>\n",
              "    </tr>\n",
              "    <tr>\n",
              "      <th>146</th>\n",
              "      <td>6.3</td>\n",
              "      <td>2.5</td>\n",
              "      <td>5.0</td>\n",
              "      <td>1.9</td>\n",
              "      <td>virginica</td>\n",
              "    </tr>\n",
              "    <tr>\n",
              "      <th>147</th>\n",
              "      <td>6.5</td>\n",
              "      <td>3.0</td>\n",
              "      <td>5.2</td>\n",
              "      <td>2.0</td>\n",
              "      <td>virginica</td>\n",
              "    </tr>\n",
              "    <tr>\n",
              "      <th>148</th>\n",
              "      <td>6.2</td>\n",
              "      <td>3.4</td>\n",
              "      <td>5.4</td>\n",
              "      <td>2.3</td>\n",
              "      <td>virginica</td>\n",
              "    </tr>\n",
              "    <tr>\n",
              "      <th>149</th>\n",
              "      <td>5.9</td>\n",
              "      <td>3.0</td>\n",
              "      <td>5.1</td>\n",
              "      <td>1.8</td>\n",
              "      <td>virginica</td>\n",
              "    </tr>\n",
              "  </tbody>\n",
              "</table>\n",
              "<p>150 rows × 5 columns</p>\n",
              "</div>"
            ],
            "text/plain": [
              "     sepal_length  sepal_width  petal_length  petal_width    species\n",
              "0             5.1          3.5           1.4          0.2     setosa\n",
              "1             4.9          3.0           1.4          0.2     setosa\n",
              "2             4.7          3.2           1.3          0.2     setosa\n",
              "3             4.6          3.1           1.5          0.2     setosa\n",
              "4             5.0          3.6           1.4          0.2     setosa\n",
              "..            ...          ...           ...          ...        ...\n",
              "145           6.7          3.0           5.2          2.3  virginica\n",
              "146           6.3          2.5           5.0          1.9  virginica\n",
              "147           6.5          3.0           5.2          2.0  virginica\n",
              "148           6.2          3.4           5.4          2.3  virginica\n",
              "149           5.9          3.0           5.1          1.8  virginica\n",
              "\n",
              "[150 rows x 5 columns]"
            ]
          },
          "metadata": {
            "tags": []
          },
          "execution_count": 52
        }
      ]
    },
    {
      "cell_type": "code",
      "metadata": {
        "id": "ku3Wf8N9I3XR",
        "outputId": "df2adb28-5d38-42ab-9d16-7a1117365139",
        "colab": {
          "base_uri": "https://localhost:8080/",
          "height": 297
        }
      },
      "source": [
        "iris.describe()"
      ],
      "execution_count": 57,
      "outputs": [
        {
          "output_type": "execute_result",
          "data": {
            "text/html": [
              "<div>\n",
              "<style scoped>\n",
              "    .dataframe tbody tr th:only-of-type {\n",
              "        vertical-align: middle;\n",
              "    }\n",
              "\n",
              "    .dataframe tbody tr th {\n",
              "        vertical-align: top;\n",
              "    }\n",
              "\n",
              "    .dataframe thead th {\n",
              "        text-align: right;\n",
              "    }\n",
              "</style>\n",
              "<table border=\"1\" class=\"dataframe\">\n",
              "  <thead>\n",
              "    <tr style=\"text-align: right;\">\n",
              "      <th></th>\n",
              "      <th>sepal_length</th>\n",
              "      <th>sepal_width</th>\n",
              "      <th>petal_length</th>\n",
              "      <th>petal_width</th>\n",
              "    </tr>\n",
              "  </thead>\n",
              "  <tbody>\n",
              "    <tr>\n",
              "      <th>count</th>\n",
              "      <td>150.000000</td>\n",
              "      <td>150.000000</td>\n",
              "      <td>150.000000</td>\n",
              "      <td>150.000000</td>\n",
              "    </tr>\n",
              "    <tr>\n",
              "      <th>mean</th>\n",
              "      <td>5.843333</td>\n",
              "      <td>3.057333</td>\n",
              "      <td>3.758000</td>\n",
              "      <td>1.199333</td>\n",
              "    </tr>\n",
              "    <tr>\n",
              "      <th>std</th>\n",
              "      <td>0.828066</td>\n",
              "      <td>0.435866</td>\n",
              "      <td>1.765298</td>\n",
              "      <td>0.762238</td>\n",
              "    </tr>\n",
              "    <tr>\n",
              "      <th>min</th>\n",
              "      <td>4.300000</td>\n",
              "      <td>2.000000</td>\n",
              "      <td>1.000000</td>\n",
              "      <td>0.100000</td>\n",
              "    </tr>\n",
              "    <tr>\n",
              "      <th>25%</th>\n",
              "      <td>5.100000</td>\n",
              "      <td>2.800000</td>\n",
              "      <td>1.600000</td>\n",
              "      <td>0.300000</td>\n",
              "    </tr>\n",
              "    <tr>\n",
              "      <th>50%</th>\n",
              "      <td>5.800000</td>\n",
              "      <td>3.000000</td>\n",
              "      <td>4.350000</td>\n",
              "      <td>1.300000</td>\n",
              "    </tr>\n",
              "    <tr>\n",
              "      <th>75%</th>\n",
              "      <td>6.400000</td>\n",
              "      <td>3.300000</td>\n",
              "      <td>5.100000</td>\n",
              "      <td>1.800000</td>\n",
              "    </tr>\n",
              "    <tr>\n",
              "      <th>max</th>\n",
              "      <td>7.900000</td>\n",
              "      <td>4.400000</td>\n",
              "      <td>6.900000</td>\n",
              "      <td>2.500000</td>\n",
              "    </tr>\n",
              "  </tbody>\n",
              "</table>\n",
              "</div>"
            ],
            "text/plain": [
              "       sepal_length  sepal_width  petal_length  petal_width\n",
              "count    150.000000   150.000000    150.000000   150.000000\n",
              "mean       5.843333     3.057333      3.758000     1.199333\n",
              "std        0.828066     0.435866      1.765298     0.762238\n",
              "min        4.300000     2.000000      1.000000     0.100000\n",
              "25%        5.100000     2.800000      1.600000     0.300000\n",
              "50%        5.800000     3.000000      4.350000     1.300000\n",
              "75%        6.400000     3.300000      5.100000     1.800000\n",
              "max        7.900000     4.400000      6.900000     2.500000"
            ]
          },
          "metadata": {
            "tags": []
          },
          "execution_count": 57
        }
      ]
    },
    {
      "cell_type": "code",
      "metadata": {
        "id": "FLyolGd-JYPg",
        "outputId": "10764aa7-eee6-4e61-a266-4e9fefccca3a",
        "colab": {
          "base_uri": "https://localhost:8080/"
        }
      },
      "source": [
        "iris.info()"
      ],
      "execution_count": 58,
      "outputs": [
        {
          "output_type": "stream",
          "text": [
            "<class 'pandas.core.frame.DataFrame'>\n",
            "RangeIndex: 150 entries, 0 to 149\n",
            "Data columns (total 5 columns):\n",
            " #   Column        Non-Null Count  Dtype  \n",
            "---  ------        --------------  -----  \n",
            " 0   sepal_length  150 non-null    float64\n",
            " 1   sepal_width   150 non-null    float64\n",
            " 2   petal_length  150 non-null    float64\n",
            " 3   petal_width   150 non-null    float64\n",
            " 4   species       150 non-null    object \n",
            "dtypes: float64(4), object(1)\n",
            "memory usage: 6.0+ KB\n"
          ],
          "name": "stdout"
        }
      ]
    },
    {
      "cell_type": "code",
      "metadata": {
        "id": "F-w38dFbKj2L",
        "outputId": "d4797925-457c-4c4d-d66b-bc50361dc38c",
        "colab": {
          "base_uri": "https://localhost:8080/"
        }
      },
      "source": [
        "iris.petal_length"
      ],
      "execution_count": 59,
      "outputs": [
        {
          "output_type": "execute_result",
          "data": {
            "text/plain": [
              "0      1.4\n",
              "1      1.4\n",
              "2      1.3\n",
              "3      1.5\n",
              "4      1.4\n",
              "      ... \n",
              "145    5.2\n",
              "146    5.0\n",
              "147    5.2\n",
              "148    5.4\n",
              "149    5.1\n",
              "Name: petal_length, Length: 150, dtype: float64"
            ]
          },
          "metadata": {
            "tags": []
          },
          "execution_count": 59
        }
      ]
    },
    {
      "cell_type": "code",
      "metadata": {
        "id": "WkKMNE9ZKt_h"
      },
      "source": [
        "import seaborn as sns"
      ],
      "execution_count": 60,
      "outputs": []
    },
    {
      "cell_type": "code",
      "metadata": {
        "id": "ZRpj74tYK_bx",
        "outputId": "2899e77e-87b4-4286-96d5-3ea801ae21e9",
        "colab": {
          "base_uri": "https://localhost:8080/",
          "height": 296
        }
      },
      "source": [
        "sns.boxplot(data=iris, x='species', y='petal_length')"
      ],
      "execution_count": 61,
      "outputs": [
        {
          "output_type": "execute_result",
          "data": {
            "text/plain": [
              "<matplotlib.axes._subplots.AxesSubplot at 0x7f43a5412588>"
            ]
          },
          "metadata": {
            "tags": []
          },
          "execution_count": 61
        },
        {
          "output_type": "display_data",
          "data": {
            "image/png": "[encoded data removed]",
            "text/plain": [
              "<Figure size 432x288 with 1 Axes>"
            ]
          },
          "metadata": {
            "tags": [],
            "needs_background": "light"
          }
        }
      ]
    },
    {
      "cell_type": "code",
      "metadata": {
        "id": "CEOYiUWULLWI",
        "outputId": "074efe9c-d8a9-42b2-93c6-649c4329a2ce",
        "colab": {
          "base_uri": "https://localhost:8080/",
          "height": 297
        }
      },
      "source": [
        "sns.scatterplot(data=iris,x='petal_length', y='petal_width', hue='species')"
      ],
      "execution_count": 64,
      "outputs": [
        {
          "output_type": "execute_result",
          "data": {
            "text/plain": [
              "<matplotlib.axes._subplots.AxesSubplot at 0x7f43a52f9518>"
            ]
          },
          "metadata": {
            "tags": []
          },
          "execution_count": 64
        },
        {
          "output_type": "display_data",
          "data": {
            "image/png": "[encoded data removed]",
            "text/plain": [
              "<Figure size 432x288 with 1 Axes>"
            ]
          },
          "metadata": {
            "tags": [],
            "needs_background": "light"
          }
        }
      ]
    },
    {
      "cell_type": "code",
      "metadata": {
        "id": "MjMCjnxlLtkr"
      },
      "source": [
        ""
      ],
      "execution_count": null,
      "outputs": []
    }
  ]
}