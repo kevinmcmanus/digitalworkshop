{
 "cells": [
  {
   "cell_type": "markdown",
   "metadata": {
    "colab_type": "text",
    "id": "uemhAVHj8HcQ"
   },
   "source": [
    "# Quick Look at `pandas`\n"
   ]
  },
  {
   "cell_type": "markdown",
   "metadata": {
    "colab_type": "text",
    "id": "B1i5_D688V_8"
   },
   "source": [
    "## Importing a library\n",
    "\n",
    "What is the difference between:\n",
    "`import pandas` vs. `import pandas as pd`"
   ]
  },
  {
   "cell_type": "code",
   "execution_count": null,
   "metadata": {
    "colab": {},
    "colab_type": "code",
    "id": "wIgMMpMt8EMY"
   },
   "outputs": [],
   "source": [
    "# Utilize \"as pd\" for your import\n",
    "import pandas as pd"
   ]
  },
  {
   "cell_type": "markdown",
   "metadata": {
    "colab_type": "text",
    "id": "OKZTKoH78noT"
   },
   "source": [
    "## Reading in CSV data\n",
    "\n",
    "\n",
    "\n",
    "*   Easily done in `pandas`\n",
    "*   Can be done via standard library as well\n",
    "*   If possible, make your life easier by using `pandas`\n",
    "    *    Read from local drive or directly from uri (https://.....)\n"
   ]
  },
  {
   "cell_type": "code",
   "execution_count": 12,
   "metadata": {
    "colab": {
     "base_uri": "https://localhost:8080/",
     "height": 419
    },
    "colab_type": "code",
    "executionInfo": {
     "elapsed": 1083,
     "status": "ok",
     "timestamp": 1588815516493,
     "user": {
      "displayName": "Scott Stoltzman",
      "photoUrl": "https://lh3.googleusercontent.com/a-/AOh14GiWnHiUIO9IXvseH5kKiZ5QvgvCCSHdHNk5RE7a0Tz5Fhj7U4XVQHSsbkr3xG5P-SOZ3HXEeHlo6sk-DEHzFYIopGNi485SHhMqHll10fNBT8arFAWqi8w2l4ZrcPONI6rQBvyStzYoNGhZ30LDD_oPCK-UmB6D6qfdUn_LHKZhpJ6b5dhJQLnN62CAYeg2JvYi5jp7XfI5vhfbgd7Cr8bTATewtk1W7jGlK7pClNPvb3IyL6zbwhJ9AiJVEi32kBmEe6tJEQoMZb3jtWwl2PGrEA65oYCO3hlGJL4F0FJRyXUYckr-JDCw5dIj4xpGrGPW4XtxGlo4rKhNokDyHsZNQ_7d24T-IkZ5BfOsiW2y8OAJYPFUE63OFBB3Dqrmqr06KYDNiW7CyYNHMV0f3TUrphVpQlKkB-6dvxbzCiOb_ywcxQpl-zMtZ7DJI0kY1q_qt6v-FZW3aPbA7AjRNw4_erEr4YYD-8DVgs0MchTDRN9OqbOUkw2uH9oKl_G7qcdnQZNIPaZ-f6sIgpVoQOuw-OHuosgmlFAgxnyo2qkkV8QgLdDd01Qm99Sd8Bj7TS9KdEx0_IjdILcCExnzAmtTPoE0OOPoHmShhrGojDG9Smd4Dtk43hdRA2bY3MHru-07nrzJqnDDFUBEoaGkqn2ZqRlPbHhlvdWMNS2Pu4TmsPaf4iPgz4HYo_b_eBqbnmhBUEUTdmkmZBYH_yrrFmqqXnrXzCShB3qnfC9IBf6xhyo2r3GGkUAHGBHuXQ99TOTH0w=s64",
      "userId": "18013987934121387883"
     },
     "user_tz": 360
    },
    "id": "WOCdDWbY8lJn",
    "outputId": "0b366df1-dee6-4a60-e517-860745a3af37"
   },
   "outputs": [
    {
     "data": {
      "text/html": [
       "<div>\n",
       "<style scoped>\n",
       "    .dataframe tbody tr th:only-of-type {\n",
       "        vertical-align: middle;\n",
       "    }\n",
       "\n",
       "    .dataframe tbody tr th {\n",
       "        vertical-align: top;\n",
       "    }\n",
       "\n",
       "    .dataframe thead th {\n",
       "        text-align: right;\n",
       "    }\n",
       "</style>\n",
       "<table border=\"1\" class=\"dataframe\">\n",
       "  <thead>\n",
       "    <tr style=\"text-align: right;\">\n",
       "      <th></th>\n",
       "      <th>weight</th>\n",
       "      <th>Time</th>\n",
       "      <th>Chick</th>\n",
       "      <th>Diet</th>\n",
       "    </tr>\n",
       "  </thead>\n",
       "  <tbody>\n",
       "    <tr>\n",
       "      <th>0</th>\n",
       "      <td>42</td>\n",
       "      <td>0</td>\n",
       "      <td>1</td>\n",
       "      <td>1</td>\n",
       "    </tr>\n",
       "    <tr>\n",
       "      <th>1</th>\n",
       "      <td>51</td>\n",
       "      <td>2</td>\n",
       "      <td>1</td>\n",
       "      <td>1</td>\n",
       "    </tr>\n",
       "    <tr>\n",
       "      <th>2</th>\n",
       "      <td>59</td>\n",
       "      <td>4</td>\n",
       "      <td>1</td>\n",
       "      <td>1</td>\n",
       "    </tr>\n",
       "    <tr>\n",
       "      <th>3</th>\n",
       "      <td>64</td>\n",
       "      <td>6</td>\n",
       "      <td>1</td>\n",
       "      <td>1</td>\n",
       "    </tr>\n",
       "    <tr>\n",
       "      <th>4</th>\n",
       "      <td>76</td>\n",
       "      <td>8</td>\n",
       "      <td>1</td>\n",
       "      <td>1</td>\n",
       "    </tr>\n",
       "    <tr>\n",
       "      <th>...</th>\n",
       "      <td>...</td>\n",
       "      <td>...</td>\n",
       "      <td>...</td>\n",
       "      <td>...</td>\n",
       "    </tr>\n",
       "    <tr>\n",
       "      <th>573</th>\n",
       "      <td>175</td>\n",
       "      <td>14</td>\n",
       "      <td>50</td>\n",
       "      <td>4</td>\n",
       "    </tr>\n",
       "    <tr>\n",
       "      <th>574</th>\n",
       "      <td>205</td>\n",
       "      <td>16</td>\n",
       "      <td>50</td>\n",
       "      <td>4</td>\n",
       "    </tr>\n",
       "    <tr>\n",
       "      <th>575</th>\n",
       "      <td>234</td>\n",
       "      <td>18</td>\n",
       "      <td>50</td>\n",
       "      <td>4</td>\n",
       "    </tr>\n",
       "    <tr>\n",
       "      <th>576</th>\n",
       "      <td>264</td>\n",
       "      <td>20</td>\n",
       "      <td>50</td>\n",
       "      <td>4</td>\n",
       "    </tr>\n",
       "    <tr>\n",
       "      <th>577</th>\n",
       "      <td>264</td>\n",
       "      <td>21</td>\n",
       "      <td>50</td>\n",
       "      <td>4</td>\n",
       "    </tr>\n",
       "  </tbody>\n",
       "</table>\n",
       "<p>578 rows × 4 columns</p>\n",
       "</div>"
      ],
      "text/plain": [
       "     weight  Time  Chick  Diet\n",
       "0        42     0      1     1\n",
       "1        51     2      1     1\n",
       "2        59     4      1     1\n",
       "3        64     6      1     1\n",
       "4        76     8      1     1\n",
       "..      ...   ...    ...   ...\n",
       "573     175    14     50     4\n",
       "574     205    16     50     4\n",
       "575     234    18     50     4\n",
       "576     264    20     50     4\n",
       "577     264    21     50     4\n",
       "\n",
       "[578 rows x 4 columns]"
      ]
     },
     "execution_count": 12,
     "metadata": {
      "tags": []
     },
     "output_type": "execute_result"
    }
   ],
   "source": [
    "# Assign a DataFrame as data from https://foco-ds-portal-files.s3.amazonaws.com/chicken_weights.csv\n",
    "data = pd.read_csv('https://foco-ds-portal-files.s3.amazonaws.com/chicken_weights.csv')\n",
    "data"
   ]
  },
  {
   "cell_type": "markdown",
   "metadata": {
    "colab_type": "text",
    "id": "V36YulvH-8CV"
   },
   "source": [
    "Many other data types are possible, just need to understand how it is formatted."
   ]
  },
  {
   "cell_type": "markdown",
   "metadata": {
    "colab_type": "text",
    "id": "X4th0Cl8_Bub"
   },
   "source": [
    "## Basic pandas DataFrame methods"
   ]
  },
  {
   "cell_type": "markdown",
   "metadata": {
    "colab_type": "text",
    "id": "hkII1A2i_aEl"
   },
   "source": [
    "First and last rows:"
   ]
  },
  {
   "cell_type": "code",
   "execution_count": 14,
   "metadata": {
    "colab": {
     "base_uri": "https://localhost:8080/",
     "height": 142
    },
    "colab_type": "code",
    "executionInfo": {
     "elapsed": 1034,
     "status": "ok",
     "timestamp": 1588815581663,
     "user": {
      "displayName": "Scott Stoltzman",
      "photoUrl": "https://lh3.googleusercontent.com/a-/AOh14GiWnHiUIO9IXvseH5kKiZ5QvgvCCSHdHNk5RE7a0Tz5Fhj7U4XVQHSsbkr3xG5P-SOZ3HXEeHlo6sk-DEHzFYIopGNi485SHhMqHll10fNBT8arFAWqi8w2l4ZrcPONI6rQBvyStzYoNGhZ30LDD_oPCK-UmB6D6qfdUn_LHKZhpJ6b5dhJQLnN62CAYeg2JvYi5jp7XfI5vhfbgd7Cr8bTATewtk1W7jGlK7pClNPvb3IyL6zbwhJ9AiJVEi32kBmEe6tJEQoMZb3jtWwl2PGrEA65oYCO3hlGJL4F0FJRyXUYckr-JDCw5dIj4xpGrGPW4XtxGlo4rKhNokDyHsZNQ_7d24T-IkZ5BfOsiW2y8OAJYPFUE63OFBB3Dqrmqr06KYDNiW7CyYNHMV0f3TUrphVpQlKkB-6dvxbzCiOb_ywcxQpl-zMtZ7DJI0kY1q_qt6v-FZW3aPbA7AjRNw4_erEr4YYD-8DVgs0MchTDRN9OqbOUkw2uH9oKl_G7qcdnQZNIPaZ-f6sIgpVoQOuw-OHuosgmlFAgxnyo2qkkV8QgLdDd01Qm99Sd8Bj7TS9KdEx0_IjdILcCExnzAmtTPoE0OOPoHmShhrGojDG9Smd4Dtk43hdRA2bY3MHru-07nrzJqnDDFUBEoaGkqn2ZqRlPbHhlvdWMNS2Pu4TmsPaf4iPgz4HYo_b_eBqbnmhBUEUTdmkmZBYH_yrrFmqqXnrXzCShB3qnfC9IBf6xhyo2r3GGkUAHGBHuXQ99TOTH0w=s64",
      "userId": "18013987934121387883"
     },
     "user_tz": 360
    },
    "id": "6ni_GYYf-2em",
    "outputId": "98bb701b-dda3-42e1-ae88-bce03eb35eeb"
   },
   "outputs": [
    {
     "data": {
      "text/html": [
       "<div>\n",
       "<style scoped>\n",
       "    .dataframe tbody tr th:only-of-type {\n",
       "        vertical-align: middle;\n",
       "    }\n",
       "\n",
       "    .dataframe tbody tr th {\n",
       "        vertical-align: top;\n",
       "    }\n",
       "\n",
       "    .dataframe thead th {\n",
       "        text-align: right;\n",
       "    }\n",
       "</style>\n",
       "<table border=\"1\" class=\"dataframe\">\n",
       "  <thead>\n",
       "    <tr style=\"text-align: right;\">\n",
       "      <th></th>\n",
       "      <th>weight</th>\n",
       "      <th>Time</th>\n",
       "      <th>Chick</th>\n",
       "      <th>Diet</th>\n",
       "    </tr>\n",
       "  </thead>\n",
       "  <tbody>\n",
       "    <tr>\n",
       "      <th>0</th>\n",
       "      <td>42</td>\n",
       "      <td>0</td>\n",
       "      <td>1</td>\n",
       "      <td>1</td>\n",
       "    </tr>\n",
       "    <tr>\n",
       "      <th>1</th>\n",
       "      <td>51</td>\n",
       "      <td>2</td>\n",
       "      <td>1</td>\n",
       "      <td>1</td>\n",
       "    </tr>\n",
       "    <tr>\n",
       "      <th>2</th>\n",
       "      <td>59</td>\n",
       "      <td>4</td>\n",
       "      <td>1</td>\n",
       "      <td>1</td>\n",
       "    </tr>\n",
       "  </tbody>\n",
       "</table>\n",
       "</div>"
      ],
      "text/plain": [
       "   weight  Time  Chick  Diet\n",
       "0      42     0      1     1\n",
       "1      51     2      1     1\n",
       "2      59     4      1     1"
      ]
     },
     "execution_count": 14,
     "metadata": {
      "tags": []
     },
     "output_type": "execute_result"
    }
   ],
   "source": [
    "# Display first n rows\n",
    "data.head(3)"
   ]
  },
  {
   "cell_type": "code",
   "execution_count": 15,
   "metadata": {
    "colab": {
     "base_uri": "https://localhost:8080/",
     "height": 204
    },
    "colab_type": "code",
    "executionInfo": {
     "elapsed": 534,
     "status": "ok",
     "timestamp": 1588815599420,
     "user": {
      "displayName": "Scott Stoltzman",
      "photoUrl": "https://lh3.googleusercontent.com/a-/AOh14GiWnHiUIO9IXvseH5kKiZ5QvgvCCSHdHNk5RE7a0Tz5Fhj7U4XVQHSsbkr3xG5P-SOZ3HXEeHlo6sk-DEHzFYIopGNi485SHhMqHll10fNBT8arFAWqi8w2l4ZrcPONI6rQBvyStzYoNGhZ30LDD_oPCK-UmB6D6qfdUn_LHKZhpJ6b5dhJQLnN62CAYeg2JvYi5jp7XfI5vhfbgd7Cr8bTATewtk1W7jGlK7pClNPvb3IyL6zbwhJ9AiJVEi32kBmEe6tJEQoMZb3jtWwl2PGrEA65oYCO3hlGJL4F0FJRyXUYckr-JDCw5dIj4xpGrGPW4XtxGlo4rKhNokDyHsZNQ_7d24T-IkZ5BfOsiW2y8OAJYPFUE63OFBB3Dqrmqr06KYDNiW7CyYNHMV0f3TUrphVpQlKkB-6dvxbzCiOb_ywcxQpl-zMtZ7DJI0kY1q_qt6v-FZW3aPbA7AjRNw4_erEr4YYD-8DVgs0MchTDRN9OqbOUkw2uH9oKl_G7qcdnQZNIPaZ-f6sIgpVoQOuw-OHuosgmlFAgxnyo2qkkV8QgLdDd01Qm99Sd8Bj7TS9KdEx0_IjdILcCExnzAmtTPoE0OOPoHmShhrGojDG9Smd4Dtk43hdRA2bY3MHru-07nrzJqnDDFUBEoaGkqn2ZqRlPbHhlvdWMNS2Pu4TmsPaf4iPgz4HYo_b_eBqbnmhBUEUTdmkmZBYH_yrrFmqqXnrXzCShB3qnfC9IBf6xhyo2r3GGkUAHGBHuXQ99TOTH0w=s64",
      "userId": "18013987934121387883"
     },
     "user_tz": 360
    },
    "id": "uSeAW-f3_LKx",
    "outputId": "e8c0d31e-bb45-4a14-c2b1-a4c3a2bde2f0"
   },
   "outputs": [
    {
     "data": {
      "text/html": [
       "<div>\n",
       "<style scoped>\n",
       "    .dataframe tbody tr th:only-of-type {\n",
       "        vertical-align: middle;\n",
       "    }\n",
       "\n",
       "    .dataframe tbody tr th {\n",
       "        vertical-align: top;\n",
       "    }\n",
       "\n",
       "    .dataframe thead th {\n",
       "        text-align: right;\n",
       "    }\n",
       "</style>\n",
       "<table border=\"1\" class=\"dataframe\">\n",
       "  <thead>\n",
       "    <tr style=\"text-align: right;\">\n",
       "      <th></th>\n",
       "      <th>weight</th>\n",
       "      <th>Time</th>\n",
       "      <th>Chick</th>\n",
       "      <th>Diet</th>\n",
       "    </tr>\n",
       "  </thead>\n",
       "  <tbody>\n",
       "    <tr>\n",
       "      <th>573</th>\n",
       "      <td>175</td>\n",
       "      <td>14</td>\n",
       "      <td>50</td>\n",
       "      <td>4</td>\n",
       "    </tr>\n",
       "    <tr>\n",
       "      <th>574</th>\n",
       "      <td>205</td>\n",
       "      <td>16</td>\n",
       "      <td>50</td>\n",
       "      <td>4</td>\n",
       "    </tr>\n",
       "    <tr>\n",
       "      <th>575</th>\n",
       "      <td>234</td>\n",
       "      <td>18</td>\n",
       "      <td>50</td>\n",
       "      <td>4</td>\n",
       "    </tr>\n",
       "    <tr>\n",
       "      <th>576</th>\n",
       "      <td>264</td>\n",
       "      <td>20</td>\n",
       "      <td>50</td>\n",
       "      <td>4</td>\n",
       "    </tr>\n",
       "    <tr>\n",
       "      <th>577</th>\n",
       "      <td>264</td>\n",
       "      <td>21</td>\n",
       "      <td>50</td>\n",
       "      <td>4</td>\n",
       "    </tr>\n",
       "  </tbody>\n",
       "</table>\n",
       "</div>"
      ],
      "text/plain": [
       "     weight  Time  Chick  Diet\n",
       "573     175    14     50     4\n",
       "574     205    16     50     4\n",
       "575     234    18     50     4\n",
       "576     264    20     50     4\n",
       "577     264    21     50     4"
      ]
     },
     "execution_count": 15,
     "metadata": {
      "tags": []
     },
     "output_type": "execute_result"
    }
   ],
   "source": [
    "# Display last n rows\n",
    "data.tail()"
   ]
  },
  {
   "cell_type": "code",
   "execution_count": 16,
   "metadata": {
    "colab": {
     "base_uri": "https://localhost:8080/",
     "height": 204
    },
    "colab_type": "code",
    "executionInfo": {
     "elapsed": 923,
     "status": "ok",
     "timestamp": 1588815664380,
     "user": {
      "displayName": "Scott Stoltzman",
      "photoUrl": "https://lh3.googleusercontent.com/a-/AOh14GiWnHiUIO9IXvseH5kKiZ5QvgvCCSHdHNk5RE7a0Tz5Fhj7U4XVQHSsbkr3xG5P-SOZ3HXEeHlo6sk-DEHzFYIopGNi485SHhMqHll10fNBT8arFAWqi8w2l4ZrcPONI6rQBvyStzYoNGhZ30LDD_oPCK-UmB6D6qfdUn_LHKZhpJ6b5dhJQLnN62CAYeg2JvYi5jp7XfI5vhfbgd7Cr8bTATewtk1W7jGlK7pClNPvb3IyL6zbwhJ9AiJVEi32kBmEe6tJEQoMZb3jtWwl2PGrEA65oYCO3hlGJL4F0FJRyXUYckr-JDCw5dIj4xpGrGPW4XtxGlo4rKhNokDyHsZNQ_7d24T-IkZ5BfOsiW2y8OAJYPFUE63OFBB3Dqrmqr06KYDNiW7CyYNHMV0f3TUrphVpQlKkB-6dvxbzCiOb_ywcxQpl-zMtZ7DJI0kY1q_qt6v-FZW3aPbA7AjRNw4_erEr4YYD-8DVgs0MchTDRN9OqbOUkw2uH9oKl_G7qcdnQZNIPaZ-f6sIgpVoQOuw-OHuosgmlFAgxnyo2qkkV8QgLdDd01Qm99Sd8Bj7TS9KdEx0_IjdILcCExnzAmtTPoE0OOPoHmShhrGojDG9Smd4Dtk43hdRA2bY3MHru-07nrzJqnDDFUBEoaGkqn2ZqRlPbHhlvdWMNS2Pu4TmsPaf4iPgz4HYo_b_eBqbnmhBUEUTdmkmZBYH_yrrFmqqXnrXzCShB3qnfC9IBf6xhyo2r3GGkUAHGBHuXQ99TOTH0w=s64",
      "userId": "18013987934121387883"
     },
     "user_tz": 360
    },
    "id": "pmR842kWAQw4",
    "outputId": "deb578df-f6c7-43e7-d645-860b46ce6af2"
   },
   "outputs": [
    {
     "name": "stdout",
     "output_type": "stream",
     "text": [
      "<class 'pandas.core.frame.DataFrame'>\n",
      "RangeIndex: 578 entries, 0 to 577\n",
      "Data columns (total 4 columns):\n",
      " #   Column  Non-Null Count  Dtype\n",
      "---  ------  --------------  -----\n",
      " 0   weight  578 non-null    int64\n",
      " 1   Time    578 non-null    int64\n",
      " 2   Chick   578 non-null    int64\n",
      " 3   Diet    578 non-null    int64\n",
      "dtypes: int64(4)\n",
      "memory usage: 18.2 KB\n"
     ]
    }
   ],
   "source": [
    "# Display data basic column names, data types, etc.\n",
    "data.info()"
   ]
  },
  {
   "cell_type": "markdown",
   "metadata": {
    "colab_type": "text",
    "id": "wWxzvjOP_gbH"
   },
   "source": [
    "Identifying unique values:"
   ]
  },
  {
   "cell_type": "code",
   "execution_count": 27,
   "metadata": {
    "colab": {
     "base_uri": "https://localhost:8080/",
     "height": 34
    },
    "colab_type": "code",
    "executionInfo": {
     "elapsed": 870,
     "status": "ok",
     "timestamp": 1588816173410,
     "user": {
      "displayName": "Scott Stoltzman",
      "photoUrl": "https://lh3.googleusercontent.com/a-/AOh14GiWnHiUIO9IXvseH5kKiZ5QvgvCCSHdHNk5RE7a0Tz5Fhj7U4XVQHSsbkr3xG5P-SOZ3HXEeHlo6sk-DEHzFYIopGNi485SHhMqHll10fNBT8arFAWqi8w2l4ZrcPONI6rQBvyStzYoNGhZ30LDD_oPCK-UmB6D6qfdUn_LHKZhpJ6b5dhJQLnN62CAYeg2JvYi5jp7XfI5vhfbgd7Cr8bTATewtk1W7jGlK7pClNPvb3IyL6zbwhJ9AiJVEi32kBmEe6tJEQoMZb3jtWwl2PGrEA65oYCO3hlGJL4F0FJRyXUYckr-JDCw5dIj4xpGrGPW4XtxGlo4rKhNokDyHsZNQ_7d24T-IkZ5BfOsiW2y8OAJYPFUE63OFBB3Dqrmqr06KYDNiW7CyYNHMV0f3TUrphVpQlKkB-6dvxbzCiOb_ywcxQpl-zMtZ7DJI0kY1q_qt6v-FZW3aPbA7AjRNw4_erEr4YYD-8DVgs0MchTDRN9OqbOUkw2uH9oKl_G7qcdnQZNIPaZ-f6sIgpVoQOuw-OHuosgmlFAgxnyo2qkkV8QgLdDd01Qm99Sd8Bj7TS9KdEx0_IjdILcCExnzAmtTPoE0OOPoHmShhrGojDG9Smd4Dtk43hdRA2bY3MHru-07nrzJqnDDFUBEoaGkqn2ZqRlPbHhlvdWMNS2Pu4TmsPaf4iPgz4HYo_b_eBqbnmhBUEUTdmkmZBYH_yrrFmqqXnrXzCShB3qnfC9IBf6xhyo2r3GGkUAHGBHuXQ99TOTH0w=s64",
      "userId": "18013987934121387883"
     },
     "user_tz": 360
    },
    "id": "7QCMvkGh_PMg",
    "outputId": "79371c5a-f9a6-4286-ac4e-06cdbed54cb4"
   },
   "outputs": [
    {
     "data": {
      "text/plain": [
       "array([1, 2, 3, 4])"
      ]
     },
     "execution_count": 27,
     "metadata": {
      "tags": []
     },
     "output_type": "execute_result"
    }
   ],
   "source": [
    "# Display unique values from the Diet column\n",
    "data['Diet'].unique()"
   ]
  },
  {
   "cell_type": "markdown",
   "metadata": {
    "colab_type": "text",
    "id": "dvl4AezS_09O"
   },
   "source": [
    "Basic stats:"
   ]
  },
  {
   "cell_type": "code",
   "execution_count": 25,
   "metadata": {
    "colab": {
     "base_uri": "https://localhost:8080/",
     "height": 297
    },
    "colab_type": "code",
    "executionInfo": {
     "elapsed": 864,
     "status": "ok",
     "timestamp": 1588816084255,
     "user": {
      "displayName": "Scott Stoltzman",
      "photoUrl": "https://lh3.googleusercontent.com/a-/AOh14GiWnHiUIO9IXvseH5kKiZ5QvgvCCSHdHNk5RE7a0Tz5Fhj7U4XVQHSsbkr3xG5P-SOZ3HXEeHlo6sk-DEHzFYIopGNi485SHhMqHll10fNBT8arFAWqi8w2l4ZrcPONI6rQBvyStzYoNGhZ30LDD_oPCK-UmB6D6qfdUn_LHKZhpJ6b5dhJQLnN62CAYeg2JvYi5jp7XfI5vhfbgd7Cr8bTATewtk1W7jGlK7pClNPvb3IyL6zbwhJ9AiJVEi32kBmEe6tJEQoMZb3jtWwl2PGrEA65oYCO3hlGJL4F0FJRyXUYckr-JDCw5dIj4xpGrGPW4XtxGlo4rKhNokDyHsZNQ_7d24T-IkZ5BfOsiW2y8OAJYPFUE63OFBB3Dqrmqr06KYDNiW7CyYNHMV0f3TUrphVpQlKkB-6dvxbzCiOb_ywcxQpl-zMtZ7DJI0kY1q_qt6v-FZW3aPbA7AjRNw4_erEr4YYD-8DVgs0MchTDRN9OqbOUkw2uH9oKl_G7qcdnQZNIPaZ-f6sIgpVoQOuw-OHuosgmlFAgxnyo2qkkV8QgLdDd01Qm99Sd8Bj7TS9KdEx0_IjdILcCExnzAmtTPoE0OOPoHmShhrGojDG9Smd4Dtk43hdRA2bY3MHru-07nrzJqnDDFUBEoaGkqn2ZqRlPbHhlvdWMNS2Pu4TmsPaf4iPgz4HYo_b_eBqbnmhBUEUTdmkmZBYH_yrrFmqqXnrXzCShB3qnfC9IBf6xhyo2r3GGkUAHGBHuXQ99TOTH0w=s64",
      "userId": "18013987934121387883"
     },
     "user_tz": 360
    },
    "id": "9y2hwi-j_So3",
    "outputId": "48d543f7-15f8-4981-e087-a617469fc1e4"
   },
   "outputs": [
    {
     "data": {
      "text/html": [
       "<div>\n",
       "<style scoped>\n",
       "    .dataframe tbody tr th:only-of-type {\n",
       "        vertical-align: middle;\n",
       "    }\n",
       "\n",
       "    .dataframe tbody tr th {\n",
       "        vertical-align: top;\n",
       "    }\n",
       "\n",
       "    .dataframe thead th {\n",
       "        text-align: right;\n",
       "    }\n",
       "</style>\n",
       "<table border=\"1\" class=\"dataframe\">\n",
       "  <thead>\n",
       "    <tr style=\"text-align: right;\">\n",
       "      <th></th>\n",
       "      <th>weight</th>\n",
       "      <th>Time</th>\n",
       "      <th>Chick</th>\n",
       "      <th>Diet</th>\n",
       "    </tr>\n",
       "  </thead>\n",
       "  <tbody>\n",
       "    <tr>\n",
       "      <th>count</th>\n",
       "      <td>578.000000</td>\n",
       "      <td>578.000000</td>\n",
       "      <td>578.000000</td>\n",
       "      <td>578.000000</td>\n",
       "    </tr>\n",
       "    <tr>\n",
       "      <th>mean</th>\n",
       "      <td>121.818339</td>\n",
       "      <td>10.717993</td>\n",
       "      <td>25.750865</td>\n",
       "      <td>2.235294</td>\n",
       "    </tr>\n",
       "    <tr>\n",
       "      <th>std</th>\n",
       "      <td>71.071960</td>\n",
       "      <td>6.758400</td>\n",
       "      <td>14.568795</td>\n",
       "      <td>1.162678</td>\n",
       "    </tr>\n",
       "    <tr>\n",
       "      <th>min</th>\n",
       "      <td>35.000000</td>\n",
       "      <td>0.000000</td>\n",
       "      <td>1.000000</td>\n",
       "      <td>1.000000</td>\n",
       "    </tr>\n",
       "    <tr>\n",
       "      <th>25%</th>\n",
       "      <td>63.000000</td>\n",
       "      <td>4.000000</td>\n",
       "      <td>13.000000</td>\n",
       "      <td>1.000000</td>\n",
       "    </tr>\n",
       "    <tr>\n",
       "      <th>50%</th>\n",
       "      <td>103.000000</td>\n",
       "      <td>10.000000</td>\n",
       "      <td>26.000000</td>\n",
       "      <td>2.000000</td>\n",
       "    </tr>\n",
       "    <tr>\n",
       "      <th>75%</th>\n",
       "      <td>163.750000</td>\n",
       "      <td>16.000000</td>\n",
       "      <td>38.000000</td>\n",
       "      <td>3.000000</td>\n",
       "    </tr>\n",
       "    <tr>\n",
       "      <th>max</th>\n",
       "      <td>373.000000</td>\n",
       "      <td>21.000000</td>\n",
       "      <td>50.000000</td>\n",
       "      <td>4.000000</td>\n",
       "    </tr>\n",
       "  </tbody>\n",
       "</table>\n",
       "</div>"
      ],
      "text/plain": [
       "           weight        Time       Chick        Diet\n",
       "count  578.000000  578.000000  578.000000  578.000000\n",
       "mean   121.818339   10.717993   25.750865    2.235294\n",
       "std     71.071960    6.758400   14.568795    1.162678\n",
       "min     35.000000    0.000000    1.000000    1.000000\n",
       "25%     63.000000    4.000000   13.000000    1.000000\n",
       "50%    103.000000   10.000000   26.000000    2.000000\n",
       "75%    163.750000   16.000000   38.000000    3.000000\n",
       "max    373.000000   21.000000   50.000000    4.000000"
      ]
     },
     "execution_count": 25,
     "metadata": {
      "tags": []
     },
     "output_type": "execute_result"
    }
   ],
   "source": [
    "# Show basic stats such as count, mean, std... for each column\n",
    "data.describe()"
   ]
  },
  {
   "cell_type": "markdown",
   "metadata": {
    "colab_type": "text",
    "id": "GClGlhoJBnrS"
   },
   "source": [
    "## Basic Plotting"
   ]
  },
  {
   "cell_type": "code",
   "execution_count": 26,
   "metadata": {
    "colab": {
     "base_uri": "https://localhost:8080/",
     "height": 282
    },
    "colab_type": "code",
    "executionInfo": {
     "elapsed": 772,
     "status": "ok",
     "timestamp": 1588816143306,
     "user": {
      "displayName": "Scott Stoltzman",
      "photoUrl": "https://lh3.googleusercontent.com/a-/AOh14GiWnHiUIO9IXvseH5kKiZ5QvgvCCSHdHNk5RE7a0Tz5Fhj7U4XVQHSsbkr3xG5P-SOZ3HXEeHlo6sk-DEHzFYIopGNi485SHhMqHll10fNBT8arFAWqi8w2l4ZrcPONI6rQBvyStzYoNGhZ30LDD_oPCK-UmB6D6qfdUn_LHKZhpJ6b5dhJQLnN62CAYeg2JvYi5jp7XfI5vhfbgd7Cr8bTATewtk1W7jGlK7pClNPvb3IyL6zbwhJ9AiJVEi32kBmEe6tJEQoMZb3jtWwl2PGrEA65oYCO3hlGJL4F0FJRyXUYckr-JDCw5dIj4xpGrGPW4XtxGlo4rKhNokDyHsZNQ_7d24T-IkZ5BfOsiW2y8OAJYPFUE63OFBB3Dqrmqr06KYDNiW7CyYNHMV0f3TUrphVpQlKkB-6dvxbzCiOb_ywcxQpl-zMtZ7DJI0kY1q_qt6v-FZW3aPbA7AjRNw4_erEr4YYD-8DVgs0MchTDRN9OqbOUkw2uH9oKl_G7qcdnQZNIPaZ-f6sIgpVoQOuw-OHuosgmlFAgxnyo2qkkV8QgLdDd01Qm99Sd8Bj7TS9KdEx0_IjdILcCExnzAmtTPoE0OOPoHmShhrGojDG9Smd4Dtk43hdRA2bY3MHru-07nrzJqnDDFUBEoaGkqn2ZqRlPbHhlvdWMNS2Pu4TmsPaf4iPgz4HYo_b_eBqbnmhBUEUTdmkmZBYH_yrrFmqqXnrXzCShB3qnfC9IBf6xhyo2r3GGkUAHGBHuXQ99TOTH0w=s64",
      "userId": "18013987934121387883"
     },
     "user_tz": 360
    },
    "id": "1s81xzUs_zD7",
    "outputId": "594986ba-0d1a-4e50-f1bc-e43bd7b892bf"
   },
   "outputs": [
    {
     "data": {
      "text/plain": [
       "<matplotlib.axes._subplots.AxesSubplot at 0x7f3db098a518>"
      ]
     },
     "execution_count": 26,
     "metadata": {
      "tags": []
     },
     "output_type": "execute_result"
    },
    {
     "data": {
      "image/png": "[encoded data removed]",
      "text/plain": [
       "<Figure size 432x288 with 1 Axes>"
      ]
     },
     "metadata": {
      "needs_background": "light",
      "tags": []
     },
     "output_type": "display_data"
    }
   ],
   "source": [
    "# Simply using plot method on DataFrame\n",
    "data.plot()"
   ]
  },
  {
   "cell_type": "code",
   "execution_count": 29,
   "metadata": {
    "colab": {
     "base_uri": "https://localhost:8080/",
     "height": 282
    },
    "colab_type": "code",
    "executionInfo": {
     "elapsed": 1028,
     "status": "ok",
     "timestamp": 1588816198494,
     "user": {
      "displayName": "Scott Stoltzman",
      "photoUrl": "https://lh3.googleusercontent.com/a-/AOh14GiWnHiUIO9IXvseH5kKiZ5QvgvCCSHdHNk5RE7a0Tz5Fhj7U4XVQHSsbkr3xG5P-SOZ3HXEeHlo6sk-DEHzFYIopGNi485SHhMqHll10fNBT8arFAWqi8w2l4ZrcPONI6rQBvyStzYoNGhZ30LDD_oPCK-UmB6D6qfdUn_LHKZhpJ6b5dhJQLnN62CAYeg2JvYi5jp7XfI5vhfbgd7Cr8bTATewtk1W7jGlK7pClNPvb3IyL6zbwhJ9AiJVEi32kBmEe6tJEQoMZb3jtWwl2PGrEA65oYCO3hlGJL4F0FJRyXUYckr-JDCw5dIj4xpGrGPW4XtxGlo4rKhNokDyHsZNQ_7d24T-IkZ5BfOsiW2y8OAJYPFUE63OFBB3Dqrmqr06KYDNiW7CyYNHMV0f3TUrphVpQlKkB-6dvxbzCiOb_ywcxQpl-zMtZ7DJI0kY1q_qt6v-FZW3aPbA7AjRNw4_erEr4YYD-8DVgs0MchTDRN9OqbOUkw2uH9oKl_G7qcdnQZNIPaZ-f6sIgpVoQOuw-OHuosgmlFAgxnyo2qkkV8QgLdDd01Qm99Sd8Bj7TS9KdEx0_IjdILcCExnzAmtTPoE0OOPoHmShhrGojDG9Smd4Dtk43hdRA2bY3MHru-07nrzJqnDDFUBEoaGkqn2ZqRlPbHhlvdWMNS2Pu4TmsPaf4iPgz4HYo_b_eBqbnmhBUEUTdmkmZBYH_yrrFmqqXnrXzCShB3qnfC9IBf6xhyo2r3GGkUAHGBHuXQ99TOTH0w=s64",
      "userId": "18013987934121387883"
     },
     "user_tz": 360
    },
    "id": "wsqG7F_-_68q",
    "outputId": "01b31474-e29d-4655-a3ad-9943c31a2987"
   },
   "outputs": [
    {
     "data": {
      "text/plain": [
       "<matplotlib.axes._subplots.AxesSubplot at 0x7f3db0f78320>"
      ]
     },
     "execution_count": 29,
     "metadata": {
      "tags": []
     },
     "output_type": "execute_result"
    },
    {
     "data": {
      "image/png": "[encoded data removed]",
      "text/plain": [
       "<Figure size 432x288 with 1 Axes>"
      ]
     },
     "metadata": {
      "needs_background": "light",
      "tags": []
     },
     "output_type": "display_data"
    }
   ],
   "source": [
    "# Plotting only weight column\n",
    "data['weight'].plot()"
   ]
  },
  {
   "cell_type": "code",
   "execution_count": 30,
   "metadata": {
    "colab": {
     "base_uri": "https://localhost:8080/",
     "height": 296
    },
    "colab_type": "code",
    "executionInfo": {
     "elapsed": 900,
     "status": "ok",
     "timestamp": 1588816307954,
     "user": {
      "displayName": "Scott Stoltzman",
      "photoUrl": "https://lh3.googleusercontent.com/a-/AOh14GiWnHiUIO9IXvseH5kKiZ5QvgvCCSHdHNk5RE7a0Tz5Fhj7U4XVQHSsbkr3xG5P-SOZ3HXEeHlo6sk-DEHzFYIopGNi485SHhMqHll10fNBT8arFAWqi8w2l4ZrcPONI6rQBvyStzYoNGhZ30LDD_oPCK-UmB6D6qfdUn_LHKZhpJ6b5dhJQLnN62CAYeg2JvYi5jp7XfI5vhfbgd7Cr8bTATewtk1W7jGlK7pClNPvb3IyL6zbwhJ9AiJVEi32kBmEe6tJEQoMZb3jtWwl2PGrEA65oYCO3hlGJL4F0FJRyXUYckr-JDCw5dIj4xpGrGPW4XtxGlo4rKhNokDyHsZNQ_7d24T-IkZ5BfOsiW2y8OAJYPFUE63OFBB3Dqrmqr06KYDNiW7CyYNHMV0f3TUrphVpQlKkB-6dvxbzCiOb_ywcxQpl-zMtZ7DJI0kY1q_qt6v-FZW3aPbA7AjRNw4_erEr4YYD-8DVgs0MchTDRN9OqbOUkw2uH9oKl_G7qcdnQZNIPaZ-f6sIgpVoQOuw-OHuosgmlFAgxnyo2qkkV8QgLdDd01Qm99Sd8Bj7TS9KdEx0_IjdILcCExnzAmtTPoE0OOPoHmShhrGojDG9Smd4Dtk43hdRA2bY3MHru-07nrzJqnDDFUBEoaGkqn2ZqRlPbHhlvdWMNS2Pu4TmsPaf4iPgz4HYo_b_eBqbnmhBUEUTdmkmZBYH_yrrFmqqXnrXzCShB3qnfC9IBf6xhyo2r3GGkUAHGBHuXQ99TOTH0w=s64",
      "userId": "18013987934121387883"
     },
     "user_tz": 360
    },
    "id": "kKpCAbkgCMNg",
    "outputId": "83f032ea-2231-4c06-e030-7564d29fa840"
   },
   "outputs": [
    {
     "data": {
      "text/plain": [
       "<matplotlib.axes._subplots.AxesSubplot at 0x7f3db037c320>"
      ]
     },
     "execution_count": 30,
     "metadata": {
      "tags": []
     },
     "output_type": "execute_result"
    },
    {
     "data": {
      "image/png": "[encoded data removed]",
      "text/plain": [
       "<Figure size 432x288 with 1 Axes>"
      ]
     },
     "metadata": {
      "needs_background": "light",
      "tags": []
     },
     "output_type": "display_data"
    }
   ],
   "source": [
    "# Scatterplot of Time vs Weight\n",
    "data.plot.scatter(x='Time', y='weight')"
   ]
  },
  {
   "cell_type": "code",
   "execution_count": 31,
   "metadata": {
    "colab": {
     "base_uri": "https://localhost:8080/",
     "height": 275
    },
    "colab_type": "code",
    "executionInfo": {
     "elapsed": 1175,
     "status": "ok",
     "timestamp": 1588816344065,
     "user": {
      "displayName": "Scott Stoltzman",
      "photoUrl": "https://lh3.googleusercontent.com/a-/AOh14GiWnHiUIO9IXvseH5kKiZ5QvgvCCSHdHNk5RE7a0Tz5Fhj7U4XVQHSsbkr3xG5P-SOZ3HXEeHlo6sk-DEHzFYIopGNi485SHhMqHll10fNBT8arFAWqi8w2l4ZrcPONI6rQBvyStzYoNGhZ30LDD_oPCK-UmB6D6qfdUn_LHKZhpJ6b5dhJQLnN62CAYeg2JvYi5jp7XfI5vhfbgd7Cr8bTATewtk1W7jGlK7pClNPvb3IyL6zbwhJ9AiJVEi32kBmEe6tJEQoMZb3jtWwl2PGrEA65oYCO3hlGJL4F0FJRyXUYckr-JDCw5dIj4xpGrGPW4XtxGlo4rKhNokDyHsZNQ_7d24T-IkZ5BfOsiW2y8OAJYPFUE63OFBB3Dqrmqr06KYDNiW7CyYNHMV0f3TUrphVpQlKkB-6dvxbzCiOb_ywcxQpl-zMtZ7DJI0kY1q_qt6v-FZW3aPbA7AjRNw4_erEr4YYD-8DVgs0MchTDRN9OqbOUkw2uH9oKl_G7qcdnQZNIPaZ-f6sIgpVoQOuw-OHuosgmlFAgxnyo2qkkV8QgLdDd01Qm99Sd8Bj7TS9KdEx0_IjdILcCExnzAmtTPoE0OOPoHmShhrGojDG9Smd4Dtk43hdRA2bY3MHru-07nrzJqnDDFUBEoaGkqn2ZqRlPbHhlvdWMNS2Pu4TmsPaf4iPgz4HYo_b_eBqbnmhBUEUTdmkmZBYH_yrrFmqqXnrXzCShB3qnfC9IBf6xhyo2r3GGkUAHGBHuXQ99TOTH0w=s64",
      "userId": "18013987934121387883"
     },
     "user_tz": 360
    },
    "id": "WxNc8Z_kCZNF",
    "outputId": "4cb89c04-26d1-4fae-96f6-60d74d433c15"
   },
   "outputs": [
    {
     "data": {
      "text/plain": [
       "<matplotlib.axes._subplots.AxesSubplot at 0x7f3db0383fd0>"
      ]
     },
     "execution_count": 31,
     "metadata": {
      "tags": []
     },
     "output_type": "execute_result"
    },
    {
     "data": {
      "image/png": "[encoded data removed]",
      "text/plain": [
       "<Figure size 432x288 with 2 Axes>"
      ]
     },
     "metadata": {
      "needs_background": "light",
      "tags": []
     },
     "output_type": "display_data"
    }
   ],
   "source": [
    "# Same plot as before, but add color for diet type\n",
    "data.plot.scatter(x='Time', y='weight', c='Diet')"
   ]
  },
  {
   "cell_type": "markdown",
   "metadata": {
    "colab_type": "text",
    "id": "SOoasTBbHRN6"
   },
   "source": [
    "Unfortunately `pandas` does not have an easy solution to utilize `'Diet'` as a discrete categorical variable. A more advanced plotting style would have to be utilized. This will be discussed in an upcoming class."
   ]
  },
  {
   "cell_type": "code",
   "execution_count": 34,
   "metadata": {
    "colab": {
     "base_uri": "https://localhost:8080/",
     "height": 238
    },
    "colab_type": "code",
    "executionInfo": {
     "elapsed": 847,
     "status": "ok",
     "timestamp": 1588816419358,
     "user": {
      "displayName": "Scott Stoltzman",
      "photoUrl": "https://lh3.googleusercontent.com/a-/AOh14GiWnHiUIO9IXvseH5kKiZ5QvgvCCSHdHNk5RE7a0Tz5Fhj7U4XVQHSsbkr3xG5P-SOZ3HXEeHlo6sk-DEHzFYIopGNi485SHhMqHll10fNBT8arFAWqi8w2l4ZrcPONI6rQBvyStzYoNGhZ30LDD_oPCK-UmB6D6qfdUn_LHKZhpJ6b5dhJQLnN62CAYeg2JvYi5jp7XfI5vhfbgd7Cr8bTATewtk1W7jGlK7pClNPvb3IyL6zbwhJ9AiJVEi32kBmEe6tJEQoMZb3jtWwl2PGrEA65oYCO3hlGJL4F0FJRyXUYckr-JDCw5dIj4xpGrGPW4XtxGlo4rKhNokDyHsZNQ_7d24T-IkZ5BfOsiW2y8OAJYPFUE63OFBB3Dqrmqr06KYDNiW7CyYNHMV0f3TUrphVpQlKkB-6dvxbzCiOb_ywcxQpl-zMtZ7DJI0kY1q_qt6v-FZW3aPbA7AjRNw4_erEr4YYD-8DVgs0MchTDRN9OqbOUkw2uH9oKl_G7qcdnQZNIPaZ-f6sIgpVoQOuw-OHuosgmlFAgxnyo2qkkV8QgLdDd01Qm99Sd8Bj7TS9KdEx0_IjdILcCExnzAmtTPoE0OOPoHmShhrGojDG9Smd4Dtk43hdRA2bY3MHru-07nrzJqnDDFUBEoaGkqn2ZqRlPbHhlvdWMNS2Pu4TmsPaf4iPgz4HYo_b_eBqbnmhBUEUTdmkmZBYH_yrrFmqqXnrXzCShB3qnfC9IBf6xhyo2r3GGkUAHGBHuXQ99TOTH0w=s64",
      "userId": "18013987934121387883"
     },
     "user_tz": 360
    },
    "id": "P1dDT74ACueL",
    "outputId": "adf15777-8c4d-4827-fad7-91d3c65098dd"
   },
   "outputs": [
    {
     "data": {
      "text/plain": [
       "0      1\n",
       "1      1\n",
       "2      1\n",
       "3      1\n",
       "4      1\n",
       "      ..\n",
       "573    4\n",
       "574    4\n",
       "575    4\n",
       "576    4\n",
       "577    4\n",
       "Name: Diet, Length: 578, dtype: category\n",
       "Categories (4, int64): [1, 2, 3, 4]"
      ]
     },
     "execution_count": 34,
     "metadata": {
      "tags": []
     },
     "output_type": "execute_result"
    }
   ],
   "source": [
    "data['Diet'].astype('category')"
   ]
  },
  {
   "cell_type": "code",
   "execution_count": null,
   "metadata": {
    "colab": {},
    "colab_type": "code",
    "id": "lvORdWGHDHnY"
   },
   "outputs": [],
   "source": [
    "\n"
   ]
  }
 ],
 "metadata": {
  "colab": {
   "authorship_tag": "ABX9TyN822AUnjMi6eEbJVZdEWgZ",
   "collapsed_sections": [],
   "name": "02 - In Class - Python and Pandas.ipynb",
   "provenance": [],
   "toc_visible": true
  },
  "kernelspec": {
   "display_name": "Python 3",
   "language": "python",
   "name": "python3"
  },
  "language_info": {
   "codemirror_mode": {
    "name": "ipython",
    "version": 3
   },
   "file_extension": ".py",
   "mimetype": "text/x-python",
   "name": "python",
   "nbconvert_exporter": "python",
   "pygments_lexer": "ipython3",
   "version": "3.7.4"
  }
 },
 "nbformat": 4,
 "nbformat_minor": 4
}
