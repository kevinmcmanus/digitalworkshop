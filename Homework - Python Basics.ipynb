{
 "cells": [
  {
   "cell_type": "markdown",
   "metadata": {
    "colab_type": "text",
    "id": "aYbOdZI_KOKl"
   },
   "source": [
    "# Introduction to Python Using (Jupyter) Notebooks  \n",
    "\n",
    "---\n",
    "\n",
    "For the purposes of this class, we are utilizing Google Colab, but in your career you will likely use \"Jupyter Notebooks.\" The technology is almost identical, but Colaboratory adds simplicity that will make teaching easier.\n",
    "\n",
    "\n",
    "Recall from class:\n",
    "\n",
    "Notebooks allow you to combine code and text in one place. Above this text block, you can see  \"+Code\" and \"+Text\" buttons. These create blocks where you choose how it should be treated by the notebook.\n"
   ]
  },
  {
   "cell_type": "markdown",
   "metadata": {
    "colab_type": "text",
    "id": "mPdzP9dmSLqW"
   },
   "source": [
    "If you are using a code block, you can hit \"shift + enter\" to run the block. Keep in mind, the order in which you run blocks of code matter!"
   ]
  },
  {
   "cell_type": "code",
   "execution_count": null,
   "metadata": {
    "colab": {},
    "colab_type": "code",
    "id": "POdmE495KNaj"
   },
   "outputs": [],
   "source": [
    "# print('Scott')\n",
    "print('Hello!')"
   ]
  },
  {
   "cell_type": "markdown",
   "metadata": {
    "colab_type": "text",
    "id": "U4qugNouSwaf"
   },
   "source": [
    "Output is printed directly after the code block is run.\n",
    "\n",
    "\n",
    "Let's quickly go through some basics of Python. \n",
    "\n",
    "What data stuctures are we dealing with, what is a:\n",
    "\n",
    "*   list\n",
    "*   dictionary\n",
    "*   set\n",
    "*   tuple\n",
    "*   DataFrame\n",
    "*   ndarray\n",
    "\n",
    "... Many more, but these will be the primary ones we will use.\n",
    "\n",
    "Let's see how to use the basic Python data types\n",
    "\n",
    "\n",
    "---\n",
    "\n"
   ]
  },
  {
   "cell_type": "code",
   "execution_count": null,
   "metadata": {
    "colab": {},
    "colab_type": "code",
    "id": "xTrvELEQH1mQ"
   },
   "outputs": [],
   "source": [
    "# Intantiate an empty list -- quick note about comments\n",
    "my_list = \n",
    "print(my_list)"
   ]
  },
  {
   "cell_type": "code",
   "execution_count": null,
   "metadata": {
    "colab": {},
    "colab_type": "code",
    "id": "jxViK0YYUE60"
   },
   "outputs": [],
   "source": [
    "# Instantiate an emtpy list (a different way)\n",
    "my_list = \n",
    "print(my_list)"
   ]
  },
  {
   "cell_type": "code",
   "execution_count": null,
   "metadata": {
    "colab": {},
    "colab_type": "code",
    "id": "APcdl8S5X75z"
   },
   "outputs": [],
   "source": [
    "# Instantiate a list with values: 1, 4, 5, 10, 3, 9\n",
    "my_list = \n",
    "print(my_list)"
   ]
  },
  {
   "cell_type": "code",
   "execution_count": null,
   "metadata": {
    "colab": {},
    "colab_type": "code",
    "id": "-vLBOHT3YB98"
   },
   "outputs": [],
   "source": [
    "# Display the 4th value (returns the value 10)\n",
    "my_list_4th_value = \n",
    "print(my_list_4th_value)"
   ]
  },
  {
   "cell_type": "code",
   "execution_count": null,
   "metadata": {
    "colab": {},
    "colab_type": "code",
    "id": "3l-a0CYFUGIB"
   },
   "outputs": [],
   "source": [
    "# Instantiate an empty dictionary\n",
    "my_dictionary = \n",
    "print(my_dictionary)"
   ]
  },
  {
   "cell_type": "code",
   "execution_count": null,
   "metadata": {
    "colab": {},
    "colab_type": "code",
    "id": "yFCTwuDGYHfI"
   },
   "outputs": [],
   "source": [
    "# Instantiate an empty dictionary (a different way)\n",
    "my_dictionary = \n",
    "print(my_dictionary)"
   ]
  },
  {
   "cell_type": "code",
   "execution_count": null,
   "metadata": {
    "colab": {},
    "colab_type": "code",
    "id": "AhXjTU-2YLY_"
   },
   "outputs": [],
   "source": [
    "# Instantiate a dictionary with values:\n",
    "# \"a\" = 3\n",
    "# \"b\" = 10\n",
    "# \"blah\" = 3\n",
    "my_dictionary = \n",
    "print(my_dictionary)"
   ]
  },
  {
   "cell_type": "code",
   "execution_count": null,
   "metadata": {
    "colab": {},
    "colab_type": "code",
    "id": "ZcOMdQqgYWMI"
   },
   "outputs": [],
   "source": [
    "# Print the value for \"b\" in the dictionary (returns the value 10)\n",
    "my_dictionary_b_value = \n",
    "print(my_dictionary_b_value)"
   ]
  },
  {
   "cell_type": "code",
   "execution_count": null,
   "metadata": {
    "colab": {},
    "colab_type": "code",
    "id": "dz9WI_JQcJIQ"
   },
   "outputs": [],
   "source": [
    "# Create a dictionary with different value types:\n",
    "# 'blah' = a_list_of_integers\n",
    "# 'blah2' = a string\n",
    "# 'blah3' = an integer\n",
    "my_dictionary_of_different_types = \n",
    "print(my_dictionary_of_different_types)"
   ]
  },
  {
   "cell_type": "code",
   "execution_count": null,
   "metadata": {
    "colab": {},
    "colab_type": "code",
    "id": "PZSsEVrSYvFT"
   },
   "outputs": [],
   "source": [
    "# Print the value from the dictionary for \"blah\"\n",
    "my_result = \n",
    "print(my_result)"
   ]
  },
  {
   "cell_type": "code",
   "execution_count": null,
   "metadata": {
    "colab": {},
    "colab_type": "code",
    "id": "IPDDYKDjUNw_"
   },
   "outputs": [],
   "source": [
    "# Create a set with values 1, 10, 4, 10, 11, 9, 9, 4\n",
    "my_set = \n",
    "print(my_set)"
   ]
  },
  {
   "cell_type": "code",
   "execution_count": null,
   "metadata": {
    "colab": {},
    "colab_type": "code",
    "id": "aWU1edC0cxY4"
   },
   "outputs": [],
   "source": [
    "# Find the difference between the previous set and another with values 100, 10, 4, 99, 100, 78\n",
    "my_set_2 = \n",
    "\n",
    "my_set_difference = \n",
    "\n",
    "print(my_set_difference)"
   ]
  },
  {
   "cell_type": "code",
   "execution_count": null,
   "metadata": {
    "colab": {},
    "colab_type": "code",
    "id": "74ju-fqrUOsw"
   },
   "outputs": [],
   "source": [
    "# Create an empty tuple\n",
    "my_tuple = \n",
    "print(my_tuple)"
   ]
  },
  {
   "cell_type": "code",
   "execution_count": null,
   "metadata": {
    "colab": {},
    "colab_type": "code",
    "id": "SkwOsFwddAz6"
   },
   "outputs": [],
   "source": [
    "# Create a tuple with values \"apple\", \"banana\", \"hello\"\n",
    "my_fun_tuple = \n",
    "print(my_fun_tuple)"
   ]
  },
  {
   "cell_type": "markdown",
   "metadata": {
    "colab_type": "text",
    "id": "hnh9BOO-0Sf3"
   },
   "source": [
    "#### Slightly more advanced:\n",
    "\n",
    "Iteratation can be powerful. What if you need to perform a calculation on every item in a list?\n",
    "\n",
    "Example of a `for` loop"
   ]
  },
  {
   "cell_type": "code",
   "execution_count": null,
   "metadata": {
    "colab": {},
    "colab_type": "code",
    "id": "jW0UkUDY0PxG"
   },
   "outputs": [],
   "source": [
    "# Use the list created at the top of this document \"my_list\"\n",
    "# Output should look like the following (without being commented out):\n",
    "\n",
    "# My Number:\n",
    "# 1\n",
    "# My Number + 5 = \n",
    "# 6\n",
    "# My Number:\n",
    "# 4\n",
    "# My Number + 5 = \n",
    "# 9\n",
    "# My Number:\n",
    "# 5\n",
    "# My Number + 5 = \n",
    "# 10\n",
    "# My Number:\n",
    "# 10\n",
    "# My Number + 5 = \n",
    "# 15\n",
    "# My Number:\n",
    "# 3\n",
    "# My Number + 5 = \n",
    "# 8\n",
    "# My Number:\n",
    "# 9\n",
    "# My Number + 5 = \n",
    "# 14\n"
   ]
  },
  {
   "cell_type": "code",
   "execution_count": null,
   "metadata": {
    "colab": {},
    "colab_type": "code",
    "id": "_Tg7Ji2i0_FP"
   },
   "outputs": [],
   "source": [
    "# That's a bit messy, let's utilize the \"f string\" notation (quick note about Python versions)\n",
    "# Output should look like the following (without being commented out):\n",
    "\n",
    "# My Number: 1 ----> My Number + 5 = 6\n",
    "# My Number: 4 ----> My Number + 5 = 9\n",
    "# My Number: 5 ----> My Number + 5 = 10\n",
    "# My Number: 10 ----> My Number + 5 = 15\n",
    "# My Number: 3 ----> My Number + 5 = 8\n",
    "# My Number: 9 ----> My Number + 5 = 14"
   ]
  },
  {
   "cell_type": "markdown",
   "metadata": {
    "colab_type": "text",
    "id": "V9AdxbN92Gge"
   },
   "source": [
    "It can be helpul to utilize functions to reduce copy/paste to improve and simplify your code. You can do so by using `def`"
   ]
  },
  {
   "cell_type": "code",
   "execution_count": null,
   "metadata": {
    "colab": {},
    "colab_type": "code",
    "id": "tVZxndzd1p_p"
   },
   "outputs": [],
   "source": [
    "# Create a function called \"add_n\" to add an arbitrary integer to an arbitrary integer input\n"
   ]
  },
  {
   "cell_type": "code",
   "execution_count": null,
   "metadata": {
    "colab": {},
    "colab_type": "code",
    "id": "Pvb_8uQO2kSw"
   },
   "outputs": [],
   "source": [
    "# Use your new function to output a value.\n",
    "# Arbitrary input = 12, \n",
    "# Arbitrary integer to add = 5\n",
    "# Output should = 17\n",
    "\n"
   ]
  },
  {
   "cell_type": "code",
   "execution_count": null,
   "metadata": {
    "colab": {},
    "colab_type": "code",
    "id": "nmdzxs0q2qHv"
   },
   "outputs": [],
   "source": [
    "# Let's utilize the add_n function in a for loop utilizing the f string notation\n",
    "# Output should look like the following (without being commented out):\n",
    "\n",
    "# My Number: 1 ----> My Number + 5 = 6\n",
    "# My Number: 4 ----> My Number + 5 = 9\n",
    "# My Number: 5 ----> My Number + 5 = 10\n",
    "# My Number: 10 ----> My Number + 5 = 15\n",
    "# My Number: 3 ----> My Number + 5 = 8\n",
    "# My Number: 9 ----> My Number + 5 = 14\n"
   ]
  },
  {
   "cell_type": "code",
   "execution_count": null,
   "metadata": {
    "colab": {},
    "colab_type": "code",
    "id": "98Q-LMuT2569"
   },
   "outputs": [],
   "source": [
    "# What if you wanted an arbitrary number to add? For example, + 2\n",
    "# Recreate the answer from the previous section but utilizing arbitrary numbers\n",
    "# Output should look like the following (without being commented out):\n",
    "\n",
    "# My Number: 1 ----> My Number + 2 = 3\n",
    "# My Number: 4 ----> My Number + 2 = 6\n",
    "# My Number: 5 ----> My Number + 2 = 7\n",
    "# My Number: 10 ----> My Number + 2 = 12\n",
    "# My Number: 3 ----> My Number + 2 = 5\n",
    "# My Number: 9 ----> My Number + 2 = 11\n"
   ]
  },
  {
   "cell_type": "code",
   "execution_count": null,
   "metadata": {
    "colab": {},
    "colab_type": "code",
    "id": "jk06NSsx3Qvy"
   },
   "outputs": [],
   "source": []
  }
 ],
 "metadata": {
  "colab": {
   "authorship_tag": "ABX9TyOwgevW9V+dKMJmPPhpYsNC",
   "collapsed_sections": [],
   "name": "Homework - Python Basics.ipynb",
   "private_outputs": true,
   "provenance": [
    {
     "file_id": "1GjKEyHMgymvWUOHjnhw-UOfxmqSvDIMf",
     "timestamp": 1587932008555
    }
   ]
  },
  "kernelspec": {
   "display_name": "Python 3",
   "language": "python",
   "name": "python3"
  },
  "language_info": {
   "codemirror_mode": {
    "name": "ipython",
    "version": 3
   },
   "file_extension": ".py",
   "mimetype": "text/x-python",
   "name": "python",
   "nbconvert_exporter": "python",
   "pygments_lexer": "ipython3",
   "version": "3.7.4"
  }
 },
 "nbformat": 4,
 "nbformat_minor": 4
}
